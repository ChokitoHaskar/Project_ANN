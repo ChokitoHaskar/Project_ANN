{
 "cells": [
  {
   "cell_type": "code",
   "execution_count": null,
   "id": "0ed1a8d8-a4d5-4e56-bc8b-829fbdb48079",
   "metadata": {},
   "outputs": [],
   "source": [
    "# Impor library pandas dan matplot\n",
    "import pandas as pd\n",
    "from matplotlib import pyplot as plt"
   ]
  },
  {
   "cell_type": "code",
   "execution_count": null,
   "id": "0ecc7fab-418f-4b1e-a885-af7831e9d61a",
   "metadata": {},
   "outputs": [],
   "source": [
    "# Set variabel untuk dataset latih\n",
    "# Separator titik koma dan decimal berupa koma karena data berasal dari excel\n",
    "data_latih = pd.read_csv('./dataset-latih.csv', sep=';', decimal=',')"
   ]
  },
  {
   "cell_type": "code",
   "execution_count": null,
   "id": "7f686b29-a3fc-4dd7-b5c5-ceee183c4733",
   "metadata": {},
   "outputs": [],
   "source": [
    "# Cek fitur parameter data latih\n",
    "data_latih.head()"
   ]
  },
  {
   "cell_type": "code",
   "execution_count": null,
   "id": "3b1e9a64-d26b-4565-a43f-f57713c6a087",
   "metadata": {},
   "outputs": [],
   "source": [
    "# Cek statistik data latih\n",
    "data_latih.describe()"
   ]
  },
  {
   "cell_type": "code",
   "execution_count": null,
   "id": "35ac3716-34a1-46e6-a2d0-5478c5a988c6",
   "metadata": {},
   "outputs": [],
   "source": [
    "# Cek total data pada dataset latih\n",
    "data_latih.count()"
   ]
  },
  {
   "cell_type": "code",
   "execution_count": null,
   "id": "a7fe8220-a3c7-4386-9761-de26b9027896",
   "metadata": {},
   "outputs": [],
   "source": [
    "# Hapus kolom data kosong\n",
    "data_latih = data_latih.dropna()"
   ]
  },
  {
   "cell_type": "code",
   "execution_count": null,
   "id": "1cfcff93-bc75-4ac8-aa2f-e1fbc9bf29db",
   "metadata": {},
   "outputs": [],
   "source": [
    "# Cek Tipe Data\n",
    "print(data_latih['Age'].dtype) # int64\n",
    "print(data_latih['Body Weight'].dtype) # object\n",
    "print(data_latih['Body Length'].dtype) # Object"
   ]
  },
  {
   "cell_type": "code",
   "execution_count": null,
   "id": "73b3ed82-8cfc-490d-8a75-bc638e2a83e5",
   "metadata": {},
   "outputs": [],
   "source": [
    "# Ubah format tipe data menjadi numeral\n",
    "data_latih['Age'] = pd.to_numeric(data_latih['Age']) # int64\n",
    "data_latih['Body Weight'] = pd.to_numeric(data_latih['Body Weight']) # float64\n",
    "data_latih['Body Length'] = pd.to_numeric(data_latih['Body Length']) # float64"
   ]
  },
  {
   "cell_type": "code",
   "execution_count": null,
   "id": "7b3eaa7e-b275-4c46-8596-bd63e5c55974",
   "metadata": {},
   "outputs": [],
   "source": [
    "# Pencarian outlier pada Fitur Age\n",
    "# Mencari Q1 dan Q3\n",
    "Q1_age = data_latih['Age'].quantile(0.25)\n",
    "Q3_age = data_latih['Age'].quantile(0.75)\n",
    "\n",
    "# Mencari IQR serta batas bawah dan batas atas\n",
    "IQR_age = Q3_age - Q1_age\n",
    "age_bawah = Q1_age - 1.5 * IQR_age\n",
    "age_atas = Q3_age + 1.5 * IQR_age\n",
    "\n",
    "# Mencari data outlier dari dataset latih\n",
    "outlier_age = data_latih.loc[(data_latih['Age'] < age_bawah) | (data_latih['Age'] > age_atas)]"
   ]
  },
  {
   "cell_type": "code",
   "execution_count": null,
   "id": "f4bc360a-0921-4a64-8769-824b63254d65",
   "metadata": {},
   "outputs": [],
   "source": [
    "# Mencari noise pada outlier age\n",
    "# Data usia wajar menurut WHO yakni 1 sampai dengan 60 bulan\n",
    "noise_age = outlier_age.loc[(outlier_age['Age'] < 1) | (outlier_age['Age'] > 60)]\n",
    "\n",
    "# Hapus data tidak wajar pada data latih\n",
    "data_latih = data_latih.drop(index = noise_age.index).reset_index(drop=True)"
   ]
  },
  {
   "cell_type": "code",
   "execution_count": null,
   "id": "2d5f4c80-0ff0-4aa6-b11c-9612dc7aba08",
   "metadata": {},
   "outputs": [],
   "source": [
    "# Pencarian outlier pada Fitur Body Weight\n",
    "# Mencari Q1 dan Q3\n",
    "Q1_weight = data_latih['Body Weight'].quantile(0.25)\n",
    "Q3_weight = data_latih['Body Weight'].quantile(0.75)\n",
    "\n",
    "# Mencari IQR serta batas bawah dan batas atas\n",
    "IQR_weight = Q3_weight - Q1_weight\n",
    "weight_bawah = Q1_weight - 1.5 * IQR_weight\n",
    "weight_atas = Q3_weight + 1.5 * IQR_weight\n",
    "\n",
    "# Mencari data outlier dari dataset latih\n",
    "outlier_weight = data_latih.loc[(data_latih['Body Weight'] < weight_bawah) | (data_latih['Body Weight'] > weight_atas)]"
   ]
  },
  {
   "cell_type": "code",
   "execution_count": null,
   "id": "73339af5-ddfe-43f0-8a35-1e2566394528",
   "metadata": {},
   "outputs": [],
   "source": [
    "# Mencari noise pada outlier Body Weight\n",
    "# Data berat wajar menurut WHO yakni 2 sampai dengan 28\n",
    "noise_weight = outlier_weight.loc[(outlier_weight['Body Weight'] < 2) | (outlier_weight['Body Weight'] > 28)]\n",
    "\n",
    "# Hapus noise pada data latih sesuai dengan index\n",
    "data_latih = data_latih.drop(index = noise_weight.index).reset_index(drop=True)"
   ]
  },
  {
   "cell_type": "code",
   "execution_count": null,
   "id": "3ccb7a3d-5af4-4592-b5ed-b9c4c8217415",
   "metadata": {},
   "outputs": [],
   "source": [
    "# Pencarian outlier pada Fitur Body Length\n",
    "# Mencari Q1 dan Q3\n",
    "Q1_length = data_latih['Body Length'].quantile(0.25)\n",
    "Q3_length = data_latih['Body Length'].quantile(0.75)\n",
    "\n",
    "# Mencari IQR serta batas bawah dan batas atas\n",
    "IQR_length = Q3_length - Q1_length\n",
    "length_bawah = Q1_length - 1.5 * IQR_length\n",
    "length_atas = Q3_length + 1.5 * IQR_length\n",
    "\n",
    "# Mencari data outlier dari dataset latih\n",
    "outlier_length = data_latih.loc[(data_latih['Body Length'] < length_bawah) | (data_latih['Body Weight'] > length_atas)]"
   ]
  },
  {
   "cell_type": "code",
   "execution_count": null,
   "id": "4bdb6271-d9db-41e2-96ea-8570ed6ccc28",
   "metadata": {},
   "outputs": [],
   "source": [
    "# Mencari noise pada outlier Body Length\n",
    "# Data panjang/tinggi wajar menurut WHO yakni 44 sampai dengan 124\n",
    "noise_length = outlier_length.loc[(outlier_length['Body Length'] < 44) | (outlier_length['Body Length'] > 124)]\n",
    "\n",
    "# Hapus noise pada data latih sesuai dengan index\n",
    "data_latih = data_latih.drop(index = noise_length.index).reset_index(drop=True)"
   ]
  },
  {
   "cell_type": "code",
   "execution_count": null,
   "id": "57247d59-e147-44be-a824-e378daa108b7",
   "metadata": {},
   "outputs": [],
   "source": [
    "# Visualisasi data berbentuk boxplot untuk data Age\n",
    "# Batasan WHO\n",
    "who_age = list(range(1,61))\n",
    "data = [data_latih['Age'], outlier_age['Age'], who_age]\n",
    "labels = ['Age', 'Outliers', 'WHO']\n",
    "\n",
    "plt.title('Data Latih - Fitur Age', loc='right')\n",
    "plt.ylabel('Umur (Bulan)')\n",
    "plt.boxplot(data, tick_labels=labels)\n",
    "plt.show()"
   ]
  },
  {
   "cell_type": "code",
   "execution_count": null,
   "id": "2c715b7f-dd07-4370-9568-e75613372eae",
   "metadata": {},
   "outputs": [],
   "source": [
    "# Visualisasi data berbentuk boxplot untuk data Body Weight\n",
    "# Batasan WHO\n",
    "who_weight = list(range(1, 29))\n",
    "data = [data_latih['Body Weight'], outlier_weight['Body Weight'], who_weight]\n",
    "labels = ['Body Weight', 'Outliers', 'WHO']\n",
    "\n",
    "plt.title('Data Latih - Fitur Body Weight', loc='right')\n",
    "plt.ylabel('Berat (Kg)')\n",
    "plt.boxplot(data, tick_labels=labels)\n",
    "plt.show()"
   ]
  },
  {
   "cell_type": "code",
   "execution_count": null,
   "id": "3aea6d10-e36b-4a27-83a5-da49de85beb4",
   "metadata": {},
   "outputs": [],
   "source": [
    "# Visualisasi data berbentuk boxplot untuk data Body Length\n",
    "# Batasan WHO\n",
    "who_length = list(range(44, 125))\n",
    "data = [data_latih['Body Length'], outlier_length['Body Length'], who_length]\n",
    "labels = ['Body Length', 'Outliers', 'WHO']\n",
    "\n",
    "plt.title('Data Latih - Fitur Body Length', loc='right')\n",
    "plt.ylabel('Berat (Kg)')\n",
    "plt.boxplot(data, tick_labels=labels)\n",
    "plt.show()"
   ]
  },
  {
   "cell_type": "code",
   "execution_count": null,
   "id": "2fb1d0d6-0fc7-4c75-be71-a153c15b7226",
   "metadata": {},
   "outputs": [],
   "source": [
    "# Eksport dataset latih mentah menjadi data_latih_clean.csv\n",
    "data_latih.to_csv('./data_latih_clean.csv', index=False)"
   ]
  }
 ],
 "metadata": {
  "kernelspec": {
   "display_name": "Python 3 (ipykernel)",
   "language": "python",
   "name": "python3"
  },
  "language_info": {
   "codemirror_mode": {
    "name": "ipython",
    "version": 3
   },
   "file_extension": ".py",
   "mimetype": "text/x-python",
   "name": "python",
   "nbconvert_exporter": "python",
   "pygments_lexer": "ipython3",
   "version": "3.13.3"
  }
 },
 "nbformat": 4,
 "nbformat_minor": 5
}
