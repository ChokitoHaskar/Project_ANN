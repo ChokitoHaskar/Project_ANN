{
 "cells": [
  {
   "cell_type": "code",
   "execution_count": 1,
   "id": "0ed1a8d8-a4d5-4e56-bc8b-829fbdb48079",
   "metadata": {},
   "outputs": [],
   "source": [
    "# Impor library pandas dan matplot\n",
    "import pandas as pd\n",
    "from matplotlib import pyplot as plt"
   ]
  },
  {
   "cell_type": "code",
   "execution_count": 2,
   "id": "0ecc7fab-418f-4b1e-a885-af7831e9d61a",
   "metadata": {},
   "outputs": [],
   "source": [
    "# Set variabel untuk dataset latih\n",
    "# Separator titik koma dan decimal berupa koma karena data berasal dari excel\n",
    "data_latih = pd.read_csv('./dataset-latih.csv', sep=';', decimal=',')"
   ]
  },
  {
   "cell_type": "code",
   "execution_count": 22,
   "id": "7f686b29-a3fc-4dd7-b5c5-ceee183c4733",
   "metadata": {},
   "outputs": [
    {
     "data": {
      "text/html": [
       "<div>\n",
       "<style scoped>\n",
       "    .dataframe tbody tr th:only-of-type {\n",
       "        vertical-align: middle;\n",
       "    }\n",
       "\n",
       "    .dataframe tbody tr th {\n",
       "        vertical-align: top;\n",
       "    }\n",
       "\n",
       "    .dataframe thead th {\n",
       "        text-align: right;\n",
       "    }\n",
       "</style>\n",
       "<table border=\"1\" class=\"dataframe\">\n",
       "  <thead>\n",
       "    <tr style=\"text-align: right;\">\n",
       "      <th></th>\n",
       "      <th>Gender</th>\n",
       "      <th>Age</th>\n",
       "      <th>Birth Weight</th>\n",
       "      <th>Birth Length</th>\n",
       "      <th>Body Weight</th>\n",
       "      <th>Body Length</th>\n",
       "      <th>Breastfeeding</th>\n",
       "      <th>Stunting</th>\n",
       "    </tr>\n",
       "  </thead>\n",
       "  <tbody>\n",
       "    <tr>\n",
       "      <th>0</th>\n",
       "      <td>Male</td>\n",
       "      <td>17</td>\n",
       "      <td>3</td>\n",
       "      <td>49</td>\n",
       "      <td>10.0</td>\n",
       "      <td>72.2</td>\n",
       "      <td>No</td>\n",
       "      <td>No</td>\n",
       "    </tr>\n",
       "    <tr>\n",
       "      <th>1</th>\n",
       "      <td>Female</td>\n",
       "      <td>11</td>\n",
       "      <td>2.9</td>\n",
       "      <td>49</td>\n",
       "      <td>2.9</td>\n",
       "      <td>65.0</td>\n",
       "      <td>No</td>\n",
       "      <td>Yes</td>\n",
       "    </tr>\n",
       "    <tr>\n",
       "      <th>2</th>\n",
       "      <td>Male</td>\n",
       "      <td>16</td>\n",
       "      <td>2.9</td>\n",
       "      <td>49</td>\n",
       "      <td>8.5</td>\n",
       "      <td>72.2</td>\n",
       "      <td>No</td>\n",
       "      <td>Yes</td>\n",
       "    </tr>\n",
       "    <tr>\n",
       "      <th>3</th>\n",
       "      <td>Male</td>\n",
       "      <td>31</td>\n",
       "      <td>2.8</td>\n",
       "      <td>49</td>\n",
       "      <td>6.4</td>\n",
       "      <td>63.0</td>\n",
       "      <td>No</td>\n",
       "      <td>Yes</td>\n",
       "    </tr>\n",
       "    <tr>\n",
       "      <th>4</th>\n",
       "      <td>Male</td>\n",
       "      <td>15</td>\n",
       "      <td>3.1</td>\n",
       "      <td>49</td>\n",
       "      <td>10.5</td>\n",
       "      <td>49.0</td>\n",
       "      <td>No</td>\n",
       "      <td>Yes</td>\n",
       "    </tr>\n",
       "  </tbody>\n",
       "</table>\n",
       "</div>"
      ],
      "text/plain": [
       "   Gender  Age Birth Weight  Birth Length  Body Weight  Body Length  \\\n",
       "0    Male   17            3            49         10.0         72.2   \n",
       "1  Female   11          2.9            49          2.9         65.0   \n",
       "2    Male   16          2.9            49          8.5         72.2   \n",
       "3    Male   31          2.8            49          6.4         63.0   \n",
       "4    Male   15          3.1            49         10.5         49.0   \n",
       "\n",
       "  Breastfeeding Stunting  \n",
       "0            No       No  \n",
       "1            No      Yes  \n",
       "2            No      Yes  \n",
       "3            No      Yes  \n",
       "4            No      Yes  "
      ]
     },
     "execution_count": 22,
     "metadata": {},
     "output_type": "execute_result"
    }
   ],
   "source": [
    "# Cek fitur parameter data latih\n",
    "data_latih.head()"
   ]
  },
  {
   "cell_type": "code",
   "execution_count": 29,
   "id": "3b1e9a64-d26b-4565-a43f-f57713c6a087",
   "metadata": {},
   "outputs": [
    {
     "data": {
      "text/html": [
       "<div>\n",
       "<style scoped>\n",
       "    .dataframe tbody tr th:only-of-type {\n",
       "        vertical-align: middle;\n",
       "    }\n",
       "\n",
       "    .dataframe tbody tr th {\n",
       "        vertical-align: top;\n",
       "    }\n",
       "\n",
       "    .dataframe thead th {\n",
       "        text-align: right;\n",
       "    }\n",
       "</style>\n",
       "<table border=\"1\" class=\"dataframe\">\n",
       "  <thead>\n",
       "    <tr style=\"text-align: right;\">\n",
       "      <th></th>\n",
       "      <th>Age</th>\n",
       "      <th>Birth Length</th>\n",
       "      <th>Body Weight</th>\n",
       "      <th>Body Length</th>\n",
       "    </tr>\n",
       "  </thead>\n",
       "  <tbody>\n",
       "    <tr>\n",
       "      <th>count</th>\n",
       "      <td>10000.000000</td>\n",
       "      <td>10000.000000</td>\n",
       "      <td>10000.000000</td>\n",
       "      <td>10000.00000</td>\n",
       "    </tr>\n",
       "    <tr>\n",
       "      <th>mean</th>\n",
       "      <td>14.255000</td>\n",
       "      <td>49.117400</td>\n",
       "      <td>7.631990</td>\n",
       "      <td>68.85492</td>\n",
       "    </tr>\n",
       "    <tr>\n",
       "      <th>std</th>\n",
       "      <td>7.923285</td>\n",
       "      <td>0.439814</td>\n",
       "      <td>1.720461</td>\n",
       "      <td>8.90664</td>\n",
       "    </tr>\n",
       "    <tr>\n",
       "      <th>min</th>\n",
       "      <td>6.000000</td>\n",
       "      <td>48.000000</td>\n",
       "      <td>2.900000</td>\n",
       "      <td>49.00000</td>\n",
       "    </tr>\n",
       "    <tr>\n",
       "      <th>25%</th>\n",
       "      <td>10.000000</td>\n",
       "      <td>49.000000</td>\n",
       "      <td>6.400000</td>\n",
       "      <td>65.00000</td>\n",
       "    </tr>\n",
       "    <tr>\n",
       "      <th>50%</th>\n",
       "      <td>13.000000</td>\n",
       "      <td>49.000000</td>\n",
       "      <td>7.700000</td>\n",
       "      <td>68.30000</td>\n",
       "    </tr>\n",
       "    <tr>\n",
       "      <th>75%</th>\n",
       "      <td>15.000000</td>\n",
       "      <td>49.000000</td>\n",
       "      <td>9.000000</td>\n",
       "      <td>72.20000</td>\n",
       "    </tr>\n",
       "    <tr>\n",
       "      <th>max</th>\n",
       "      <td>48.000000</td>\n",
       "      <td>50.000000</td>\n",
       "      <td>10.500000</td>\n",
       "      <td>92.70000</td>\n",
       "    </tr>\n",
       "  </tbody>\n",
       "</table>\n",
       "</div>"
      ],
      "text/plain": [
       "                Age  Birth Length   Body Weight  Body Length\n",
       "count  10000.000000  10000.000000  10000.000000  10000.00000\n",
       "mean      14.255000     49.117400      7.631990     68.85492\n",
       "std        7.923285      0.439814      1.720461      8.90664\n",
       "min        6.000000     48.000000      2.900000     49.00000\n",
       "25%       10.000000     49.000000      6.400000     65.00000\n",
       "50%       13.000000     49.000000      7.700000     68.30000\n",
       "75%       15.000000     49.000000      9.000000     72.20000\n",
       "max       48.000000     50.000000     10.500000     92.70000"
      ]
     },
     "execution_count": 29,
     "metadata": {},
     "output_type": "execute_result"
    }
   ],
   "source": [
    "# Cek statistik data latih\n",
    "data_latih.describe()"
   ]
  },
  {
   "cell_type": "code",
   "execution_count": 26,
   "id": "35ac3716-34a1-46e6-a2d0-5478c5a988c6",
   "metadata": {},
   "outputs": [
    {
     "data": {
      "text/plain": [
       "Gender           10000\n",
       "Age              10000\n",
       "Birth Weight     10000\n",
       "Birth Length     10000\n",
       "Body Weight      10000\n",
       "Body Length      10000\n",
       "Breastfeeding    10000\n",
       "Stunting         10000\n",
       "dtype: int64"
      ]
     },
     "execution_count": 26,
     "metadata": {},
     "output_type": "execute_result"
    }
   ],
   "source": [
    "# Cek total data pada dataset latih\n",
    "data_latih.count()"
   ]
  },
  {
   "cell_type": "code",
   "execution_count": 5,
   "id": "a7fe8220-a3c7-4386-9761-de26b9027896",
   "metadata": {},
   "outputs": [],
   "source": [
    "# Hapus kolom data kosong\n",
    "data_latih = data_latih.dropna()"
   ]
  },
  {
   "cell_type": "code",
   "execution_count": 6,
   "id": "1cfcff93-bc75-4ac8-aa2f-e1fbc9bf29db",
   "metadata": {},
   "outputs": [
    {
     "name": "stdout",
     "output_type": "stream",
     "text": [
      "int64\n",
      "object\n",
      "object\n"
     ]
    }
   ],
   "source": [
    "# Cek Tipe Data\n",
    "print(data_latih['Age'].dtype) # int64\n",
    "print(data_latih['Body Weight'].dtype) # object\n",
    "print(data_latih['Body Length'].dtype) # Object"
   ]
  },
  {
   "cell_type": "code",
   "execution_count": 28,
   "id": "73b3ed82-8cfc-490d-8a75-bc638e2a83e5",
   "metadata": {},
   "outputs": [],
   "source": [
    "# Ubah format tipe data menjadi numeral\n",
    "data_latih['Age'] = pd.to_numeric(data_latih['Age']) # int64\n",
    "data_latih['Body Weight'] = pd.to_numeric(data_latih['Body Weight']) # float64\n",
    "data_latih['Body Length'] = pd.to_numeric(data_latih['Body Length']) # float64"
   ]
  },
  {
   "cell_type": "code",
   "execution_count": 8,
   "id": "7b3eaa7e-b275-4c46-8596-bd63e5c55974",
   "metadata": {},
   "outputs": [],
   "source": [
    "# Pencarian outlier pada Fitur Age\n",
    "# Mencari Q1 dan Q3\n",
    "Q1_age = data_latih['Age'].quantile(0.25)\n",
    "Q3_age = data_latih['Age'].quantile(0.75)\n",
    "\n",
    "# Mencari IQR serta batas bawah dan batas atas\n",
    "IQR_age = Q3_age - Q1_age\n",
    "age_bawah = Q1_age - 1.5 * IQR_age\n",
    "age_atas = Q3_age + 1.5 * IQR_age\n",
    "\n",
    "# Mencari data outlier dari dataset latih\n",
    "outlier_age = data_latih.loc[(data_latih['Age'] < age_bawah) | (data_latih['Age'] > age_atas)]"
   ]
  },
  {
   "cell_type": "code",
   "execution_count": 9,
   "id": "f4bc360a-0921-4a64-8769-824b63254d65",
   "metadata": {},
   "outputs": [],
   "source": [
    "# Mencari noise pada outlier age\n",
    "# Data usia wajar menurut WHO yakni 1 sampai dengan 60 bulan\n",
    "noise_age = outlier_age.loc[(outlier_age['Age'] < 1) | (outlier_age['Age'] > 60)]\n",
    "\n",
    "# Hapus data tidak wajar pada data latih\n",
    "data_latih = data_latih.drop(index = noise_age.index).reset_index(drop=True)"
   ]
  },
  {
   "cell_type": "code",
   "execution_count": 10,
   "id": "2d5f4c80-0ff0-4aa6-b11c-9612dc7aba08",
   "metadata": {},
   "outputs": [],
   "source": [
    "# Pencarian outlier pada Fitur Body Weight\n",
    "# Mencari Q1 dan Q3\n",
    "Q1_weight = data_latih['Body Weight'].quantile(0.25)\n",
    "Q3_weight = data_latih['Body Weight'].quantile(0.75)\n",
    "\n",
    "# Mencari IQR serta batas bawah dan batas atas\n",
    "IQR_weight = Q3_weight - Q1_weight\n",
    "weight_bawah = Q1_weight - 1.5 * IQR_weight\n",
    "weight_atas = Q3_weight + 1.5 * IQR_weight\n",
    "\n",
    "# Mencari data outlier dari dataset latih\n",
    "outlier_weight = data_latih.loc[(data_latih['Body Weight'] < weight_bawah) | (data_latih['Body Weight'] > weight_atas)]"
   ]
  },
  {
   "cell_type": "code",
   "execution_count": 11,
   "id": "73339af5-ddfe-43f0-8a35-1e2566394528",
   "metadata": {},
   "outputs": [],
   "source": [
    "# Mencari noise pada outlier Body Weight\n",
    "# Data berat wajar menurut WHO yakni 2 sampai dengan 28\n",
    "noise_weight = outlier_weight.loc[(outlier_weight['Body Weight'] < 2) | (outlier_weight['Body Weight'] > 28)]\n",
    "\n",
    "# Hapus noise pada data latih sesuai dengan index\n",
    "data_latih = data_latih.drop(index = noise_weight.index).reset_index(drop=True)"
   ]
  },
  {
   "cell_type": "code",
   "execution_count": 12,
   "id": "3ccb7a3d-5af4-4592-b5ed-b9c4c8217415",
   "metadata": {},
   "outputs": [],
   "source": [
    "# Pencarian outlier pada Fitur Body Length\n",
    "# Mencari Q1 dan Q3\n",
    "Q1_length = data_latih['Body Length'].quantile(0.25)\n",
    "Q3_length = data_latih['Body Length'].quantile(0.75)\n",
    "\n",
    "# Mencari IQR serta batas bawah dan batas atas\n",
    "IQR_length = Q3_length - Q1_length\n",
    "length_bawah = Q1_length - 1.5 * IQR_length\n",
    "length_atas = Q3_length + 1.5 * IQR_length\n",
    "\n",
    "# Mencari data outlier dari dataset latih\n",
    "outlier_length = data_latih.loc[(data_latih['Body Length'] < length_bawah) | (data_latih['Body Weight'] > length_atas)]"
   ]
  },
  {
   "cell_type": "code",
   "execution_count": 13,
   "id": "4bdb6271-d9db-41e2-96ea-8570ed6ccc28",
   "metadata": {},
   "outputs": [],
   "source": [
    "# Mencari noise pada outlier Body Length\n",
    "# Data panjang/tinggi wajar menurut WHO yakni 44 sampai dengan 124\n",
    "noise_length = outlier_length.loc[(outlier_length['Body Length'] < 44) | (outlier_length['Body Length'] > 124)]\n",
    "\n",
    "# Hapus noise pada data latih sesuai dengan index\n",
    "data_latih = data_latih.drop(index = noise_length.index).reset_index(drop=True)"
   ]
  },
  {
   "cell_type": "code",
   "execution_count": 14,
   "id": "57247d59-e147-44be-a824-e378daa108b7",
   "metadata": {},
   "outputs": [
    {
     "data": {
      "image/png": "[encoded data removed]",
      "text/plain": [
       "<Figure size 640x480 with 1 Axes>"
      ]
     },
     "metadata": {},
     "output_type": "display_data"
    }
   ],
   "source": [
    "# Visualisasi data berbentuk boxplot untuk data Age\n",
    "# Batasan WHO\n",
    "who_age = list(range(1,61))\n",
    "data = [data_latih['Age'], outlier_age['Age'], who_age]\n",
    "labels = ['Age', 'Outliers', 'WHO']\n",
    "\n",
    "plt.title('Data Latih - Fitur Age', loc='right')\n",
    "plt.ylabel('Umur (Bulan)')\n",
    "plt.boxplot(data, tick_labels=labels)\n",
    "plt.show()"
   ]
  },
  {
   "cell_type": "code",
   "execution_count": 15,
   "id": "2c715b7f-dd07-4370-9568-e75613372eae",
   "metadata": {},
   "outputs": [
    {
     "data": {
      "image/png": "[encoded data removed]",
      "text/plain": [
       "<Figure size 640x480 with 1 Axes>"
      ]
     },
     "metadata": {},
     "output_type": "display_data"
    }
   ],
   "source": [
    "# Visualisasi data berbentuk boxplot untuk data Body Weight\n",
    "# Batasan WHO\n",
    "who_weight = list(range(1, 29))\n",
    "data = [data_latih['Body Weight'], outlier_weight['Body Weight'], who_weight]\n",
    "labels = ['Body Weight', 'Outliers', 'WHO']\n",
    "\n",
    "plt.title('Data Latih - Fitur Body Weight', loc='right')\n",
    "plt.ylabel('Berat (Kg)')\n",
    "plt.boxplot(data, tick_labels=labels)\n",
    "plt.show()"
   ]
  },
  {
   "cell_type": "code",
   "execution_count": 16,
   "id": "3aea6d10-e36b-4a27-83a5-da49de85beb4",
   "metadata": {},
   "outputs": [
    {
     "data": {
      "image/png": "[encoded data removed]",
      "text/plain": [
       "<Figure size 640x480 with 1 Axes>"
      ]
     },
     "metadata": {},
     "output_type": "display_data"
    }
   ],
   "source": [
    "# Visualisasi data berbentuk boxplot untuk data Body Length\n",
    "# Batasan WHO\n",
    "who_length = list(range(44, 125))\n",
    "data = [data_latih['Body Length'], outlier_length['Body Length'], who_length]\n",
    "labels = ['Body Length', 'Outliers', 'WHO']\n",
    "\n",
    "plt.title('Data Latih - Fitur Body Length', loc='right')\n",
    "plt.ylabel('Berat (Kg)')\n",
    "plt.boxplot(data, tick_labels=labels)\n",
    "plt.show()"
   ]
  },
  {
   "cell_type": "code",
   "execution_count": 17,
   "id": "1f80064b-a43a-475d-a3a6-a14d2fbf74e2",
   "metadata": {},
   "outputs": [
    {
     "data": {
      "text/plain": [
       "count    10000.00000\n",
       "mean        68.85492\n",
       "std          8.90664\n",
       "min         49.00000\n",
       "25%         65.00000\n",
       "50%         68.30000\n",
       "75%         72.20000\n",
       "max         92.70000\n",
       "Name: Body Length, dtype: float64"
      ]
     },
     "execution_count": 17,
     "metadata": {},
     "output_type": "execute_result"
    }
   ],
   "source": [
    "data_latih['Body Length'].describe()"
   ]
  },
  {
   "cell_type": "code",
   "execution_count": 18,
   "id": "2fb1d0d6-0fc7-4c75-be71-a153c15b7226",
   "metadata": {},
   "outputs": [],
   "source": [
    "# Eksport dataset latih mentah menjadi data_latih_clean.csv\n",
    "data_latih.to_csv('./data_latih_clean.csv', index=False)"
   ]
  }
 ],
 "metadata": {
  "kernelspec": {
   "display_name": "Python 3 (ipykernel)",
   "language": "python",
   "name": "python3"
  },
  "language_info": {
   "codemirror_mode": {
    "name": "ipython",
    "version": 3
   },
   "file_extension": ".py",
   "mimetype": "text/x-python",
   "name": "python",
   "nbconvert_exporter": "python",
   "pygments_lexer": "ipython3",
   "version": "3.13.3"
  }
 },
 "nbformat": 4,
 "nbformat_minor": 5
}
