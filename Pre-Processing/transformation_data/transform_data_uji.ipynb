{
 "cells": [
  {
   "cell_type": "code",
   "execution_count": null,
   "id": "fa575af1-c7a2-496c-abe3-50acea81b6c2",
   "metadata": {},
   "outputs": [],
   "source": [
    "# Import library yang diperlukan\n",
    "from matplotlib import pyplot as plt\n",
    "import pandas as pd"
   ]
  },
  {
   "cell_type": "code",
   "execution_count": null,
   "id": "3c1b8118-aabe-466a-bd45-50da1e31b2d9",
   "metadata": {},
   "outputs": [],
   "source": [
    "# Import Dataset Uji\n",
    "transform_uji = pd.read_csv('./data_uji_clean.csv')\n",
    "# Import Dataset WHO\n",
    "who_stunting = pd.read_csv('./dataset-who-stunting.csv', sep = ';', decimal = ',')\n",
    "who_wasting = pd.read_csv('./dataset-who-wasting.csv' , sep = ';', decimal = ',')"
   ]
  },
  {
   "cell_type": "code",
   "execution_count": null,
   "id": "216e8642-191d-4b4a-a0c1-cb016841dd9c",
   "metadata": {},
   "outputs": [],
   "source": [
    "# Ubah label jenis kelamin menjadi string nominal\n",
    "transform_uji.loc[transform_uji.jenisKelamin == 'L', 'jenisKelamin'] = '0'\n",
    "transform_uji.loc[transform_uji.jenisKelamin == 'P', 'jenisKelamin'] = '1'\n",
    "\n",
    "# Ubah string nominal menjadi integer nominal\n",
    "transform_uji.jenisKelamin = pd.to_numeric(transform_uji.jenisKelamin)"
   ]
  },
  {
   "cell_type": "code",
   "execution_count": null,
   "id": "48de0601-a4f5-4257-90e3-49e617c9b2c5",
   "metadata": {},
   "outputs": [],
   "source": [
    "# Buat kolom baru untuk label stunting dan wasting\n",
    "transform_uji['statusStunting'] = 'Unknown'\n",
    "transform_uji['statusWasting'] = 'Unknown'"
   ]
  },
  {
   "cell_type": "code",
   "execution_count": null,
   "id": "7d382380-2e72-49dc-b5a2-bfea4786b93d",
   "metadata": {},
   "outputs": [],
   "source": [
    "# Ubah nilai Gender pada dataset WHO stunting\n",
    "who_stunting['Gender'] = who_stunting['Gender'].str.replace('Female', '1')\n",
    "who_stunting['Gender'] = who_stunting['Gender'].str.replace('Male', '0')\n",
    "\n",
    "# Format nilai Gender menjadi numeral\n",
    "who_stunting['Gender'] = pd.to_numeric(who_stunting['Gender'])"
   ]
  },
  {
   "cell_type": "code",
   "execution_count": null,
   "id": "330c1a66-4ae1-4a54-af5e-fcc2828ca879",
   "metadata": {},
   "outputs": [],
   "source": [
    "# Ubah nilai Gender pada dataset WHO wasting\n",
    "who_wasting['Gender'] = who_wasting['Gender'].str.replace('Female', '1')\n",
    "who_wasting['Gender'] = who_wasting['Gender'].str.replace('Male', '0')\n",
    "\n",
    "# Format nilai Gender menjadi numeral\n",
    "who_wasting['Gender'] = pd.to_numeric(who_wasting['Gender'])"
   ]
  },
  {
   "cell_type": "code",
   "execution_count": null,
   "id": "c85f89b4-b853-493b-8cbb-925bb16eea44",
   "metadata": {},
   "outputs": [],
   "source": [
    "# Tentukan nilai statusStunting pada dataset uji\n",
    "# Loop seluruh data pada dataset untuk mencari zscore dan mengubah statusStunting\n",
    "for cursor_latih in transform_uji.itertuples():\n",
    "    # Cari data LMS yang sesuai dengan data cursor_latih\n",
    "    cursor_who = who_stunting.loc[(who_stunting.Month == cursor_latih.umur) & (who_stunting.Gender == cursor_latih.jenisKelamin)]\n",
    "    # Kalkulasi nilai z-score stunting\n",
    "    zscore = (((cursor_latih.tinggiBadan / cursor_who.M)**cursor_who.L)-1) / (cursor_who.L * cursor_who.S)\n",
    "    # Ubah data statusStunting\n",
    "    if zscore.item() < (-2):\n",
    "        transform_uji.loc[transform_uji.index == cursor_latih.Index, 'statusStunting'] = 1\n",
    "    else:\n",
    "        transform_uji.loc[transform_uji.index == cursor_latih.Index, 'statusStunting'] = 0"
   ]
  },
  {
   "cell_type": "code",
   "execution_count": null,
   "id": "8874cd7f-c11a-4fb7-bcc8-408591c15c6a",
   "metadata": {},
   "outputs": [],
   "source": [
    "# Membuat dataframe baru untuk data istimewa\n",
    "# istimewa disini yakni data yang tidak berkelipatan 0.5 pada dataset who-Wasting\n",
    "data_istimewa = transform_uji.loc[transform_uji.tinggiBadan % 0.5 != 0, ['jenisKelamin', 'tinggiBadan']]\n",
    "\n",
    "# Hapus duplikat pada iregular\n",
    "data_istimewa.drop_duplicates(inplace=True)"
   ]
  },
  {
   "cell_type": "code",
   "execution_count": null,
   "id": "6ab1287a-3c26-4c7c-bfed-2828eda671e1",
   "metadata": {},
   "outputs": [],
   "source": [
    "# Menyesuaikan nama kolom\n",
    "data_istimewa.rename(columns ={'jenisKelamin' : 'Gender', 'tinggiBadan' : 'Length'}, inplace=True)\n",
    "\n",
    "# Menggabungkan data pada dataframe istimewa dan dataframe WHO Weight-for-Height\n",
    "new_who_wasting = pd.concat([who_wasting, data_istimewa])"
   ]
  },
  {
   "cell_type": "code",
   "execution_count": null,
   "id": "acac73f0-59b8-4fe0-b722-56fc88f942c7",
   "metadata": {},
   "outputs": [],
   "source": [
    "# Sortir data menurut Length\n",
    "new_who_wasting.sort_values(by = ['Gender', 'Length'], inplace = True)\n",
    "\n",
    "# Reset Index\n",
    "new_who_wasting.reset_index(drop = True, inplace = True)"
   ]
  },
  {
   "cell_type": "code",
   "execution_count": null,
   "id": "0cb6cc2f-5da8-4609-a264-f185aae81d56",
   "metadata": {},
   "outputs": [],
   "source": [
    "# Menerapkan interpolasi kedalam dataframe\n",
    "# limit_area=inside untuk mengubah hanya data istimewa saja\n",
    "new_who_wasting.interpolate(limit_area = 'inside', inplace=True)"
   ]
  },
  {
   "cell_type": "code",
   "execution_count": null,
   "id": "8785562f-09b1-45f3-9bfd-0ccd230bb205",
   "metadata": {},
   "outputs": [],
   "source": [
    "# Tentukan nilai statusWasting pada dataset latih\n",
    "# Loop seluruh data pada dataset untuk mencari zscore dan mengubah statusWasting\n",
    "for cursor_latih in transform_uji.itertuples():\n",
    "    # Cari data LMS yang sesuai dengan data cursor_latih\n",
    "    cursor_who = new_who_wasting.loc[(new_who_wasting.Length == cursor_latih.tinggiBadan) & (new_who_wasting.Gender == cursor_latih.jenisKelamin)]\n",
    "    # Kalkulasi nilai z-score stunting\n",
    "    zscore = (((cursor_latih.beratBadan / cursor_who.M)**cursor_who.L)-1) / (cursor_who.L * cursor_who.S)\n",
    "    # Ubah data statusStunting\n",
    "    if zscore.item() < (-2):\n",
    "        transform_uji.loc[transform_uji.index == cursor_latih.Index, 'statusWasting'] = 1\n",
    "    else:\n",
    "        transform_uji.loc[transform_uji.index == cursor_latih.Index, 'statusWasting'] = 0"
   ]
  },
  {
   "cell_type": "code",
   "execution_count": null,
   "id": "e1aa116d-c7e3-48b7-af37-9960cd442a7f",
   "metadata": {},
   "outputs": [],
   "source": [
    "# Ubah format statusStunting dan statusWasting menjadi numeral\n",
    "transform_uji.statusStunting = pd.to_numeric(transform_uji.statusStunting) \n",
    "transform_uji.statusWasting = pd.to_numeric(transform_uji.statusWasting)"
   ]
  },
  {
   "cell_type": "code",
   "execution_count": null,
   "id": "2af61a0d-ca93-4c25-89dc-f90ead753e61",
   "metadata": {},
   "outputs": [],
   "source": [
    "# Visualisasikan Data statusStunting\n",
    "stunting = transform_uji.loc[transform_uji.statusStunting == 1, 'statusStunting'].count()\n",
    "non_stunting = transform_uji.loc[transform_uji.statusStunting == 0, 'statusStunting'].count()\n",
    "\n",
    "data = [stunting, non_stunting]\n",
    "labels = ['Stunting', 'non-Stunting']\n",
    "explode = [0.0, 0.075]\n",
    "\n",
    "fig, ax = plt.subplots()\n",
    "ax.pie(data, explode = explode, labels = labels, autopct = '%.1f%%')\n",
    "ax.axis('equal')\n",
    "\n",
    "plt.show()"
   ]
  },
  {
   "cell_type": "code",
   "execution_count": null,
   "id": "fee1b428-17b0-4754-9cbf-16fb92e36a1a",
   "metadata": {},
   "outputs": [],
   "source": [
    "# Visualisasikan Data statusWasting\n",
    "wasting = transform_uji.loc[transform_uji.statusWasting == 1, 'statusWasting'].count()\n",
    "non_wasting = transform_uji.loc[transform_uji.statusWasting == 0, 'statusWasting'].count()\n",
    "\n",
    "data = [wasting, non_wasting]\n",
    "labels = ['Wasting', 'non-Wasting']\n",
    "explode = [0.0, 0.075]\n",
    "\n",
    "fig, ax = plt.subplots()\n",
    "ax.pie(data, explode = explode, labels = labels, autopct = '%.1f%%')\n",
    "ax.axis('equal')\n",
    "\n",
    "plt.show()"
   ]
  },
  {
   "cell_type": "code",
   "execution_count": null,
   "id": "8460b7cb-5cd4-4b5b-909b-468383b5a85b",
   "metadata": {},
   "outputs": [],
   "source": [
    "# Membuat kolom keduanya atau sehat\n",
    "transform_uji['statusKeduanya'] = 'Unknown'\n",
    "transform_uji['statusSehat'] = 'Unknown'\n",
    "\n",
    "# Tentukan nilai data pada label statusKeduanya dan statusSehat\n",
    "for cursor_latih in transform_uji.itertuples():\n",
    "    # Cek status keduanya dan ubah menjadi string angka 1, bukan integer\n",
    "    if cursor_latih.statusStunting == 1:\n",
    "        if cursor_latih.statusWasting == 1:\n",
    "            transform_uji.loc[transform_uji.index == cursor_latih.Index, 'statusKeduanya'] = '1'\n",
    "            continue\n",
    "    elif cursor_latih.statusStunting == 0:\n",
    "        if cursor_latih.statusWasting == 0:\n",
    "            transform_uji.loc[transform_uji.index == cursor_latih.Index, 'statusSehat'] = '1'\n",
    "            continue\n",
    "            \n",
    "# Setelah selesai mengecek dan merubah status keduanya dan sehat\n",
    "# Ganti kata Unknown menjadi string 0, bukan integer\n",
    "transform_uji.statusKeduanya = transform_uji.statusKeduanya.str.replace('Unknown', '0')\n",
    "transform_uji.statusSehat = transform_uji.statusSehat.str.replace('Unknown', '0')\n",
    "\n",
    "# Format tipe data statusKeduanya dan statusSehat\n",
    "transform_uji.statusKeduanya = pd.to_numeric(transform_uji.statusKeduanya)\n",
    "transform_uji.statusSehat = pd.to_numeric(transform_uji.statusSehat)"
   ]
  },
  {
   "cell_type": "code",
   "execution_count": null,
   "id": "2ff2e03a-e584-48bf-b921-54da8f571627",
   "metadata": {},
   "outputs": [],
   "source": [
    "# Visualisasikan Data Keduanya, Sehat, dan Pengidap salah satu penyakit\n",
    "dataKeduanya = transform_uji.loc[transform_uji.statusKeduanya == 1, 'statusKeduanya'].count()\n",
    "dataSehat = transform_uji.loc[transform_uji.statusSehat == 1, 'statusSehat'].count()\n",
    "dataPengidap = transform_uji.jenisKelamin.count() - (dataKeduanya + dataSehat)\n",
    "\n",
    "data = [dataKeduanya, dataSehat, dataPengidap]\n",
    "labels = ['Keduanya', 'Sehat', 'Stunting atau Wasting']\n",
    "explode = [0.075, 0.075, 0.075]\n",
    "\n",
    "fig1, ax1 = plt.subplots()\n",
    "ax1.pie(data, explode = explode, autopct = '%.1f%%', labels = labels, shadow = True)\n",
    "ax1.axis('equal')\n",
    "\n",
    "plt.show()"
   ]
  },
  {
   "cell_type": "code",
   "execution_count": null,
   "id": "5c9c32b5-0ffb-4ced-8500-3c7cf8f8e75e",
   "metadata": {},
   "outputs": [],
   "source": [
    "# Pembuatan label target statusBalita\n",
    "transform_uji['statusBalita'] = 'Unknown'\n",
    "\n",
    "# Menetapkan nilai statusBalita berdasar 4 fitur\n",
    "for cursor_latih in transform_uji.itertuples():\n",
    "    if cursor_latih.statusSehat == True:\n",
    "        transform_uji.loc[transform_uji.index == cursor_latih.Index, 'statusBalita'] = 'Sehat'\n",
    "    elif cursor_latih.statusKeduanya == True:\n",
    "        transform_uji.loc[transform_uji.index == cursor_latih.Index, 'statusBalita'] = 'Keduanya'\n",
    "    elif cursor_latih.statusWasting == True:\n",
    "        transform_uji.loc[transform_uji.index == cursor_latih.Index, 'statusBalita'] = 'Wasting'\n",
    "    elif cursor_latih.statusStunting == True:\n",
    "        transform_uji.loc[transform_uji.index == cursor_latih.Index, 'statusBalita'] = 'Stunting'   "
   ]
  },
  {
   "cell_type": "code",
   "execution_count": null,
   "id": "cece433a-e8f7-4719-aa17-e98f86588662",
   "metadata": {},
   "outputs": [],
   "source": [
    "# Visualisasi Persebaran Data\n",
    "nilaiStunting = transform_uji.loc[transform_uji.statusBalita == 'Stunting', 'statusBalita'].count()\n",
    "nilaiWasting = transform_uji.loc[transform_uji.statusBalita == 'Wasting', 'statusBalita'].count()\n",
    "nilaiKeduanya = transform_uji.loc[transform_uji.statusBalita == 'Keduanya', 'statusBalita'].count()\n",
    "nilaiSehat = transform_uji.loc[transform_uji.statusBalita == 'Sehat', 'statusBalita'].count()\n",
    "\n",
    "data = [nilaiSehat, nilaiKeduanya, nilaiWasting, nilaiStunting]\n",
    "explode = [0.1, 0.1, 0.1, 0.1]\n",
    "labels = ['Sehat', 'Keduanya', 'Hanya Wasting', 'Hanya Stunting']\n",
    "\n",
    "fig, ax = plt.subplots()\n",
    "\n",
    "ax.pie(data, explode = explode, labels = labels, autopct = '%1.1f%%', shadow = True)\n",
    "ax.axis('equal')\n",
    "\n",
    "plt.show()"
   ]
  },
  {
   "cell_type": "code",
   "execution_count": null,
   "id": "3f89fb84-ad47-4416-a419-3addb6a5e236",
   "metadata": {},
   "outputs": [],
   "source": [
    "# Buat kolom baru untuk data normalisasi fitur utama\n",
    "transform_uji['nUmur'] = 'Unknown'\n",
    "transform_uji['nBeratBadan'] = 'Unknown'\n",
    "transform_uji['nTinggiBadan'] = 'Unknown'\n",
    "\n",
    "# Normalisasi setiap fitur utama numeral\n",
    "for cursor_latih in transform_uji.itertuples():\n",
    "    normalisasi_umur = (cursor_latih.umur - transform_uji.umur.min()) / (transform_uji.umur.max() - transform_uji.umur.min())\n",
    "    normalisasi_beratBadan = (cursor_latih.beratBadan - transform_uji.beratBadan.min()) / (transform_uji.beratBadan.max() - transform_uji.beratBadan.min())\n",
    "    normalisasi_tinggiBadan = (cursor_latih.tinggiBadan - transform_uji.tinggiBadan.min()) / (transform_uji.tinggiBadan.max() - transform_uji.tinggiBadan.min())\n",
    "    # Ganti nilai yang ada pada fitur utama dengan nilai normalisasi\n",
    "    # wajib menggunakan pd.to_numeric untuk menhindari error value\n",
    "    transform_uji.loc[transform_uji.index == cursor_latih.Index, 'nUmur'] = pd.to_numeric(normalisasi_umur)\n",
    "    transform_uji.loc[transform_uji.index == cursor_latih.Index, 'nBeratBadan'] = pd.to_numeric(normalisasi_beratBadan)\n",
    "    transform_uji.loc[transform_uji.index == cursor_latih.Index, 'nTinggiBadan'] = pd.to_numeric(normalisasi_tinggiBadan)"
   ]
  },
  {
   "cell_type": "code",
   "execution_count": null,
   "id": "4805eb17-7d9e-4ed8-9669-190c9ca30de8",
   "metadata": {},
   "outputs": [],
   "source": [
    "# Ubah format tipe data normalisasi\n",
    "transform_uji.nUmur = pd.to_numeric(transform_uji.nUmur)\n",
    "transform_uji.nBeratBadan = pd.to_numeric(transform_uji.nBeratBadan)\n",
    "transform_uji.nTinggiBadan = pd.to_numeric(transform_uji.nTinggiBadan)"
   ]
  },
  {
   "cell_type": "code",
   "execution_count": null,
   "id": "c8ff06a7-adad-4f05-be7d-d0202347dac9",
   "metadata": {},
   "outputs": [],
   "source": [
    "# Cek data latih\n",
    "transform_uji.head(10)"
   ]
  },
  {
   "cell_type": "code",
   "execution_count": null,
   "id": "b98dc88d-bbb9-403f-9554-173de28e043e",
   "metadata": {},
   "outputs": [],
   "source": [
    "# Ekspor dataset latih yang sudah diubah\n",
    "transform_uji.to_csv('./data_uji_transformed.csv', index=False)"
   ]
  }
 ],
 "metadata": {
  "kernelspec": {
   "display_name": "Python 3 (ipykernel)",
   "language": "python",
   "name": "python3"
  },
  "language_info": {
   "codemirror_mode": {
    "name": "ipython",
    "version": 3
   },
   "file_extension": ".py",
   "mimetype": "text/x-python",
   "name": "python",
   "nbconvert_exporter": "python",
   "pygments_lexer": "ipython3",
   "version": "3.13.4"
  }
 },
 "nbformat": 4,
 "nbformat_minor": 5
}
