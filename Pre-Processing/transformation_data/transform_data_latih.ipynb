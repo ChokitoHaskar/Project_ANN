{
 "cells": [
  {
   "cell_type": "code",
   "execution_count": 1,
   "id": "ae7f7eb5-5393-49c1-9e3f-417ad863fe62",
   "metadata": {},
   "outputs": [],
   "source": [
    "# Impor library pandas\n",
    "import pandas as pd\n",
    "from matplotlib import pyplot as plt"
   ]
  },
  {
   "cell_type": "code",
   "execution_count": 2,
   "id": "ab502e42-ce4a-4992-80d8-516c66dde9d5",
   "metadata": {},
   "outputs": [],
   "source": [
    "# Impor file csv data latih\n",
    "transform_latih = pd.read_csv('./data_latih_clean.csv')\n",
    "# Impor file dataset WHO Stunting dan Wasting\n",
    "who_stunting = pd.read_csv('./dataset-who-stunting.csv', sep = ';', decimal = ',')\n",
    "who_wasting = pd.read_csv('./dataset-who-wasting.csv', sep = ';', decimal = ',')"
   ]
  },
  {
   "cell_type": "code",
   "execution_count": 3,
   "id": "4118e250-8cb1-4aec-ba93-d5fe548670ad",
   "metadata": {},
   "outputs": [],
   "source": [
    "# Ubah label jenisKelamin menjadi string nominal (0 dan 1)\n",
    "transform_latih['jenisKelamin'] = transform_latih['jenisKelamin'].str.replace('Male', '0')\n",
    "transform_latih['jenisKelamin'] = transform_latih['jenisKelamin'].str.replace('Female', '1')\n",
    "\n",
    "# Ubah string menjadi numeral\n",
    "transform_latih['jenisKelamin'] = pd.to_numeric(transform_latih['jenisKelamin'])"
   ]
  },
  {
   "cell_type": "code",
   "execution_count": 4,
   "id": "9023f738-a284-4dcb-9363-ee5af4911447",
   "metadata": {},
   "outputs": [],
   "source": [
    "# Buat kolom baru untuk label stunting dan wasting\n",
    "transform_latih['statusStunting'] = 'Unknown'\n",
    "transform_latih['statusWasting'] = 'Unknown'"
   ]
  },
  {
   "cell_type": "code",
   "execution_count": 5,
   "id": "9c5fb021-424d-4e0a-9b8f-f0d1a1149339",
   "metadata": {},
   "outputs": [],
   "source": [
    "# Ubah nilai Gender pada dataset WHO stunting\n",
    "who_stunting['Gender'] = who_stunting['Gender'].str.replace('Female', '1')\n",
    "who_stunting['Gender'] = who_stunting['Gender'].str.replace('Male', '0')\n",
    "\n",
    "# Format nilai Gender menjadi numeral\n",
    "who_stunting['Gender'] = pd.to_numeric(who_stunting['Gender'])"
   ]
  },
  {
   "cell_type": "code",
   "execution_count": 6,
   "id": "a33c0a54-5f54-4f50-b316-334d8ac4dddc",
   "metadata": {},
   "outputs": [],
   "source": [
    "# Ubah nilai Gender pada dataset WHO wasting\n",
    "who_wasting['Gender'] = who_wasting['Gender'].str.replace('Female', '1')\n",
    "who_wasting['Gender'] = who_wasting['Gender'].str.replace('Male', '0')\n",
    "\n",
    "# Format nilai Gender menjadi numeral\n",
    "who_wasting['Gender'] = pd.to_numeric(who_wasting['Gender'])"
   ]
  },
  {
   "cell_type": "code",
   "execution_count": 7,
   "id": "29e48f39-5b80-4562-8bf2-048552db64d9",
   "metadata": {},
   "outputs": [],
   "source": [
    "# Tentukan nilai statusStunting pada dataset latih\n",
    "# Loop seluruh data pada dataset untuk mencari zscore dan mengubah statusStunting\n",
    "for cursor_latih in transform_latih.itertuples():\n",
    "    # Cari data LMS yang sesuai dengan data cursor_latih\n",
    "    cursor_who = who_stunting.loc[(who_stunting.Month == cursor_latih.umur) & (who_stunting.Gender == cursor_latih.jenisKelamin)]\n",
    "    # Kalkulasi nilai z-score stunting\n",
    "    zscore = (((cursor_latih.tinggiBadan / cursor_who.M)**cursor_who.L)-1) / (cursor_who.L * cursor_who.S)\n",
    "    # Ubah data statusStunting\n",
    "    if zscore.item() < (-2):\n",
    "        transform_latih.loc[transform_latih.index == cursor_latih.Index, 'statusStunting'] = 1\n",
    "    else:\n",
    "        transform_latih.loc[transform_latih.index == cursor_latih.Index, 'statusStunting'] = 0"
   ]
  },
  {
   "cell_type": "code",
   "execution_count": 8,
   "id": "9510f756-c9d6-45fc-a187-272ec9c46cfe",
   "metadata": {},
   "outputs": [],
   "source": [
    "# Membuat dataframe baru untuk data istimewa\n",
    "# istimewa disini yakni data yang tidak berkelipatan 0.5 pada dataset who-Wasting\n",
    "data_istimewa = transform_latih.loc[transform_latih.tinggiBadan % 0.5 != 0, ['jenisKelamin', 'tinggiBadan']]\n",
    "\n",
    "# Hapus duplikat pada iregular\n",
    "data_istimewa.drop_duplicates(inplace=True)"
   ]
  },
  {
   "cell_type": "code",
   "execution_count": 9,
   "id": "743257b4-f622-4f7c-a6ed-a3346d7295f6",
   "metadata": {},
   "outputs": [],
   "source": [
    "# Menyesuaikan nama kolom\n",
    "data_istimewa.rename(columns ={'jenisKelamin' : 'Gender', 'tinggiBadan' : 'Length'}, inplace=True)\n",
    "\n",
    "# Menggabungkan data pada dataframe istimewa dan dataframe WHO Weight-for-Height\n",
    "new_who_wasting = pd.concat([who_wasting, data_istimewa])"
   ]
  },
  {
   "cell_type": "code",
   "execution_count": 10,
   "id": "b709975f-0f33-4447-bd73-d5fc66edea5e",
   "metadata": {},
   "outputs": [],
   "source": [
    "# Sortir data menurut Length\n",
    "new_who_wasting.sort_values(by = ['Gender', 'Length'], inplace = True)\n",
    "\n",
    "# Reset Index\n",
    "new_who_wasting.reset_index(drop = True, inplace = True)"
   ]
  },
  {
   "cell_type": "code",
   "execution_count": 11,
   "id": "3ef696fd-e27e-4736-b571-148517461b0a",
   "metadata": {},
   "outputs": [],
   "source": [
    "# Menerapkan interpolasi kedalam dataframe\n",
    "# limit_area=inside untuk mengubah hanya data istimewa saja\n",
    "new_who_wasting.interpolate(limit_area = 'inside', inplace=True)"
   ]
  },
  {
   "cell_type": "code",
   "execution_count": 12,
   "id": "fbe738d7-ae56-4db3-8a46-cccb8ebced3c",
   "metadata": {},
   "outputs": [],
   "source": [
    "# Tentukan nilai statusWasting pada dataset latih\n",
    "# Loop seluruh data pada dataset untuk mencari zscore dan mengubah statusWasting\n",
    "for cursor_latih in transform_latih.itertuples():\n",
    "    # Cari data LMS yang sesuai dengan data cursor_latih\n",
    "    cursor_who = new_who_wasting.loc[(new_who_wasting.Length == cursor_latih.tinggiBadan) & (new_who_wasting.Gender == cursor_latih.jenisKelamin)]\n",
    "    # Kalkulasi nilai z-score stunting\n",
    "    zscore = (((cursor_latih.beratBadan / cursor_who.M)**cursor_who.L)-1) / (cursor_who.L * cursor_who.S)\n",
    "    # Ubah data statusStunting\n",
    "    if zscore.item() < (-2):\n",
    "        transform_latih.loc[transform_latih.index == cursor_latih.Index, 'statusWasting'] = 1\n",
    "    else:\n",
    "        transform_latih.loc[transform_latih.index == cursor_latih.Index, 'statusWasting'] = 0"
   ]
  },
  {
   "cell_type": "code",
   "execution_count": 13,
   "id": "1ed9addf-9cb8-47af-a9bd-c785cb7a4dbf",
   "metadata": {},
   "outputs": [],
   "source": [
    "# Ubah format statusStunting dan statusWasting menjadi numeral\n",
    "transform_latih.statusStunting = pd.to_numeric(transform_latih.statusStunting) \n",
    "transform_latih.statusWasting = pd.to_numeric(transform_latih.statusWasting)"
   ]
  },
  {
   "cell_type": "code",
   "execution_count": 14,
   "id": "7d5c5bac-48ba-40b4-b506-f0fed196f2f6",
   "metadata": {
    "scrolled": true
   },
   "outputs": [
    {
     "data": {
      "image/png": "[encoded data removed]",
      "text/plain": [
       "<Figure size 640x480 with 1 Axes>"
      ]
     },
     "metadata": {},
     "output_type": "display_data"
    }
   ],
   "source": [
    "# Visualisasikan Data statusStunting\n",
    "stunting = transform_latih.loc[transform_latih.statusStunting == 1, 'statusStunting'].count()\n",
    "non_stunting = transform_latih.loc[transform_latih.statusStunting == 0, 'statusStunting'].count()\n",
    "\n",
    "data = [stunting, non_stunting]\n",
    "labels = ['Stunting', 'non-Stunting']\n",
    "explode = [0.0, 0.075]\n",
    "\n",
    "fig, ax = plt.subplots()\n",
    "ax.pie(data, explode = explode, labels = labels, autopct = '%.1f%%')\n",
    "ax.axis('equal')\n",
    "\n",
    "plt.show()"
   ]
  },
  {
   "cell_type": "code",
   "execution_count": 15,
   "id": "f5ac445a-cd9d-4473-82d9-49092048ff25",
   "metadata": {
    "scrolled": true
   },
   "outputs": [
    {
     "data": {
      "image/png": "[encoded data removed]",
      "text/plain": [
       "<Figure size 640x480 with 1 Axes>"
      ]
     },
     "metadata": {},
     "output_type": "display_data"
    }
   ],
   "source": [
    "# Visualisasikan Data statusWasting\n",
    "wasting = transform_latih.loc[transform_latih.statusWasting == 1, 'statusWasting'].count()\n",
    "non_wasting = transform_latih.loc[transform_latih.statusWasting == 0, 'statusWasting'].count()\n",
    "\n",
    "data = [wasting, non_wasting]\n",
    "labels = ['Wasting', 'non-Wasting']\n",
    "explode = [0.0, 0.075]\n",
    "\n",
    "fig, ax = plt.subplots()\n",
    "ax.pie(data, explode = explode, labels = labels, autopct = '%.1f%%')\n",
    "ax.axis('equal')\n",
    "\n",
    "plt.show()"
   ]
  },
  {
   "cell_type": "code",
   "execution_count": 16,
   "id": "cb5734ca-526e-4522-b6e8-ce8ebe3ff9f0",
   "metadata": {},
   "outputs": [],
   "source": [
    "# Membuat kolom keduanya atau sehat\n",
    "transform_latih['statusKeduanya'] = 'Unknown'\n",
    "transform_latih['statusSehat'] = 'Unknown'\n",
    "\n",
    "# Tentukan nilai data pada label statusKeduanya dan statusSehat\n",
    "for cursor_latih in transform_latih.itertuples():\n",
    "    # Cek status keduanya dan ubah menjadi string angka 1, bukan integer\n",
    "    if cursor_latih.statusStunting == 1:\n",
    "        if cursor_latih.statusWasting == 1:\n",
    "            transform_latih.loc[transform_latih.index == cursor_latih.Index, 'statusKeduanya'] = '1'\n",
    "            continue\n",
    "    elif cursor_latih.statusStunting == 0:\n",
    "        if cursor_latih.statusWasting == 0:\n",
    "            transform_latih.loc[transform_latih.index == cursor_latih.Index, 'statusSehat'] = '1'\n",
    "            continue\n",
    "            \n",
    "\n",
    "# Setelah selesai mengecek dan merubah status keduanya dan sehat\n",
    "# Ganti kata Unknown menjadi string 0, bukan integer\n",
    "transform_latih.statusKeduanya = transform_latih.statusKeduanya.str.replace('Unknown', '0')\n",
    "transform_latih.statusSehat = transform_latih.statusSehat.str.replace('Unknown', '0')\n",
    "\n",
    "# Format tipe data statusKeduanya dan statusSehat\n",
    "transform_latih.statusKeduanya = pd.to_numeric(transform_latih.statusKeduanya)\n",
    "transform_latih.statusSehat = pd.to_numeric(transform_latih.statusSehat)"
   ]
  },
  {
   "cell_type": "code",
   "execution_count": 17,
   "id": "7e5f0372-997f-46cf-80e5-c3137398b73c",
   "metadata": {
    "scrolled": true
   },
   "outputs": [
    {
     "data": {
      "image/png": "[encoded data removed]",
      "text/plain": [
       "<Figure size 640x480 with 1 Axes>"
      ]
     },
     "metadata": {},
     "output_type": "display_data"
    }
   ],
   "source": [
    "# Visualisasikan Data Keduanya, Sehat, dan Pengidap salah satu penyakit\n",
    "dataKeduanya = transform_latih.loc[transform_latih.statusKeduanya == 1, 'statusKeduanya'].count()\n",
    "dataSehat = transform_latih.loc[transform_latih.statusSehat == 1, 'statusSehat'].count()\n",
    "dataPengidap = transform_latih.jenisKelamin.count() - (dataKeduanya + dataSehat)\n",
    "\n",
    "data = [dataKeduanya, dataSehat, dataPengidap]\n",
    "labels = ['Keduanya', 'Sehat', 'Stunting atau Wasting']\n",
    "explode = [0.0, 0.0, 0.075]\n",
    "\n",
    "fig1, ax1 = plt.subplots()\n",
    "ax1.pie(data, explode = explode, shadow = True, autopct = '%.1f%%', labels = labels)\n",
    "ax1.axis('equal')\n",
    "\n",
    "plt.show()"
   ]
  },
  {
   "cell_type": "code",
   "execution_count": 18,
   "id": "50f25eb5-52cc-4c69-9ab4-f9b4638ea08c",
   "metadata": {},
   "outputs": [],
   "source": [
    "# Pembuatan kolom statusBalita\n",
    "transform_latih['statusBalita'] = 'Unknown'\n",
    "\n",
    "# Menetapkan nilai statusBalita berdasar 4 fitur\n",
    "for cursor_latih in transform_latih.itertuples():\n",
    "    if cursor_latih.statusSehat == True:\n",
    "        transform_latih.loc[transform_latih.index == cursor_latih.Index, 'statusBalita'] = 'Sehat'\n",
    "    elif cursor_latih.statusKeduanya == True:\n",
    "        transform_latih.loc[transform_latih.index == cursor_latih.Index, 'statusBalita'] = 'Keduanya'\n",
    "    elif cursor_latih.statusWasting == True:\n",
    "        transform_latih.loc[transform_latih.index == cursor_latih.Index, 'statusBalita'] = 'Wasting'\n",
    "    elif cursor_latih.statusStunting == True:\n",
    "        transform_latih.loc[transform_latih.index == cursor_latih.Index, 'statusBalita'] = 'Stunting'        "
   ]
  },
  {
   "cell_type": "code",
   "execution_count": 19,
   "id": "0a506452-f4a8-4c31-8099-8b303ed6fb8f",
   "metadata": {},
   "outputs": [
    {
     "data": {
      "text/html": [
       "<div>\n",
       "<style scoped>\n",
       "    .dataframe tbody tr th:only-of-type {\n",
       "        vertical-align: middle;\n",
       "    }\n",
       "\n",
       "    .dataframe tbody tr th {\n",
       "        vertical-align: top;\n",
       "    }\n",
       "\n",
       "    .dataframe thead th {\n",
       "        text-align: right;\n",
       "    }\n",
       "</style>\n",
       "<table border=\"1\" class=\"dataframe\">\n",
       "  <thead>\n",
       "    <tr style=\"text-align: right;\">\n",
       "      <th></th>\n",
       "      <th>Stunting</th>\n",
       "      <th>Wasting</th>\n",
       "      <th>Keduanya</th>\n",
       "      <th>Sehat</th>\n",
       "    </tr>\n",
       "  </thead>\n",
       "  <tbody>\n",
       "    <tr>\n",
       "      <th>0</th>\n",
       "      <td>1</td>\n",
       "      <td>0</td>\n",
       "      <td>0</td>\n",
       "      <td>0</td>\n",
       "    </tr>\n",
       "    <tr>\n",
       "      <th>1</th>\n",
       "      <td>0</td>\n",
       "      <td>0</td>\n",
       "      <td>1</td>\n",
       "      <td>0</td>\n",
       "    </tr>\n",
       "    <tr>\n",
       "      <th>2</th>\n",
       "      <td>1</td>\n",
       "      <td>0</td>\n",
       "      <td>0</td>\n",
       "      <td>0</td>\n",
       "    </tr>\n",
       "    <tr>\n",
       "      <th>3</th>\n",
       "      <td>1</td>\n",
       "      <td>0</td>\n",
       "      <td>0</td>\n",
       "      <td>0</td>\n",
       "    </tr>\n",
       "    <tr>\n",
       "      <th>4</th>\n",
       "      <td>1</td>\n",
       "      <td>0</td>\n",
       "      <td>0</td>\n",
       "      <td>0</td>\n",
       "    </tr>\n",
       "    <tr>\n",
       "      <th>...</th>\n",
       "      <td>...</td>\n",
       "      <td>...</td>\n",
       "      <td>...</td>\n",
       "      <td>...</td>\n",
       "    </tr>\n",
       "    <tr>\n",
       "      <th>7568</th>\n",
       "      <td>0</td>\n",
       "      <td>0</td>\n",
       "      <td>0</td>\n",
       "      <td>1</td>\n",
       "    </tr>\n",
       "    <tr>\n",
       "      <th>7569</th>\n",
       "      <td>0</td>\n",
       "      <td>0</td>\n",
       "      <td>1</td>\n",
       "      <td>0</td>\n",
       "    </tr>\n",
       "    <tr>\n",
       "      <th>7570</th>\n",
       "      <td>1</td>\n",
       "      <td>0</td>\n",
       "      <td>0</td>\n",
       "      <td>0</td>\n",
       "    </tr>\n",
       "    <tr>\n",
       "      <th>7571</th>\n",
       "      <td>1</td>\n",
       "      <td>0</td>\n",
       "      <td>0</td>\n",
       "      <td>0</td>\n",
       "    </tr>\n",
       "    <tr>\n",
       "      <th>7572</th>\n",
       "      <td>0</td>\n",
       "      <td>1</td>\n",
       "      <td>0</td>\n",
       "      <td>0</td>\n",
       "    </tr>\n",
       "  </tbody>\n",
       "</table>\n",
       "<p>7573 rows × 4 columns</p>\n",
       "</div>"
      ],
      "text/plain": [
       "      Stunting  Wasting  Keduanya  Sehat\n",
       "0            1        0         0      0\n",
       "1            0        0         1      0\n",
       "2            1        0         0      0\n",
       "3            1        0         0      0\n",
       "4            1        0         0      0\n",
       "...        ...      ...       ...    ...\n",
       "7568         0        0         0      1\n",
       "7569         0        0         1      0\n",
       "7570         1        0         0      0\n",
       "7571         1        0         0      0\n",
       "7572         0        1         0      0\n",
       "\n",
       "[7573 rows x 4 columns]"
      ]
     },
     "execution_count": 19,
     "metadata": {},
     "output_type": "execute_result"
    }
   ],
   "source": [
    "# Buat dataframe baru hotEncoded yang berisi, well, hot-encoded vector\n",
    "# Seluruh nilai pada hotEncoded harus bernilai Integer untuk memudahkan model network\n",
    "hotEncoded = pd.get_dummies(transform_latih.statusBalita, dtype=int)\n",
    "\n",
    "# Tata ulang seluruh kolom pada hotEncoded sesuai dengan label\n",
    "hotEncoded = hotEncoded[['Stunting', 'Wasting', 'Keduanya', 'Sehat']]\n",
    "hotEncoded"
   ]
  },
  {
   "cell_type": "code",
   "execution_count": 20,
   "id": "c032d734-4189-40b0-b588-3c5f760d5db8",
   "metadata": {},
   "outputs": [],
   "source": [
    "# Menggabungkan dataframe dataset latih dengan hot encoded vector\n",
    "# Menggunakan axis = 1 untuk menambahkan kolom\n",
    "transform_latih = pd.concat([transform_latih, hotEncoded], axis = 1)"
   ]
  },
  {
   "cell_type": "code",
   "execution_count": 21,
   "id": "bee0ad7c-7c18-4c3e-9b2e-32c36a3845bc",
   "metadata": {
    "scrolled": true
   },
   "outputs": [
    {
     "data": {
      "image/png": "[encoded data removed]",
      "text/plain": [
       "<Figure size 640x480 with 1 Axes>"
      ]
     },
     "metadata": {},
     "output_type": "display_data"
    }
   ],
   "source": [
    "nilaiStunting = hotEncoded.loc[hotEncoded.Stunting == 1, 'Stunting'].count()\n",
    "nilaiWasting = hotEncoded.loc[hotEncoded.Wasting == 1, 'Wasting'].count()\n",
    "nilaiKeduanya = hotEncoded.loc[hotEncoded.Keduanya == 1, 'Keduanya'].count()\n",
    "nilaiSehat = hotEncoded.loc[hotEncoded.Sehat == 1, 'Sehat'].count()\n",
    "\n",
    "data = [nilaiSehat, nilaiKeduanya, nilaiWasting, nilaiStunting]\n",
    "explode = [0.1, 0.1, 0.1, 0.0]\n",
    "labels = ['Sehat', 'Keduanya', 'Hanya Wasting', 'Hanya Stunting']\n",
    "\n",
    "fig, ax = plt.subplots()\n",
    "\n",
    "ax.pie(data, explode = explode, labels = labels, autopct = '%1.1f%%', shadow = True)\n",
    "ax.axis('equal')\n",
    "\n",
    "plt.show()"
   ]
  },
  {
   "cell_type": "code",
   "execution_count": 25,
   "id": "2885a313-fd2d-45d1-b170-5ccca20e197e",
   "metadata": {},
   "outputs": [],
   "source": [
    "# Normalisasi setiap fitur utama numeral\n",
    "for cursor_latih in transform_latih.itertuples():\n",
    "    normalisasi_umur = (cursor_latih.umur - transform_latih.umur.min()) / (transform_latih.umur.max() - transform_latih.umur.min())\n",
    "    normalisasi_beratBadan = (cursor_latih.beratBadan - transform_latih.beratBadan.min()) / (transform_latih.beratBadan.max() - transform_latih.beratBadan.min())\n",
    "    normalisasi_tinggiBadan = (cursor_latih.tinggiBadan - transform_latih.tinggiBadan.min()) / (transform_latih.tinggiBadan.max() - transform_latih.tinggiBadan.min())\n",
    "    # Ganti nilai yang ada pada fitur utama dengan nilai normalisasi\n",
    "    # wajib menggunakan pd.to_numeric untuk menhindari error value\n",
    "    transform_latih.loc[transform_latih.index == cursor_latih.Index, 'umur'] = pd.to_numeric(normalisasi_umur)\n",
    "    transform_latih.loc[transform_latih.index == cursor_latih.Index, 'beratBadan'] = pd.to_numeric(normalisasi_beratBadan)\n",
    "    transform_latih.loc[transform_latih.index == cursor_latih.Index, 'tinggiBadan'] = pd.to_numeric(normalisasi_tinggiBadan)"
   ]
  },
  {
   "cell_type": "code",
   "execution_count": 27,
   "id": "8c9b62f4-c835-457a-80b5-b63dc8ee12de",
   "metadata": {},
   "outputs": [
    {
     "data": {
      "text/html": [
       "<div>\n",
       "<style scoped>\n",
       "    .dataframe tbody tr th:only-of-type {\n",
       "        vertical-align: middle;\n",
       "    }\n",
       "\n",
       "    .dataframe tbody tr th {\n",
       "        vertical-align: top;\n",
       "    }\n",
       "\n",
       "    .dataframe thead th {\n",
       "        text-align: right;\n",
       "    }\n",
       "</style>\n",
       "<table border=\"1\" class=\"dataframe\">\n",
       "  <thead>\n",
       "    <tr style=\"text-align: right;\">\n",
       "      <th></th>\n",
       "      <th>jenisKelamin</th>\n",
       "      <th>umur</th>\n",
       "      <th>Birth Weight</th>\n",
       "      <th>Birth Length</th>\n",
       "      <th>beratBadan</th>\n",
       "      <th>tinggiBadan</th>\n",
       "      <th>Breastfeeding</th>\n",
       "      <th>Stunting</th>\n",
       "      <th>statusStunting</th>\n",
       "      <th>statusWasting</th>\n",
       "      <th>statusKeduanya</th>\n",
       "      <th>statusSehat</th>\n",
       "      <th>statusBalita</th>\n",
       "      <th>Stunting</th>\n",
       "      <th>Wasting</th>\n",
       "      <th>Keduanya</th>\n",
       "      <th>Sehat</th>\n",
       "    </tr>\n",
       "  </thead>\n",
       "  <tbody>\n",
       "    <tr>\n",
       "      <th>0</th>\n",
       "      <td>0</td>\n",
       "      <td>0.000425</td>\n",
       "      <td>3.0</td>\n",
       "      <td>49</td>\n",
       "      <td>0.070786</td>\n",
       "      <td>0.000054</td>\n",
       "      <td>No</td>\n",
       "      <td>No</td>\n",
       "      <td>1</td>\n",
       "      <td>0</td>\n",
       "      <td>0</td>\n",
       "      <td>0</td>\n",
       "      <td>Stunting</td>\n",
       "      <td>1</td>\n",
       "      <td>0</td>\n",
       "      <td>0</td>\n",
       "      <td>0</td>\n",
       "    </tr>\n",
       "    <tr>\n",
       "      <th>1</th>\n",
       "      <td>1</td>\n",
       "      <td>0.004202</td>\n",
       "      <td>2.9</td>\n",
       "      <td>49</td>\n",
       "      <td>0.012917</td>\n",
       "      <td>0.007545</td>\n",
       "      <td>No</td>\n",
       "      <td>Yes</td>\n",
       "      <td>1</td>\n",
       "      <td>1</td>\n",
       "      <td>1</td>\n",
       "      <td>0</td>\n",
       "      <td>Keduanya</td>\n",
       "      <td>0</td>\n",
       "      <td>0</td>\n",
       "      <td>1</td>\n",
       "      <td>0</td>\n",
       "    </tr>\n",
       "    <tr>\n",
       "      <th>2</th>\n",
       "      <td>0</td>\n",
       "      <td>0.006396</td>\n",
       "      <td>2.9</td>\n",
       "      <td>49</td>\n",
       "      <td>0.075598</td>\n",
       "      <td>0.008388</td>\n",
       "      <td>No</td>\n",
       "      <td>Yes</td>\n",
       "      <td>1</td>\n",
       "      <td>0</td>\n",
       "      <td>0</td>\n",
       "      <td>0</td>\n",
       "      <td>Stunting</td>\n",
       "      <td>1</td>\n",
       "      <td>0</td>\n",
       "      <td>0</td>\n",
       "      <td>0</td>\n",
       "    </tr>\n",
       "    <tr>\n",
       "      <th>3</th>\n",
       "      <td>0</td>\n",
       "      <td>0.012941</td>\n",
       "      <td>2.8</td>\n",
       "      <td>49</td>\n",
       "      <td>0.056146</td>\n",
       "      <td>0.007311</td>\n",
       "      <td>No</td>\n",
       "      <td>Yes</td>\n",
       "      <td>1</td>\n",
       "      <td>0</td>\n",
       "      <td>0</td>\n",
       "      <td>0</td>\n",
       "      <td>Stunting</td>\n",
       "      <td>1</td>\n",
       "      <td>0</td>\n",
       "      <td>0</td>\n",
       "      <td>0</td>\n",
       "    </tr>\n",
       "    <tr>\n",
       "      <th>4</th>\n",
       "      <td>0</td>\n",
       "      <td>0.005960</td>\n",
       "      <td>3.1</td>\n",
       "      <td>49</td>\n",
       "      <td>0.094124</td>\n",
       "      <td>0.005672</td>\n",
       "      <td>No</td>\n",
       "      <td>Yes</td>\n",
       "      <td>1</td>\n",
       "      <td>0</td>\n",
       "      <td>0</td>\n",
       "      <td>0</td>\n",
       "      <td>Stunting</td>\n",
       "      <td>1</td>\n",
       "      <td>0</td>\n",
       "      <td>0</td>\n",
       "      <td>0</td>\n",
       "    </tr>\n",
       "  </tbody>\n",
       "</table>\n",
       "</div>"
      ],
      "text/plain": [
       "   jenisKelamin      umur  Birth Weight  Birth Length  beratBadan  \\\n",
       "0             0  0.000425           3.0            49    0.070786   \n",
       "1             1  0.004202           2.9            49    0.012917   \n",
       "2             0  0.006396           2.9            49    0.075598   \n",
       "3             0  0.012941           2.8            49    0.056146   \n",
       "4             0  0.005960           3.1            49    0.094124   \n",
       "\n",
       "   tinggiBadan Breastfeeding  Stunting  statusStunting  statusWasting  \\\n",
       "0     0.000054            No        No               1              0   \n",
       "1     0.007545            No       Yes               1              1   \n",
       "2     0.008388            No       Yes               1              0   \n",
       "3     0.007311            No       Yes               1              0   \n",
       "4     0.005672            No       Yes               1              0   \n",
       "\n",
       "   statusKeduanya  statusSehat statusBalita  Stunting  Wasting  Keduanya  \\\n",
       "0               0            0     Stunting         1        0         0   \n",
       "1               1            0     Keduanya         0        0         1   \n",
       "2               0            0     Stunting         1        0         0   \n",
       "3               0            0     Stunting         1        0         0   \n",
       "4               0            0     Stunting         1        0         0   \n",
       "\n",
       "   Sehat  \n",
       "0      0  \n",
       "1      0  \n",
       "2      0  \n",
       "3      0  \n",
       "4      0  "
      ]
     },
     "execution_count": 27,
     "metadata": {},
     "output_type": "execute_result"
    }
   ],
   "source": [
    "# Cek data latih\n",
    "transform_latih.head()"
   ]
  },
  {
   "cell_type": "code",
   "execution_count": 28,
   "id": "28593233-5893-4706-9a71-7210b73571b3",
   "metadata": {},
   "outputs": [],
   "source": [
    "# Ekspor dataset latih yang sudah diubah\n",
    "transform_latih.to_csv('./data_latih_transformed.csv')"
   ]
  }
 ],
 "metadata": {
  "kernelspec": {
   "display_name": "Python 3 (ipykernel)",
   "language": "python",
   "name": "python3"
  },
  "language_info": {
   "codemirror_mode": {
    "name": "ipython",
    "version": 3
   },
   "file_extension": ".py",
   "mimetype": "text/x-python",
   "name": "python",
   "nbconvert_exporter": "python",
   "pygments_lexer": "ipython3",
   "version": "3.13.3"
  }
 },
 "nbformat": 4,
 "nbformat_minor": 5
}
