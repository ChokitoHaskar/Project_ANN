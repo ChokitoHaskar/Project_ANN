{
 "cells": [
  {
   "cell_type": "code",
   "execution_count": 1,
   "id": "0ed1a8d8-a4d5-4e56-bc8b-829fbdb48079",
   "metadata": {},
   "outputs": [],
   "source": [
    "# Impor library pandas dan matplot\n",
    "import pandas as pd\n",
    "from matplotlib import pyplot as plt"
   ]
  },
  {
   "cell_type": "code",
   "execution_count": 2,
   "id": "0ecc7fab-418f-4b1e-a885-af7831e9d61a",
   "metadata": {},
   "outputs": [],
   "source": [
    "# Set variabel untuk dataset uji\n",
    "# Separator titik koma dan decimal berupa koma karena data berasal dari excel\n",
    "data_uji = pd.read_csv('./dataset-uji.csv', sep=';', decimal='.')"
   ]
  },
  {
   "cell_type": "code",
   "execution_count": 3,
   "id": "7f686b29-a3fc-4dd7-b5c5-ceee183c4733",
   "metadata": {},
   "outputs": [
    {
     "data": {
      "text/html": [
       "<div>\n",
       "<style scoped>\n",
       "    .dataframe tbody tr th:only-of-type {\n",
       "        vertical-align: middle;\n",
       "    }\n",
       "\n",
       "    .dataframe tbody tr th {\n",
       "        vertical-align: top;\n",
       "    }\n",
       "\n",
       "    .dataframe thead th {\n",
       "        text-align: right;\n",
       "    }\n",
       "</style>\n",
       "<table border=\"1\" class=\"dataframe\">\n",
       "  <thead>\n",
       "    <tr style=\"text-align: right;\">\n",
       "      <th></th>\n",
       "      <th>NamaBalita</th>\n",
       "      <th>JenisKelaminL/P</th>\n",
       "      <th>Umur(bln)</th>\n",
       "      <th>BB(Kg)</th>\n",
       "      <th>Tb(cm)</th>\n",
       "      <th>StatusGiziPB/UTB/U</th>\n",
       "      <th>StatusGiziBB/U</th>\n",
       "      <th>StatusGiziBB/TB</th>\n",
       "    </tr>\n",
       "  </thead>\n",
       "  <tbody>\n",
       "    <tr>\n",
       "      <th>0</th>\n",
       "      <td>RaikalShingKhurana</td>\n",
       "      <td>L</td>\n",
       "      <td>35</td>\n",
       "      <td>8.5</td>\n",
       "      <td>86</td>\n",
       "      <td>PENDEK</td>\n",
       "      <td>BBSangatkurang</td>\n",
       "      <td>giziburuk</td>\n",
       "    </tr>\n",
       "    <tr>\n",
       "      <th>1</th>\n",
       "      <td>MestikaNabila</td>\n",
       "      <td>P</td>\n",
       "      <td>38</td>\n",
       "      <td>10.5</td>\n",
       "      <td>85</td>\n",
       "      <td>PENDEK</td>\n",
       "      <td>BBkurang</td>\n",
       "      <td>normal</td>\n",
       "    </tr>\n",
       "    <tr>\n",
       "      <th>2</th>\n",
       "      <td>kamaluddinilyas</td>\n",
       "      <td>L</td>\n",
       "      <td>23</td>\n",
       "      <td>7.7</td>\n",
       "      <td>79</td>\n",
       "      <td>PENDEK</td>\n",
       "      <td>BBSangatkurang</td>\n",
       "      <td>giziburuk</td>\n",
       "    </tr>\n",
       "    <tr>\n",
       "      <th>3</th>\n",
       "      <td>AyumiFaujiah</td>\n",
       "      <td>P</td>\n",
       "      <td>13</td>\n",
       "      <td>6.5</td>\n",
       "      <td>68</td>\n",
       "      <td>PENDEK</td>\n",
       "      <td>BBSangatkurang</td>\n",
       "      <td>gizikurang</td>\n",
       "    </tr>\n",
       "    <tr>\n",
       "      <th>4</th>\n",
       "      <td>Ikhsanpratama</td>\n",
       "      <td>L</td>\n",
       "      <td>48</td>\n",
       "      <td>12</td>\n",
       "      <td>95</td>\n",
       "      <td>PENDEK</td>\n",
       "      <td>BBkurang</td>\n",
       "      <td>normal</td>\n",
       "    </tr>\n",
       "  </tbody>\n",
       "</table>\n",
       "</div>"
      ],
      "text/plain": [
       "           NamaBalita JenisKelaminL/P Umur(bln) BB(Kg) Tb(cm)  \\\n",
       "0  RaikalShingKhurana               L        35    8.5     86   \n",
       "1       MestikaNabila               P        38   10.5     85   \n",
       "2     kamaluddinilyas               L        23    7.7     79   \n",
       "3        AyumiFaujiah               P        13    6.5     68   \n",
       "4       Ikhsanpratama               L        48     12     95   \n",
       "\n",
       "  StatusGiziPB/UTB/U  StatusGiziBB/U StatusGiziBB/TB  \n",
       "0             PENDEK  BBSangatkurang       giziburuk  \n",
       "1             PENDEK        BBkurang          normal  \n",
       "2             PENDEK  BBSangatkurang       giziburuk  \n",
       "3             PENDEK  BBSangatkurang      gizikurang  \n",
       "4             PENDEK        BBkurang          normal  "
      ]
     },
     "execution_count": 3,
     "metadata": {},
     "output_type": "execute_result"
    }
   ],
   "source": [
    "# Cek fitur parameter data latih\n",
    "data_uji.head()"
   ]
  },
  {
   "cell_type": "code",
   "execution_count": 4,
   "id": "3b1e9a64-d26b-4565-a43f-f57713c6a087",
   "metadata": {},
   "outputs": [
    {
     "data": {
      "text/html": [
       "<div>\n",
       "<style scoped>\n",
       "    .dataframe tbody tr th:only-of-type {\n",
       "        vertical-align: middle;\n",
       "    }\n",
       "\n",
       "    .dataframe tbody tr th {\n",
       "        vertical-align: top;\n",
       "    }\n",
       "\n",
       "    .dataframe thead th {\n",
       "        text-align: right;\n",
       "    }\n",
       "</style>\n",
       "<table border=\"1\" class=\"dataframe\">\n",
       "  <thead>\n",
       "    <tr style=\"text-align: right;\">\n",
       "      <th></th>\n",
       "      <th>NamaBalita</th>\n",
       "      <th>JenisKelaminL/P</th>\n",
       "      <th>Umur(bln)</th>\n",
       "      <th>BB(Kg)</th>\n",
       "      <th>Tb(cm)</th>\n",
       "      <th>StatusGiziPB/UTB/U</th>\n",
       "      <th>StatusGiziBB/U</th>\n",
       "      <th>StatusGiziBB/TB</th>\n",
       "    </tr>\n",
       "  </thead>\n",
       "  <tbody>\n",
       "    <tr>\n",
       "      <th>count</th>\n",
       "      <td>190</td>\n",
       "      <td>190</td>\n",
       "      <td>189</td>\n",
       "      <td>189</td>\n",
       "      <td>189</td>\n",
       "      <td>188</td>\n",
       "      <td>188</td>\n",
       "      <td>188</td>\n",
       "    </tr>\n",
       "    <tr>\n",
       "      <th>unique</th>\n",
       "      <td>189</td>\n",
       "      <td>6</td>\n",
       "      <td>73</td>\n",
       "      <td>90</td>\n",
       "      <td>67</td>\n",
       "      <td>25</td>\n",
       "      <td>39</td>\n",
       "      <td>42</td>\n",
       "    </tr>\n",
       "    <tr>\n",
       "      <th>top</th>\n",
       "      <td>Mhd Al Rasyid</td>\n",
       "      <td>P</td>\n",
       "      <td>48</td>\n",
       "      <td>11</td>\n",
       "      <td>86</td>\n",
       "      <td>Pendek</td>\n",
       "      <td>Kurang</td>\n",
       "      <td>Baik</td>\n",
       "    </tr>\n",
       "    <tr>\n",
       "      <th>freq</th>\n",
       "      <td>2</td>\n",
       "      <td>91</td>\n",
       "      <td>8</td>\n",
       "      <td>18</td>\n",
       "      <td>10</td>\n",
       "      <td>77</td>\n",
       "      <td>44</td>\n",
       "      <td>36</td>\n",
       "    </tr>\n",
       "  </tbody>\n",
       "</table>\n",
       "</div>"
      ],
      "text/plain": [
       "           NamaBalita JenisKelaminL/P Umur(bln) BB(Kg) Tb(cm)  \\\n",
       "count             190             190       189    189    189   \n",
       "unique            189               6        73     90     67   \n",
       "top     Mhd Al Rasyid               P        48     11     86   \n",
       "freq                2              91         8     18     10   \n",
       "\n",
       "       StatusGiziPB/UTB/U StatusGiziBB/U StatusGiziBB/TB  \n",
       "count                 188            188             188  \n",
       "unique                 25             39              42  \n",
       "top                Pendek         Kurang            Baik  \n",
       "freq                   77             44              36  "
      ]
     },
     "execution_count": 4,
     "metadata": {},
     "output_type": "execute_result"
    }
   ],
   "source": [
    "# Cek statistik data latih\n",
    "data_uji.describe()"
   ]
  },
  {
   "cell_type": "code",
   "execution_count": 5,
   "id": "35ac3716-34a1-46e6-a2d0-5478c5a988c6",
   "metadata": {},
   "outputs": [
    {
     "data": {
      "text/plain": [
       "NamaBalita            190\n",
       "JenisKelaminL/P       190\n",
       "Umur(bln)             189\n",
       "BB(Kg)                189\n",
       "Tb(cm)                189\n",
       "StatusGiziPB/UTB/U    188\n",
       "StatusGiziBB/U        188\n",
       "StatusGiziBB/TB       188\n",
       "dtype: int64"
      ]
     },
     "execution_count": 5,
     "metadata": {},
     "output_type": "execute_result"
    }
   ],
   "source": [
    "# Cek total data pada dataset latih\n",
    "data_uji.count()"
   ]
  },
  {
   "cell_type": "code",
   "execution_count": 6,
   "id": "a7fe8220-a3c7-4386-9761-de26b9027896",
   "metadata": {},
   "outputs": [],
   "source": [
    "# Hapus kolom data kosong\n",
    "data_uji = data_uji.dropna()"
   ]
  },
  {
   "cell_type": "code",
   "execution_count": 7,
   "id": "7346e290-c4ac-4f5c-a91c-0ad6b28e8990",
   "metadata": {},
   "outputs": [],
   "source": [
    "# Menyesuaikan label jenis kelamin\n",
    "data_uji.loc[:,'JenisKelaminL/P'] = data_uji['JenisKelaminL/P'].replace(['lk', 'l'], 'L')\n",
    "data_uji.loc[:,'JenisKelaminL/P'] = data_uji['JenisKelaminL/P'].replace(['pr', 'p'], 'P')"
   ]
  },
  {
   "cell_type": "code",
   "execution_count": 8,
   "id": "1cfcff93-bc75-4ac8-aa2f-e1fbc9bf29db",
   "metadata": {},
   "outputs": [
    {
     "name": "stdout",
     "output_type": "stream",
     "text": [
      "object\n",
      "object\n",
      "object\n"
     ]
    }
   ],
   "source": [
    "# Cek Tipe Data\n",
    "print(data_uji['Umur(bln)'].dtype) # object\n",
    "print(data_uji['BB(Kg)'].dtype) # object\n",
    "print(data_uji['Tb(cm)'].dtype) # object"
   ]
  },
  {
   "cell_type": "code",
   "execution_count": 9,
   "id": "0f337474-f0dc-4f0d-9fd6-4ef1f75bc0a6",
   "metadata": {},
   "outputs": [],
   "source": [
    "# Menyesuaikan data Umur\n",
    "# Menghapus teks didalam data serta menghapus spasi pada awal dan akhir angka\n",
    "fixed_umur = data_uji.loc[data_uji['Umur(bln)'].str.contains('Bln|Bin|BLn'), 'Umur(bln)'].str[0:-3].str.replace(' ','')\n",
    "\n",
    "# Mengganti data umur awal dengan yang baru\n",
    "data_uji.loc[data_uji['Umur(bln)'].str.contains('Bln|Bin|BLn'), 'Umur(bln)'] = fixed_umur"
   ]
  },
  {
   "cell_type": "code",
   "execution_count": 10,
   "id": "982c097a-5814-453f-8c80-3f8c78bde851",
   "metadata": {},
   "outputs": [],
   "source": [
    "# Menyesuaikan data Berat Badan\n",
    "# Menghapus teks didalam data serta menghapus spasi pada awal dan akhir angka\n",
    "fixed_bb = data_uji.loc[data_uji['BB(Kg)'].str.contains('kg|Kg|KG'), 'BB(Kg)'].str[0:-2].str.replace(' ','')\n",
    "\n",
    "# Mengganti data berat awal dengan yang baru\n",
    "data_uji.loc[data_uji['BB(Kg)'].str.contains('kg|Kg|KG'), 'BB(Kg)'] = fixed_bb"
   ]
  },
  {
   "cell_type": "code",
   "execution_count": 11,
   "id": "b3c86207-edf9-48b2-85dc-fddc12c32960",
   "metadata": {},
   "outputs": [],
   "source": [
    "# Menyesuaikan data Tinggi Badan\n",
    "# Menghapus teks didalam data serta menghapus spasi pada awal dan akhir angka\n",
    "fixed_tb = data_uji.loc[data_uji['Tb(cm)'].str.contains('cm|Cm|CM'), 'Tb(cm)'].str[0:-2].str.replace(' ','')\n",
    "\n",
    "# Mengganti data tinggi awal dengan yang baru\n",
    "data_uji.loc[data_uji['Tb(cm)'].str.contains('cm|Cm|CM'), 'Tb(cm)'] = fixed_tb"
   ]
  },
  {
   "cell_type": "code",
   "execution_count": 12,
   "id": "fbc47291-9fac-4751-a3e5-e252938d676b",
   "metadata": {},
   "outputs": [
    {
     "name": "stdout",
     "output_type": "stream",
     "text": [
      "object\n",
      "object\n",
      "object\n"
     ]
    }
   ],
   "source": [
    "# Cek Tipe Data\n",
    "print(data_uji['Umur(bln)'].dtype) # object\n",
    "print(data_uji['BB(Kg)'].dtype) # object\n",
    "print(data_uji['Tb(cm)'].dtype) # Object"
   ]
  },
  {
   "cell_type": "code",
   "execution_count": 13,
   "id": "a5d757a3-7d8d-439c-9fc1-686615d24d97",
   "metadata": {},
   "outputs": [],
   "source": [
    "# Mengubah tanda koma menjadi titik\n",
    "data_uji['BB(Kg)'] = data_uji['BB(Kg)'].str.replace(',', '.')\n",
    "data_uji['Tb(cm)'] = data_uji['Tb(cm)'].str.replace(',', '.')"
   ]
  },
  {
   "cell_type": "code",
   "execution_count": 14,
   "id": "69a3cde7-dfd3-4d76-ab5b-4c238fc757dc",
   "metadata": {},
   "outputs": [],
   "source": [
    "# Mengubah Umur, Berat, dan Tinggi menjadi numeral\n",
    "data_uji['Umur(bln)'] = pd.to_numeric(data_uji['Umur(bln)']) # int64\n",
    "data_uji['BB(Kg)'] = pd.to_numeric(data_uji['BB(Kg)']) # float64\n",
    "data_uji['Tb(cm)'] = pd.to_numeric(data_uji['Tb(cm)']) # float64"
   ]
  },
  {
   "cell_type": "code",
   "execution_count": 15,
   "id": "17da54c4-188a-4eb8-985d-16ce2a08e04f",
   "metadata": {},
   "outputs": [],
   "source": [
    "# Pencarian outlier pada Fitur Umur\n",
    "# Mencari Q1 dan Q3\n",
    "Q1_umur = data_uji['Umur(bln)'].quantile(0.25)\n",
    "Q3_umur = data_uji['Umur(bln)'].quantile(0.75)\n",
    "\n",
    "# Mencari IQR serta batas bawah dan batas atas\n",
    "IQR_umur = Q3_umur - Q1_umur\n",
    "umur_bawah = Q1_umur - 1.5 * IQR_umur\n",
    "umur_atas = Q3_umur + 1.5 * IQR_umur\n",
    "\n",
    "# Mencari data outlier dari dataset latih\n",
    "outlier_umur = data_uji.loc[(data_uji['Umur(bln)'] < umur_bawah) | (data_uji['Umur(bln)'] > umur_atas)]"
   ]
  },
  {
   "cell_type": "code",
   "execution_count": 16,
   "id": "4afb6917-5c24-41a0-bbd3-9301d6d2e099",
   "metadata": {},
   "outputs": [
    {
     "data": {
      "image/png": "[encoded data removed]",
      "text/plain": [
       "<Figure size 640x480 with 1 Axes>"
      ]
     },
     "metadata": {},
     "output_type": "display_data"
    }
   ],
   "source": [
    "# Visualisasi data berbentuk boxplot untuk data Umur\n",
    "# Batasan WHO umur 1 - 60\n",
    "who_age = list(range(1,61))\n",
    "data = [data_uji['Umur(bln)'], outlier_umur['Umur(bln)'], who_age]\n",
    "labels = ['Data Uji', 'Outliers', 'WHO']\n",
    "\n",
    "plt.title('Pre-Noise Cleaning - Data Uji - Fitur Umur(bln)', loc='right')\n",
    "plt.ylabel('Umur (Bulan)')\n",
    "plt.boxplot(data, tick_labels=labels)\n",
    "plt.show()"
   ]
  },
  {
   "cell_type": "code",
   "execution_count": 17,
   "id": "42c9bc5c-fcce-4944-be11-09c80426ad3d",
   "metadata": {},
   "outputs": [],
   "source": [
    "# Mencari noise pada outlier umur\n",
    "# Data usia wajar menurut WHO yakni 1 sampai dengan 60 bulan\n",
    "noise_umur = outlier_umur.loc[(outlier_umur['Umur(bln)'] < 1) | (outlier_umur['Umur(bln)'] > 60)]\n",
    "\n",
    "# Hapus data tidak wajar pada data latih\n",
    "data_uji = data_uji.drop(index = noise_umur.index).reset_index(drop=True)"
   ]
  },
  {
   "cell_type": "code",
   "execution_count": 18,
   "id": "218eca05-56ba-4305-a603-c99be8b638f1",
   "metadata": {},
   "outputs": [
    {
     "data": {
      "image/png": "[encoded data removed]",
      "text/plain": [
       "<Figure size 640x480 with 1 Axes>"
      ]
     },
     "metadata": {},
     "output_type": "display_data"
    }
   ],
   "source": [
    "# Visualisasi data berbentuk boxplot untuk data Umur\n",
    "# Batasan WHO umur 1 - 60\n",
    "who_age = list(range(1,61))\n",
    "data = [data_uji['Umur(bln)'],  who_age]\n",
    "labels = ['Data Uji', 'WHO']\n",
    "\n",
    "plt.title('Post-Noise Cleaning - Data Uji - Fitur Umur(bln)', loc='right')\n",
    "plt.ylabel('Umur (Bulan)')\n",
    "plt.boxplot(data, tick_labels=labels)\n",
    "plt.show()"
   ]
  },
  {
   "cell_type": "code",
   "execution_count": 19,
   "id": "c1058560-47e0-488e-b856-213d16c79d8d",
   "metadata": {},
   "outputs": [],
   "source": [
    "# Pencarian outlier pada Fitur Berat\n",
    "# Mencari Q1 dan Q3\n",
    "Q1_berat = data_uji['BB(Kg)'].quantile(0.25)\n",
    "Q3_berat = data_uji['BB(Kg)'].quantile(0.75)\n",
    "\n",
    "# Mencari IQR serta batas bawah dan batas atas\n",
    "IQR_berat = Q3_berat - Q1_berat\n",
    "berat_bawah = Q1_berat - 1.5 * IQR_berat\n",
    "berat_atas = Q3_berat + 1.5 * IQR_berat\n",
    "\n",
    "# Mencari data outlier dari dataset latih\n",
    "outlier_berat = data_uji.loc[(data_uji['BB(Kg)'] < berat_bawah) | (data_uji['BB(Kg)'] > berat_atas)]"
   ]
  },
  {
   "cell_type": "code",
   "execution_count": 20,
   "id": "0b911c90-52ea-4e59-8eea-0d3b8ce86dfd",
   "metadata": {},
   "outputs": [
    {
     "data": {
      "image/png": "[encoded data removed]",
      "text/plain": [
       "<Figure size 640x480 with 1 Axes>"
      ]
     },
     "metadata": {},
     "output_type": "display_data"
    }
   ],
   "source": [
    "# Visualisasi data berbentuk boxplot untuk data Umur\n",
    "# Batasan WHO berat 2 - 28\n",
    "who_berat = list(range(2,29))\n",
    "data = [data_uji['BB(Kg)'], outlier_berat['BB(Kg)'], who_berat]\n",
    "labels = ['Data Uji', 'Outliers', 'WHO']\n",
    "\n",
    "plt.title('Pre-Noise Cleaning - Data Uji - Fitur BB(Kg)', loc='right')\n",
    "plt.ylabel('Berat (Kg)')\n",
    "plt.boxplot(data, tick_labels=labels)\n",
    "plt.show()"
   ]
  },
  {
   "cell_type": "code",
   "execution_count": 21,
   "id": "259c82f7-2063-4ba7-94c4-706f7dc43926",
   "metadata": {},
   "outputs": [],
   "source": [
    "# Mencari noise pada outlier Berat\n",
    "# Data berat wajar menurut WHO yakni 2 sampai dengan 28\n",
    "noise_berat = outlier_berat.loc[(outlier_berat['BB(Kg)'] < 2) | (outlier_berat['BB(Kg)'] > 28)]\n",
    "\n",
    "# Hapus data tidak wajar pada data latih\n",
    "data_uji = data_uji.drop(index = noise_berat.index).reset_index(drop=True)"
   ]
  },
  {
   "cell_type": "code",
   "execution_count": 22,
   "id": "56d7b388-10ec-4586-a750-605c24551e3c",
   "metadata": {},
   "outputs": [
    {
     "data": {
      "image/png": "[encoded data removed]",
      "text/plain": [
       "<Figure size 640x480 with 1 Axes>"
      ]
     },
     "metadata": {},
     "output_type": "display_data"
    }
   ],
   "source": [
    "# Visualisasi data berbentuk boxplot untuk data Umur\n",
    "# Batasan WHO berat 2 - 28\n",
    "who_berat = list(range(2,29))\n",
    "data = [data_uji['BB(Kg)'], who_berat]\n",
    "labels = ['Data Uji', 'WHO']\n",
    "\n",
    "plt.title('Post-Noise Cleaning - Data Uji - Fitur BB(Kg)', loc='right')\n",
    "plt.ylabel('Berat (Kg)')\n",
    "plt.boxplot(data, tick_labels=labels)\n",
    "plt.show()"
   ]
  },
  {
   "cell_type": "code",
   "execution_count": 23,
   "id": "7cf01bcf-cbb1-47c1-a08e-5dffb307ab43",
   "metadata": {},
   "outputs": [],
   "source": [
    "# Pencarian outlier pada Fitur Tinggi\n",
    "# Mencari Q1 dan Q3\n",
    "Q1_tinggi = data_uji['Tb(cm)'].quantile(0.25)\n",
    "Q3_tinggi = data_uji['Tb(cm)'].quantile(0.75)\n",
    "\n",
    "# Mencari IQR serta batas bawah dan batas atas\n",
    "IQR_tinggi = Q3_tinggi - Q1_tinggi\n",
    "tinggi_bawah = Q1_tinggi - 1.5 * IQR_tinggi\n",
    "tinggi_atas = Q3_tinggi + 1.5 * IQR_tinggi\n",
    "\n",
    "# Mencari data outlier dari dataset latih\n",
    "outlier_tinggi = data_uji.loc[(data_uji['Tb(cm)'] < tinggi_bawah) | (data_uji['Tb(cm)'] > tinggi_atas)]"
   ]
  },
  {
   "cell_type": "code",
   "execution_count": 24,
   "id": "78a5642b-0d58-4c33-8f1b-b7bb8d0e525a",
   "metadata": {},
   "outputs": [
    {
     "data": {
      "image/png": "[encoded data removed]",
      "text/plain": [
       "<Figure size 640x480 with 1 Axes>"
      ]
     },
     "metadata": {},
     "output_type": "display_data"
    }
   ],
   "source": [
    "# Visualisasi data berbentuk boxplot untuk data Umur\n",
    "# Batasan WHO tinggi 4 - 124\n",
    "who_tinggi = list(range(4,125))\n",
    "data = [data_uji['Tb(cm)'], outlier_tinggi['Tb(cm)'],  who_tinggi]\n",
    "labels = ['Data Uji', 'Outliers', 'WHO']\n",
    "\n",
    "plt.title('Pre-Noise Cleaning - Data Uji - Fitur Tinggi(cm)', loc='right')\n",
    "plt.ylabel('Tinggi (Cm)')\n",
    "plt.boxplot(data, tick_labels=labels)\n",
    "plt.show()"
   ]
  },
  {
   "cell_type": "code",
   "execution_count": 25,
   "id": "6d7e8af4-08cb-4e39-9c21-7101b9bd2532",
   "metadata": {},
   "outputs": [],
   "source": [
    "# Mencari noise pada outlier Tinggi\n",
    "# Data tingg wajar menurut WHO yakni 44 sampai dengan 124\n",
    "noise_tinggi = outlier_tinggi.loc[(outlier_tinggi['Tb(cm)'] < 4) | (outlier_tinggi['Tb(cm)'] > 124)]\n",
    "\n",
    "# Hapus data tidak wajar pada data latih\n",
    "data_uji = data_uji.drop(index = noise_tinggi.index).reset_index(drop=True)"
   ]
  },
  {
   "cell_type": "code",
   "execution_count": 26,
   "id": "4102f015-9c81-4532-955b-9a0df3791f11",
   "metadata": {},
   "outputs": [
    {
     "data": {
      "image/png": "[encoded data removed]",
      "text/plain": [
       "<Figure size 640x480 with 1 Axes>"
      ]
     },
     "metadata": {},
     "output_type": "display_data"
    }
   ],
   "source": [
    "# Visualisasi data berbentuk boxplot untuk data Umur\n",
    "# Batasan WHO tinggi 4 - 124\n",
    "who_tinggi = list(range(4,125))\n",
    "data = [data_uji['Tb(cm)'],  who_tinggi]\n",
    "labels = ['Data Uji', 'WHO']\n",
    "\n",
    "plt.title('Post-Noise Cleaning - Data Uji - Fitur Tinggi(cm)', loc='right')\n",
    "plt.ylabel('Tinggi (Cm)')\n",
    "plt.boxplot(data, tick_labels=labels)\n",
    "plt.show()"
   ]
  },
  {
   "cell_type": "code",
   "execution_count": 27,
   "id": "da60e339-f2f8-4410-8f7a-7c8c331f81f9",
   "metadata": {},
   "outputs": [],
   "source": [
    "# Menghapus data duplikat\n",
    "data_uji.drop_duplicates(inplace=True)"
   ]
  },
  {
   "cell_type": "code",
   "execution_count": 29,
   "id": "aa1963a4-260c-4e43-92e1-8e5db2d47d4c",
   "metadata": {},
   "outputs": [
    {
     "data": {
      "text/html": [
       "<div>\n",
       "<style scoped>\n",
       "    .dataframe tbody tr th:only-of-type {\n",
       "        vertical-align: middle;\n",
       "    }\n",
       "\n",
       "    .dataframe tbody tr th {\n",
       "        vertical-align: top;\n",
       "    }\n",
       "\n",
       "    .dataframe thead th {\n",
       "        text-align: right;\n",
       "    }\n",
       "</style>\n",
       "<table border=\"1\" class=\"dataframe\">\n",
       "  <thead>\n",
       "    <tr style=\"text-align: right;\">\n",
       "      <th></th>\n",
       "      <th>Umur(bln)</th>\n",
       "      <th>BB(Kg)</th>\n",
       "      <th>Tb(cm)</th>\n",
       "    </tr>\n",
       "  </thead>\n",
       "  <tbody>\n",
       "    <tr>\n",
       "      <th>count</th>\n",
       "      <td>185.000000</td>\n",
       "      <td>185.000000</td>\n",
       "      <td>185.000000</td>\n",
       "    </tr>\n",
       "    <tr>\n",
       "      <th>mean</th>\n",
       "      <td>36.897297</td>\n",
       "      <td>10.066486</td>\n",
       "      <td>84.003784</td>\n",
       "    </tr>\n",
       "    <tr>\n",
       "      <th>std</th>\n",
       "      <td>12.498489</td>\n",
       "      <td>1.919008</td>\n",
       "      <td>7.955886</td>\n",
       "    </tr>\n",
       "    <tr>\n",
       "      <th>min</th>\n",
       "      <td>7.000000</td>\n",
       "      <td>5.000000</td>\n",
       "      <td>57.000000</td>\n",
       "    </tr>\n",
       "    <tr>\n",
       "      <th>25%</th>\n",
       "      <td>27.000000</td>\n",
       "      <td>8.600000</td>\n",
       "      <td>79.000000</td>\n",
       "    </tr>\n",
       "    <tr>\n",
       "      <th>50%</th>\n",
       "      <td>38.000000</td>\n",
       "      <td>10.000000</td>\n",
       "      <td>84.500000</td>\n",
       "    </tr>\n",
       "    <tr>\n",
       "      <th>75%</th>\n",
       "      <td>47.000000</td>\n",
       "      <td>11.500000</td>\n",
       "      <td>90.500000</td>\n",
       "    </tr>\n",
       "    <tr>\n",
       "      <th>max</th>\n",
       "      <td>59.000000</td>\n",
       "      <td>14.700000</td>\n",
       "      <td>98.000000</td>\n",
       "    </tr>\n",
       "  </tbody>\n",
       "</table>\n",
       "</div>"
      ],
      "text/plain": [
       "        Umur(bln)      BB(Kg)      Tb(cm)\n",
       "count  185.000000  185.000000  185.000000\n",
       "mean    36.897297   10.066486   84.003784\n",
       "std     12.498489    1.919008    7.955886\n",
       "min      7.000000    5.000000   57.000000\n",
       "25%     27.000000    8.600000   79.000000\n",
       "50%     38.000000   10.000000   84.500000\n",
       "75%     47.000000   11.500000   90.500000\n",
       "max     59.000000   14.700000   98.000000"
      ]
     },
     "execution_count": 29,
     "metadata": {},
     "output_type": "execute_result"
    }
   ],
   "source": [
    "# Pengecekan ulang data\n",
    "data_uji.describe()"
   ]
  },
  {
   "cell_type": "code",
   "execution_count": 31,
   "id": "8e7f7e3f-58b7-49ec-9ab8-fe41c5608c02",
   "metadata": {},
   "outputs": [],
   "source": [
    "# Penggantian nama fitur Gender, Age, Body Weight, dan Body Length\n",
    "data_uji.rename(columns={\"JenisKelaminL/P\":\"jenisKelamin\", \"Umur(bln)\":\"umur\", \"BB(Kg)\":\"beratBadan\", \"Tb(cm)\":\"tinggiBadan\"}, inplace=True)"
   ]
  },
  {
   "cell_type": "code",
   "execution_count": 33,
   "id": "473084ab-1305-4794-8067-b3ab085a5c57",
   "metadata": {},
   "outputs": [
    {
     "data": {
      "text/html": [
       "<div>\n",
       "<style scoped>\n",
       "    .dataframe tbody tr th:only-of-type {\n",
       "        vertical-align: middle;\n",
       "    }\n",
       "\n",
       "    .dataframe tbody tr th {\n",
       "        vertical-align: top;\n",
       "    }\n",
       "\n",
       "    .dataframe thead th {\n",
       "        text-align: right;\n",
       "    }\n",
       "</style>\n",
       "<table border=\"1\" class=\"dataframe\">\n",
       "  <thead>\n",
       "    <tr style=\"text-align: right;\">\n",
       "      <th></th>\n",
       "      <th>NamaBalita</th>\n",
       "      <th>jenisKelamin</th>\n",
       "      <th>umur</th>\n",
       "      <th>beratBadan</th>\n",
       "      <th>tinggiBadan</th>\n",
       "      <th>StatusGiziPB/UTB/U</th>\n",
       "      <th>StatusGiziBB/U</th>\n",
       "      <th>StatusGiziBB/TB</th>\n",
       "    </tr>\n",
       "  </thead>\n",
       "  <tbody>\n",
       "    <tr>\n",
       "      <th>0</th>\n",
       "      <td>RaikalShingKhurana</td>\n",
       "      <td>L</td>\n",
       "      <td>35</td>\n",
       "      <td>8.5</td>\n",
       "      <td>86.0</td>\n",
       "      <td>PENDEK</td>\n",
       "      <td>BBSangatkurang</td>\n",
       "      <td>giziburuk</td>\n",
       "    </tr>\n",
       "    <tr>\n",
       "      <th>1</th>\n",
       "      <td>MestikaNabila</td>\n",
       "      <td>P</td>\n",
       "      <td>38</td>\n",
       "      <td>10.5</td>\n",
       "      <td>85.0</td>\n",
       "      <td>PENDEK</td>\n",
       "      <td>BBkurang</td>\n",
       "      <td>normal</td>\n",
       "    </tr>\n",
       "    <tr>\n",
       "      <th>2</th>\n",
       "      <td>kamaluddinilyas</td>\n",
       "      <td>L</td>\n",
       "      <td>23</td>\n",
       "      <td>7.7</td>\n",
       "      <td>79.0</td>\n",
       "      <td>PENDEK</td>\n",
       "      <td>BBSangatkurang</td>\n",
       "      <td>giziburuk</td>\n",
       "    </tr>\n",
       "    <tr>\n",
       "      <th>3</th>\n",
       "      <td>AyumiFaujiah</td>\n",
       "      <td>P</td>\n",
       "      <td>13</td>\n",
       "      <td>6.5</td>\n",
       "      <td>68.0</td>\n",
       "      <td>PENDEK</td>\n",
       "      <td>BBSangatkurang</td>\n",
       "      <td>gizikurang</td>\n",
       "    </tr>\n",
       "    <tr>\n",
       "      <th>4</th>\n",
       "      <td>Ikhsanpratama</td>\n",
       "      <td>L</td>\n",
       "      <td>48</td>\n",
       "      <td>12.0</td>\n",
       "      <td>95.0</td>\n",
       "      <td>PENDEK</td>\n",
       "      <td>BBkurang</td>\n",
       "      <td>normal</td>\n",
       "    </tr>\n",
       "  </tbody>\n",
       "</table>\n",
       "</div>"
      ],
      "text/plain": [
       "           NamaBalita jenisKelamin  umur  beratBadan  tinggiBadan  \\\n",
       "0  RaikalShingKhurana            L    35         8.5         86.0   \n",
       "1       MestikaNabila            P    38        10.5         85.0   \n",
       "2     kamaluddinilyas            L    23         7.7         79.0   \n",
       "3        AyumiFaujiah            P    13         6.5         68.0   \n",
       "4       Ikhsanpratama            L    48        12.0         95.0   \n",
       "\n",
       "  StatusGiziPB/UTB/U  StatusGiziBB/U StatusGiziBB/TB  \n",
       "0             PENDEK  BBSangatkurang       giziburuk  \n",
       "1             PENDEK        BBkurang          normal  \n",
       "2             PENDEK  BBSangatkurang       giziburuk  \n",
       "3             PENDEK  BBSangatkurang      gizikurang  \n",
       "4             PENDEK        BBkurang          normal  "
      ]
     },
     "execution_count": 33,
     "metadata": {},
     "output_type": "execute_result"
    }
   ],
   "source": [
    "# Pengecekan ulang fitur data\n",
    "data_uji.head()"
   ]
  },
  {
   "cell_type": "code",
   "execution_count": 34,
   "id": "fa5e58c1-6e1e-4d33-899d-41f4a96224ae",
   "metadata": {},
   "outputs": [],
   "source": [
    "# Eksport dataset uji mentah menjadi data_uji_clean.csv\n",
    "data_uji.to_csv('./data_uji_clean.csv', index=False)"
   ]
  }
 ],
 "metadata": {
  "kernelspec": {
   "display_name": "Python 3 (ipykernel)",
   "language": "python",
   "name": "python3"
  },
  "language_info": {
   "codemirror_mode": {
    "name": "ipython",
    "version": 3
   },
   "file_extension": ".py",
   "mimetype": "text/x-python",
   "name": "python",
   "nbconvert_exporter": "python",
   "pygments_lexer": "ipython3",
   "version": "3.13.3"
  }
 },
 "nbformat": 4,
 "nbformat_minor": 5
}
