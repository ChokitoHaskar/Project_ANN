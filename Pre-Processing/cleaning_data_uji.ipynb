{
 "cells": [
  {
   "cell_type": "code",
   "execution_count": 1,
   "id": "0ed1a8d8-a4d5-4e56-bc8b-829fbdb48079",
   "metadata": {},
   "outputs": [],
   "source": [
    "# Impor library pandas dan matplot\n",
    "import pandas as pd\n",
    "from matplotlib import pyplot as plt"
   ]
  },
  {
   "cell_type": "code",
   "execution_count": 2,
   "id": "0ecc7fab-418f-4b1e-a885-af7831e9d61a",
   "metadata": {},
   "outputs": [],
   "source": [
    "# Set variabel untuk dataset uji\n",
    "# Separator titik koma dan decimal berupa koma karena data berasal dari excel\n",
    "data_uji = pd.read_csv('./dataset-uji.csv', sep=';', decimal='.')"
   ]
  },
  {
   "cell_type": "code",
   "execution_count": 3,
   "id": "7f686b29-a3fc-4dd7-b5c5-ceee183c4733",
   "metadata": {},
   "outputs": [
    {
     "data": {
      "text/html": [
       "<div>\n",
       "<style scoped>\n",
       "    .dataframe tbody tr th:only-of-type {\n",
       "        vertical-align: middle;\n",
       "    }\n",
       "\n",
       "    .dataframe tbody tr th {\n",
       "        vertical-align: top;\n",
       "    }\n",
       "\n",
       "    .dataframe thead th {\n",
       "        text-align: right;\n",
       "    }\n",
       "</style>\n",
       "<table border=\"1\" class=\"dataframe\">\n",
       "  <thead>\n",
       "    <tr style=\"text-align: right;\">\n",
       "      <th></th>\n",
       "      <th>NamaBalita</th>\n",
       "      <th>JenisKelaminL/P</th>\n",
       "      <th>Umur(bln)</th>\n",
       "      <th>BB(Kg)</th>\n",
       "      <th>Tb(cm)</th>\n",
       "      <th>StatusGiziPB/UTB/U</th>\n",
       "      <th>StatusGiziBB/U</th>\n",
       "      <th>StatusGiziBB/TB</th>\n",
       "    </tr>\n",
       "  </thead>\n",
       "  <tbody>\n",
       "    <tr>\n",
       "      <th>0</th>\n",
       "      <td>RaikalShingKhurana</td>\n",
       "      <td>L</td>\n",
       "      <td>35</td>\n",
       "      <td>8.5</td>\n",
       "      <td>86</td>\n",
       "      <td>PENDEK</td>\n",
       "      <td>BBSangatkurang</td>\n",
       "      <td>giziburuk</td>\n",
       "    </tr>\n",
       "    <tr>\n",
       "      <th>1</th>\n",
       "      <td>MestikaNabila</td>\n",
       "      <td>P</td>\n",
       "      <td>38</td>\n",
       "      <td>10.5</td>\n",
       "      <td>85</td>\n",
       "      <td>PENDEK</td>\n",
       "      <td>BBkurang</td>\n",
       "      <td>normal</td>\n",
       "    </tr>\n",
       "    <tr>\n",
       "      <th>2</th>\n",
       "      <td>kamaluddinilyas</td>\n",
       "      <td>L</td>\n",
       "      <td>23</td>\n",
       "      <td>7.7</td>\n",
       "      <td>79</td>\n",
       "      <td>PENDEK</td>\n",
       "      <td>BBSangatkurang</td>\n",
       "      <td>giziburuk</td>\n",
       "    </tr>\n",
       "    <tr>\n",
       "      <th>3</th>\n",
       "      <td>AyumiFaujiah</td>\n",
       "      <td>P</td>\n",
       "      <td>13</td>\n",
       "      <td>6.5</td>\n",
       "      <td>68</td>\n",
       "      <td>PENDEK</td>\n",
       "      <td>BBSangatkurang</td>\n",
       "      <td>gizikurang</td>\n",
       "    </tr>\n",
       "    <tr>\n",
       "      <th>4</th>\n",
       "      <td>Ikhsanpratama</td>\n",
       "      <td>L</td>\n",
       "      <td>48</td>\n",
       "      <td>12</td>\n",
       "      <td>95</td>\n",
       "      <td>PENDEK</td>\n",
       "      <td>BBkurang</td>\n",
       "      <td>normal</td>\n",
       "    </tr>\n",
       "  </tbody>\n",
       "</table>\n",
       "</div>"
      ],
      "text/plain": [
       "           NamaBalita JenisKelaminL/P Umur(bln) BB(Kg) Tb(cm)  \\\n",
       "0  RaikalShingKhurana               L        35    8.5     86   \n",
       "1       MestikaNabila               P        38   10.5     85   \n",
       "2     kamaluddinilyas               L        23    7.7     79   \n",
       "3        AyumiFaujiah               P        13    6.5     68   \n",
       "4       Ikhsanpratama               L        48     12     95   \n",
       "\n",
       "  StatusGiziPB/UTB/U  StatusGiziBB/U StatusGiziBB/TB  \n",
       "0             PENDEK  BBSangatkurang       giziburuk  \n",
       "1             PENDEK        BBkurang          normal  \n",
       "2             PENDEK  BBSangatkurang       giziburuk  \n",
       "3             PENDEK  BBSangatkurang      gizikurang  \n",
       "4             PENDEK        BBkurang          normal  "
      ]
     },
     "execution_count": 3,
     "metadata": {},
     "output_type": "execute_result"
    }
   ],
   "source": [
    "# Cek fitur parameter data latih\n",
    "data_uji.head()"
   ]
  },
  {
   "cell_type": "code",
   "execution_count": 4,
   "id": "3b1e9a64-d26b-4565-a43f-f57713c6a087",
   "metadata": {},
   "outputs": [
    {
     "data": {
      "text/html": [
       "<div>\n",
       "<style scoped>\n",
       "    .dataframe tbody tr th:only-of-type {\n",
       "        vertical-align: middle;\n",
       "    }\n",
       "\n",
       "    .dataframe tbody tr th {\n",
       "        vertical-align: top;\n",
       "    }\n",
       "\n",
       "    .dataframe thead th {\n",
       "        text-align: right;\n",
       "    }\n",
       "</style>\n",
       "<table border=\"1\" class=\"dataframe\">\n",
       "  <thead>\n",
       "    <tr style=\"text-align: right;\">\n",
       "      <th></th>\n",
       "      <th>NamaBalita</th>\n",
       "      <th>JenisKelaminL/P</th>\n",
       "      <th>Umur(bln)</th>\n",
       "      <th>BB(Kg)</th>\n",
       "      <th>Tb(cm)</th>\n",
       "      <th>StatusGiziPB/UTB/U</th>\n",
       "      <th>StatusGiziBB/U</th>\n",
       "      <th>StatusGiziBB/TB</th>\n",
       "    </tr>\n",
       "  </thead>\n",
       "  <tbody>\n",
       "    <tr>\n",
       "      <th>count</th>\n",
       "      <td>190</td>\n",
       "      <td>190</td>\n",
       "      <td>189</td>\n",
       "      <td>189</td>\n",
       "      <td>189</td>\n",
       "      <td>188</td>\n",
       "      <td>188</td>\n",
       "      <td>188</td>\n",
       "    </tr>\n",
       "    <tr>\n",
       "      <th>unique</th>\n",
       "      <td>189</td>\n",
       "      <td>6</td>\n",
       "      <td>73</td>\n",
       "      <td>90</td>\n",
       "      <td>67</td>\n",
       "      <td>25</td>\n",
       "      <td>39</td>\n",
       "      <td>42</td>\n",
       "    </tr>\n",
       "    <tr>\n",
       "      <th>top</th>\n",
       "      <td>Mhd Al Rasyid</td>\n",
       "      <td>P</td>\n",
       "      <td>48</td>\n",
       "      <td>11</td>\n",
       "      <td>86</td>\n",
       "      <td>Pendek</td>\n",
       "      <td>Kurang</td>\n",
       "      <td>Baik</td>\n",
       "    </tr>\n",
       "    <tr>\n",
       "      <th>freq</th>\n",
       "      <td>2</td>\n",
       "      <td>91</td>\n",
       "      <td>8</td>\n",
       "      <td>18</td>\n",
       "      <td>10</td>\n",
       "      <td>77</td>\n",
       "      <td>44</td>\n",
       "      <td>36</td>\n",
       "    </tr>\n",
       "  </tbody>\n",
       "</table>\n",
       "</div>"
      ],
      "text/plain": [
       "           NamaBalita JenisKelaminL/P Umur(bln) BB(Kg) Tb(cm)  \\\n",
       "count             190             190       189    189    189   \n",
       "unique            189               6        73     90     67   \n",
       "top     Mhd Al Rasyid               P        48     11     86   \n",
       "freq                2              91         8     18     10   \n",
       "\n",
       "       StatusGiziPB/UTB/U StatusGiziBB/U StatusGiziBB/TB  \n",
       "count                 188            188             188  \n",
       "unique                 25             39              42  \n",
       "top                Pendek         Kurang            Baik  \n",
       "freq                   77             44              36  "
      ]
     },
     "execution_count": 4,
     "metadata": {},
     "output_type": "execute_result"
    }
   ],
   "source": [
    "# Cek statistik data latih\n",
    "data_uji.describe()"
   ]
  },
  {
   "cell_type": "code",
   "execution_count": 5,
   "id": "35ac3716-34a1-46e6-a2d0-5478c5a988c6",
   "metadata": {},
   "outputs": [
    {
     "data": {
      "text/plain": [
       "NamaBalita            190\n",
       "JenisKelaminL/P       190\n",
       "Umur(bln)             189\n",
       "BB(Kg)                189\n",
       "Tb(cm)                189\n",
       "StatusGiziPB/UTB/U    188\n",
       "StatusGiziBB/U        188\n",
       "StatusGiziBB/TB       188\n",
       "dtype: int64"
      ]
     },
     "execution_count": 5,
     "metadata": {},
     "output_type": "execute_result"
    }
   ],
   "source": [
    "# Cek total data pada dataset latih\n",
    "data_uji.count()"
   ]
  },
  {
   "cell_type": "code",
   "execution_count": 6,
   "id": "a7fe8220-a3c7-4386-9761-de26b9027896",
   "metadata": {},
   "outputs": [],
   "source": [
    "# Hapus kolom data kosong\n",
    "data_uji = data_uji.dropna()"
   ]
  },
  {
   "cell_type": "code",
   "execution_count": 7,
   "id": "7346e290-c4ac-4f5c-a91c-0ad6b28e8990",
   "metadata": {},
   "outputs": [],
   "source": [
    "# Menyesuaikan label jenis kelamin\n",
    "data_uji.loc[:,'JenisKelaminL/P'] = data_uji['JenisKelaminL/P'].replace(['lk', 'l'], 'L')\n",
    "data_uji.loc[:,'JenisKelaminL/P'] = data_uji['JenisKelaminL/P'].replace(['pr', 'p'], 'P')"
   ]
  },
  {
   "cell_type": "code",
   "execution_count": 8,
   "id": "1cfcff93-bc75-4ac8-aa2f-e1fbc9bf29db",
   "metadata": {},
   "outputs": [
    {
     "name": "stdout",
     "output_type": "stream",
     "text": [
      "object\n",
      "object\n",
      "object\n"
     ]
    }
   ],
   "source": [
    "# Cek Tipe Data\n",
    "print(data_uji['Umur(bln)'].dtype) # object\n",
    "print(data_uji['BB(Kg)'].dtype) # object\n",
    "print(data_uji['Tb(cm)'].dtype) # object"
   ]
  },
  {
   "cell_type": "code",
   "execution_count": 9,
   "id": "0f337474-f0dc-4f0d-9fd6-4ef1f75bc0a6",
   "metadata": {},
   "outputs": [],
   "source": [
    "# Menyesuaikan data Umur\n",
    "# Menghapus teks didalam data serta menghapus spasi pada awal dan akhir angka\n",
    "fixed_umur = data_uji.loc[data_uji['Umur(bln)'].str.contains('Bln|Bin|BLn'), 'Umur(bln)'].str[0:-3].str.replace(' ','')\n",
    "\n",
    "# Mengganti data umur awal dengan yang baru\n",
    "data_uji.loc[data_uji['Umur(bln)'].str.contains('Bln|Bin|BLn'), 'Umur(bln)'] = fixed_umur"
   ]
  },
  {
   "cell_type": "code",
   "execution_count": 10,
   "id": "982c097a-5814-453f-8c80-3f8c78bde851",
   "metadata": {},
   "outputs": [],
   "source": [
    "# Menyesuaikan data Berat Badan\n",
    "# Menghapus teks didalam data serta menghapus spasi pada awal dan akhir angka\n",
    "fixed_bb = data_uji.loc[data_uji['BB(Kg)'].str.contains('kg|Kg|KG'), 'BB(Kg)'].str[0:-2].str.replace(' ','')\n",
    "\n",
    "# Mengganti data berat awal dengan yang baru\n",
    "data_uji.loc[data_uji['BB(Kg)'].str.contains('kg|Kg|KG'), 'BB(Kg)'] = fixed_bb"
   ]
  },
  {
   "cell_type": "code",
   "execution_count": 11,
   "id": "b3c86207-edf9-48b2-85dc-fddc12c32960",
   "metadata": {},
   "outputs": [],
   "source": [
    "# Menyesuaikan data Tinggi Badan\n",
    "# Menghapus teks didalam data serta menghapus spasi pada awal dan akhir angka\n",
    "fixed_tb = data_uji.loc[data_uji['Tb(cm)'].str.contains('cm|Cm|CM'), 'Tb(cm)'].str[0:-2].str.replace(' ','')\n",
    "\n",
    "# Mengganti data tinggi awal dengan yang baru\n",
    "data_uji.loc[data_uji['Tb(cm)'].str.contains('cm|Cm|CM'), 'Tb(cm)'] = fixed_tb"
   ]
  },
  {
   "cell_type": "code",
   "execution_count": 12,
   "id": "fbc47291-9fac-4751-a3e5-e252938d676b",
   "metadata": {},
   "outputs": [
    {
     "name": "stdout",
     "output_type": "stream",
     "text": [
      "object\n",
      "object\n",
      "object\n"
     ]
    }
   ],
   "source": [
    "# Cek Tipe Data\n",
    "print(data_uji['Umur(bln)'].dtype) # object\n",
    "print(data_uji['BB(Kg)'].dtype) # object\n",
    "print(data_uji['Tb(cm)'].dtype) # Object"
   ]
  },
  {
   "cell_type": "code",
   "execution_count": 13,
   "id": "ad0cce89-5389-4f1b-aadd-1b00c685e95a",
   "metadata": {},
   "outputs": [
    {
     "data": {
      "text/html": [
       "<div>\n",
       "<style scoped>\n",
       "    .dataframe tbody tr th:only-of-type {\n",
       "        vertical-align: middle;\n",
       "    }\n",
       "\n",
       "    .dataframe tbody tr th {\n",
       "        vertical-align: top;\n",
       "    }\n",
       "\n",
       "    .dataframe thead th {\n",
       "        text-align: right;\n",
       "    }\n",
       "</style>\n",
       "<table border=\"1\" class=\"dataframe\">\n",
       "  <thead>\n",
       "    <tr style=\"text-align: right;\">\n",
       "      <th></th>\n",
       "      <th>NamaBalita</th>\n",
       "      <th>JenisKelaminL/P</th>\n",
       "      <th>Umur(bln)</th>\n",
       "      <th>BB(Kg)</th>\n",
       "      <th>Tb(cm)</th>\n",
       "      <th>StatusGiziPB/UTB/U</th>\n",
       "      <th>StatusGiziBB/U</th>\n",
       "      <th>StatusGiziBB/TB</th>\n",
       "    </tr>\n",
       "  </thead>\n",
       "  <tbody>\n",
       "    <tr>\n",
       "      <th>count</th>\n",
       "      <td>188</td>\n",
       "      <td>188</td>\n",
       "      <td>188</td>\n",
       "      <td>188</td>\n",
       "      <td>188</td>\n",
       "      <td>188</td>\n",
       "      <td>188</td>\n",
       "      <td>188</td>\n",
       "    </tr>\n",
       "    <tr>\n",
       "      <th>unique</th>\n",
       "      <td>187</td>\n",
       "      <td>3</td>\n",
       "      <td>48</td>\n",
       "      <td>78</td>\n",
       "      <td>56</td>\n",
       "      <td>25</td>\n",
       "      <td>39</td>\n",
       "      <td>42</td>\n",
       "    </tr>\n",
       "    <tr>\n",
       "      <th>top</th>\n",
       "      <td>Mhd Al Rasyid</td>\n",
       "      <td>P</td>\n",
       "      <td>48</td>\n",
       "      <td>11</td>\n",
       "      <td>86</td>\n",
       "      <td>Pendek</td>\n",
       "      <td>Kurang</td>\n",
       "      <td>Baik</td>\n",
       "    </tr>\n",
       "    <tr>\n",
       "      <th>freq</th>\n",
       "      <td>2</td>\n",
       "      <td>98</td>\n",
       "      <td>10</td>\n",
       "      <td>18</td>\n",
       "      <td>10</td>\n",
       "      <td>77</td>\n",
       "      <td>44</td>\n",
       "      <td>36</td>\n",
       "    </tr>\n",
       "  </tbody>\n",
       "</table>\n",
       "</div>"
      ],
      "text/plain": [
       "           NamaBalita JenisKelaminL/P Umur(bln) BB(Kg) Tb(cm)  \\\n",
       "count             188             188       188    188    188   \n",
       "unique            187               3        48     78     56   \n",
       "top     Mhd Al Rasyid               P        48     11     86   \n",
       "freq                2              98        10     18     10   \n",
       "\n",
       "       StatusGiziPB/UTB/U StatusGiziBB/U StatusGiziBB/TB  \n",
       "count                 188            188             188  \n",
       "unique                 25             39              42  \n",
       "top                Pendek         Kurang            Baik  \n",
       "freq                   77             44              36  "
      ]
     },
     "execution_count": 13,
     "metadata": {},
     "output_type": "execute_result"
    }
   ],
   "source": [
    "data_uji.describe()"
   ]
  },
  {
   "cell_type": "code",
   "execution_count": 14,
   "id": "85905512-ab6f-4b6e-abb6-640496850729",
   "metadata": {},
   "outputs": [
    {
     "data": {
      "text/plain": [
       "0      86\n",
       "1      85\n",
       "2      79\n",
       "3      68\n",
       "4      95\n",
       "       ..\n",
       "185    85\n",
       "186    93\n",
       "187    85\n",
       "188    68\n",
       "189    74\n",
       "Name: Tb(cm), Length: 188, dtype: object"
      ]
     },
     "execution_count": 14,
     "metadata": {},
     "output_type": "execute_result"
    }
   ],
   "source": [
    "data_uji['Tb(cm)']"
   ]
  },
  {
   "cell_type": "code",
   "execution_count": 15,
   "id": "a5d757a3-7d8d-439c-9fc1-686615d24d97",
   "metadata": {},
   "outputs": [],
   "source": [
    "# Mengubah tanda koma menjadi titik\n",
    "data_uji['BB(Kg)'] = data_uji['BB(Kg)'].str.replace(',', '.')\n",
    "data_uji['Tb(cm)'] = data_uji['Tb(cm)'].str.replace(',', '.')"
   ]
  },
  {
   "cell_type": "code",
   "execution_count": 16,
   "id": "ace7ba10-b2af-4382-9ba0-76be32ef1fd5",
   "metadata": {},
   "outputs": [
    {
     "data": {
      "text/html": [
       "<div>\n",
       "<style scoped>\n",
       "    .dataframe tbody tr th:only-of-type {\n",
       "        vertical-align: middle;\n",
       "    }\n",
       "\n",
       "    .dataframe tbody tr th {\n",
       "        vertical-align: top;\n",
       "    }\n",
       "\n",
       "    .dataframe thead th {\n",
       "        text-align: right;\n",
       "    }\n",
       "</style>\n",
       "<table border=\"1\" class=\"dataframe\">\n",
       "  <thead>\n",
       "    <tr style=\"text-align: right;\">\n",
       "      <th></th>\n",
       "      <th>NamaBalita</th>\n",
       "      <th>JenisKelaminL/P</th>\n",
       "      <th>Umur(bln)</th>\n",
       "      <th>BB(Kg)</th>\n",
       "      <th>Tb(cm)</th>\n",
       "      <th>StatusGiziPB/UTB/U</th>\n",
       "      <th>StatusGiziBB/U</th>\n",
       "      <th>StatusGiziBB/TB</th>\n",
       "    </tr>\n",
       "  </thead>\n",
       "  <tbody>\n",
       "    <tr>\n",
       "      <th>count</th>\n",
       "      <td>188</td>\n",
       "      <td>188</td>\n",
       "      <td>188</td>\n",
       "      <td>188</td>\n",
       "      <td>188</td>\n",
       "      <td>188</td>\n",
       "      <td>188</td>\n",
       "      <td>188</td>\n",
       "    </tr>\n",
       "    <tr>\n",
       "      <th>unique</th>\n",
       "      <td>187</td>\n",
       "      <td>3</td>\n",
       "      <td>48</td>\n",
       "      <td>65</td>\n",
       "      <td>53</td>\n",
       "      <td>25</td>\n",
       "      <td>39</td>\n",
       "      <td>42</td>\n",
       "    </tr>\n",
       "    <tr>\n",
       "      <th>top</th>\n",
       "      <td>Mhd Al Rasyid</td>\n",
       "      <td>P</td>\n",
       "      <td>48</td>\n",
       "      <td>11</td>\n",
       "      <td>86</td>\n",
       "      <td>Pendek</td>\n",
       "      <td>Kurang</td>\n",
       "      <td>Baik</td>\n",
       "    </tr>\n",
       "    <tr>\n",
       "      <th>freq</th>\n",
       "      <td>2</td>\n",
       "      <td>98</td>\n",
       "      <td>10</td>\n",
       "      <td>18</td>\n",
       "      <td>10</td>\n",
       "      <td>77</td>\n",
       "      <td>44</td>\n",
       "      <td>36</td>\n",
       "    </tr>\n",
       "  </tbody>\n",
       "</table>\n",
       "</div>"
      ],
      "text/plain": [
       "           NamaBalita JenisKelaminL/P Umur(bln) BB(Kg) Tb(cm)  \\\n",
       "count             188             188       188    188    188   \n",
       "unique            187               3        48     65     53   \n",
       "top     Mhd Al Rasyid               P        48     11     86   \n",
       "freq                2              98        10     18     10   \n",
       "\n",
       "       StatusGiziPB/UTB/U StatusGiziBB/U StatusGiziBB/TB  \n",
       "count                 188            188             188  \n",
       "unique                 25             39              42  \n",
       "top                Pendek         Kurang            Baik  \n",
       "freq                   77             44              36  "
      ]
     },
     "execution_count": 16,
     "metadata": {},
     "output_type": "execute_result"
    }
   ],
   "source": [
    "data_uji.describe()"
   ]
  },
  {
   "cell_type": "code",
   "execution_count": 17,
   "id": "69a3cde7-dfd3-4d76-ab5b-4c238fc757dc",
   "metadata": {},
   "outputs": [],
   "source": [
    "# Mengubah Umur, Berat, dan Tinggi menjadi numeral\n",
    "data_uji['Umur(bln)'] = pd.to_numeric(data_uji['Umur(bln)']) # int64\n",
    "data_uji['BB(Kg)'] = pd.to_numeric(data_uji['BB(Kg)']) # float64\n",
    "data_uji['Tb(cm)'] = pd.to_numeric(data_uji['Tb(cm)']) # float64"
   ]
  },
  {
   "cell_type": "code",
   "execution_count": 18,
   "id": "35fc771d-fb7b-4ba5-9b51-20459f8691ac",
   "metadata": {},
   "outputs": [
    {
     "data": {
      "text/html": [
       "<div>\n",
       "<style scoped>\n",
       "    .dataframe tbody tr th:only-of-type {\n",
       "        vertical-align: middle;\n",
       "    }\n",
       "\n",
       "    .dataframe tbody tr th {\n",
       "        vertical-align: top;\n",
       "    }\n",
       "\n",
       "    .dataframe thead th {\n",
       "        text-align: right;\n",
       "    }\n",
       "</style>\n",
       "<table border=\"1\" class=\"dataframe\">\n",
       "  <thead>\n",
       "    <tr style=\"text-align: right;\">\n",
       "      <th></th>\n",
       "      <th>Umur(bln)</th>\n",
       "      <th>BB(Kg)</th>\n",
       "      <th>Tb(cm)</th>\n",
       "    </tr>\n",
       "  </thead>\n",
       "  <tbody>\n",
       "    <tr>\n",
       "      <th>count</th>\n",
       "      <td>188.000000</td>\n",
       "      <td>188.000000</td>\n",
       "      <td>188.000000</td>\n",
       "    </tr>\n",
       "    <tr>\n",
       "      <th>mean</th>\n",
       "      <td>36.904255</td>\n",
       "      <td>10.070213</td>\n",
       "      <td>92.402660</td>\n",
       "    </tr>\n",
       "    <tr>\n",
       "      <th>std</th>\n",
       "      <td>12.439861</td>\n",
       "      <td>1.908857</td>\n",
       "      <td>81.807058</td>\n",
       "    </tr>\n",
       "    <tr>\n",
       "      <th>min</th>\n",
       "      <td>7.000000</td>\n",
       "      <td>5.000000</td>\n",
       "      <td>57.000000</td>\n",
       "    </tr>\n",
       "    <tr>\n",
       "      <th>25%</th>\n",
       "      <td>26.750000</td>\n",
       "      <td>8.600000</td>\n",
       "      <td>79.000000</td>\n",
       "    </tr>\n",
       "    <tr>\n",
       "      <th>50%</th>\n",
       "      <td>38.000000</td>\n",
       "      <td>10.000000</td>\n",
       "      <td>84.750000</td>\n",
       "    </tr>\n",
       "    <tr>\n",
       "      <th>75%</th>\n",
       "      <td>47.000000</td>\n",
       "      <td>11.500000</td>\n",
       "      <td>90.625000</td>\n",
       "    </tr>\n",
       "    <tr>\n",
       "      <th>max</th>\n",
       "      <td>59.000000</td>\n",
       "      <td>14.700000</td>\n",
       "      <td>884.000000</td>\n",
       "    </tr>\n",
       "  </tbody>\n",
       "</table>\n",
       "</div>"
      ],
      "text/plain": [
       "        Umur(bln)      BB(Kg)      Tb(cm)\n",
       "count  188.000000  188.000000  188.000000\n",
       "mean    36.904255   10.070213   92.402660\n",
       "std     12.439861    1.908857   81.807058\n",
       "min      7.000000    5.000000   57.000000\n",
       "25%     26.750000    8.600000   79.000000\n",
       "50%     38.000000   10.000000   84.750000\n",
       "75%     47.000000   11.500000   90.625000\n",
       "max     59.000000   14.700000  884.000000"
      ]
     },
     "execution_count": 18,
     "metadata": {},
     "output_type": "execute_result"
    }
   ],
   "source": [
    "data_uji.describe()"
   ]
  },
  {
   "cell_type": "code",
   "execution_count": 19,
   "id": "17da54c4-188a-4eb8-985d-16ce2a08e04f",
   "metadata": {},
   "outputs": [],
   "source": [
    "# Pencarian outlier pada Fitur Umur\n",
    "# Mencari Q1 dan Q3\n",
    "Q1_umur = data_uji['Umur(bln)'].quantile(0.25)\n",
    "Q3_umur = data_uji['Umur(bln)'].quantile(0.75)\n",
    "\n",
    "# Mencari IQR serta batas bawah dan batas atas\n",
    "IQR_umur = Q3_umur - Q1_umur\n",
    "umur_bawah = Q1_umur - 1.5 * IQR_umur\n",
    "umur_atas = Q3_umur + 1.5 * IQR_umur\n",
    "\n",
    "# Mencari data outlier dari dataset latih\n",
    "outlier_umur = data_uji.loc[(data_uji['Umur(bln)'] < umur_bawah) | (data_uji['Umur(bln)'] > umur_atas)]"
   ]
  },
  {
   "cell_type": "code",
   "execution_count": 20,
   "id": "42c9bc5c-fcce-4944-be11-09c80426ad3d",
   "metadata": {},
   "outputs": [],
   "source": [
    "# Mencari noise pada outlier umur\n",
    "# Data usia wajar menurut WHO yakni 1 sampai dengan 60 bulan\n",
    "noise_umur = outlier_umur.loc[(outlier_umur['Umur(bln)'] < 1) | (outlier_umur['Umur(bln)'] > 60)]\n",
    "\n",
    "# Hapus data tidak wajar pada data latih\n",
    "data_uji = data_uji.drop(index = noise_umur.index).reset_index(drop=True)"
   ]
  },
  {
   "cell_type": "code",
   "execution_count": 21,
   "id": "c1058560-47e0-488e-b856-213d16c79d8d",
   "metadata": {},
   "outputs": [],
   "source": [
    "# Pencarian outlier pada Fitur Berat\n",
    "# Mencari Q1 dan Q3\n",
    "Q1_berat = data_uji['BB(Kg)'].quantile(0.25)\n",
    "Q3_berat = data_uji['BB(Kg)'].quantile(0.75)\n",
    "\n",
    "# Mencari IQR serta batas bawah dan batas atas\n",
    "IQR_berat = Q3_berat - Q1_berat\n",
    "berat_bawah = Q1_berat - 1.5 * IQR_berat\n",
    "berat_atas = Q3_berat + 1.5 * IQR_berat\n",
    "\n",
    "# Mencari data outlier dari dataset latih\n",
    "outlier_berat = data_uji.loc[(data_uji['BB(Kg)'] < berat_bawah) | (data_uji['BB(Kg)'] > berat_atas)]"
   ]
  },
  {
   "cell_type": "code",
   "execution_count": 22,
   "id": "259c82f7-2063-4ba7-94c4-706f7dc43926",
   "metadata": {},
   "outputs": [],
   "source": [
    "# Mencari noise pada outlier Berat\n",
    "# Data berat wajar menurut WHO yakni 2 sampai dengan 28\n",
    "noise_berat = outlier_berat.loc[(outlier_berat['BB(Kg)'] < 2) | (outlier_berat['BB(Kg)'] > 28)]\n",
    "\n",
    "# Hapus data tidak wajar pada data latih\n",
    "data_uji = data_uji.drop(index = noise_berat.index).reset_index(drop=True)"
   ]
  },
  {
   "cell_type": "code",
   "execution_count": 29,
   "id": "7cf01bcf-cbb1-47c1-a08e-5dffb307ab43",
   "metadata": {},
   "outputs": [],
   "source": [
    "# Pencarian outlier pada Fitur Tinggi\n",
    "# Mencari Q1 dan Q3\n",
    "Q1_tinggi = data_uji['Tb(cm)'].quantile(0.25)\n",
    "Q3_tinggi = data_uji['Tb(cm)'].quantile(0.75)\n",
    "\n",
    "# Mencari IQR serta batas bawah dan batas atas\n",
    "IQR_tinggi = Q3_tinggi - Q1_tinggi\n",
    "tinggi_bawah = Q1_tinggi - 1.5 * IQR_tinggi\n",
    "tinggi_atas = Q3_tinggi + 1.5 * IQR_tinggi\n",
    "\n",
    "# Mencari data outlier dari dataset latih\n",
    "outlier_tinggi = data_uji.loc[(data_uji['Tb(cm)'] < tinggi_bawah) | (data_uji['Tb(cm)'] > tinggi_atas)]"
   ]
  },
  {
   "cell_type": "code",
   "execution_count": 31,
   "id": "6d7e8af4-08cb-4e39-9c21-7101b9bd2532",
   "metadata": {},
   "outputs": [],
   "source": [
    "# Mencari noise pada outlier Tinggi\n",
    "# Data tingg wajar menurut WHO yakni 44 sampai dengan 124\n",
    "noise_tinggi = outlier_tinggi.loc[(outlier_tinggi['Tb(cm)'] < 4) | (outlier_tinggi['Tb(cm)'] > 124)]\n",
    "\n",
    "# Hapus data tidak wajar pada data latih\n",
    "data_uji = data_uji.drop(index = noise_tinggi.index).reset_index(drop=True)"
   ]
  },
  {
   "cell_type": "code",
   "execution_count": 32,
   "id": "4afb6917-5c24-41a0-bbd3-9301d6d2e099",
   "metadata": {},
   "outputs": [
    {
     "data": {
      "image/png": "[encoded data removed]",
      "text/plain": [
       "<Figure size 640x480 with 1 Axes>"
      ]
     },
     "metadata": {},
     "output_type": "display_data"
    }
   ],
   "source": [
    "# Visualisasi data berbentuk boxplot untuk data Umur\n",
    "# Batasan WHO\n",
    "who_age = list(range(1,61))\n",
    "data = [data_uji['Umur(bln)'], outlier_umur['Umur(bln)'], who_age]\n",
    "labels = ['Data Uji', 'Outliers', 'WHO']\n",
    "\n",
    "plt.title('Data Uji - Fitur Umur(bln)', loc='right')\n",
    "plt.ylabel('Umur (Bulan)')\n",
    "plt.boxplot(data, tick_labels=labels)\n",
    "plt.show()"
   ]
  },
  {
   "cell_type": "code",
   "execution_count": 33,
   "id": "0b911c90-52ea-4e59-8eea-0d3b8ce86dfd",
   "metadata": {},
   "outputs": [
    {
     "data": {
      "image/png": "[encoded data removed]",
      "text/plain": [
       "<Figure size 640x480 with 1 Axes>"
      ]
     },
     "metadata": {},
     "output_type": "display_data"
    }
   ],
   "source": [
    "# Visualisasi data berbentuk boxplot untuk data Umur\n",
    "# Batasan WHO\n",
    "who_berat = list(range(2,29))\n",
    "data = [data_uji['BB(Kg)'], outlier_umur['BB(Kg)'], who_berat]\n",
    "labels = ['Data Uji', 'Outliers', 'WHO']\n",
    "\n",
    "plt.title('Data Uji - Fitur Umur(bln)', loc='right')\n",
    "plt.ylabel('Berat (Kg)')\n",
    "plt.boxplot(data, tick_labels=labels)\n",
    "plt.show()"
   ]
  },
  {
   "cell_type": "code",
   "execution_count": 35,
   "id": "78a5642b-0d58-4c33-8f1b-b7bb8d0e525a",
   "metadata": {},
   "outputs": [
    {
     "data": {
      "image/png": "[encoded data removed]",
      "text/plain": [
       "<Figure size 640x480 with 1 Axes>"
      ]
     },
     "metadata": {},
     "output_type": "display_data"
    }
   ],
   "source": [
    "# Visualisasi data berbentuk boxplot untuk data Umur\n",
    "# Batasan WHO\n",
    "who_tinggi = list(range(4,125))\n",
    "data = [data_uji['Tb(cm)'], outlier_umur['Tb(cm)'], who_tinggi]\n",
    "labels = ['Data Uji', 'Outliers', 'WHO']\n",
    "\n",
    "plt.title('Data Uji - Fitur Tinggi(cm)', loc='right')\n",
    "plt.ylabel('Tinggi (Cm)')\n",
    "plt.boxplot(data, tick_labels=labels)\n",
    "plt.show()"
   ]
  },
  {
   "cell_type": "code",
   "execution_count": 36,
   "id": "138657ef-9662-4caf-8ba3-63ef74fae2ef",
   "metadata": {},
   "outputs": [
    {
     "data": {
      "text/html": [
       "<div>\n",
       "<style scoped>\n",
       "    .dataframe tbody tr th:only-of-type {\n",
       "        vertical-align: middle;\n",
       "    }\n",
       "\n",
       "    .dataframe tbody tr th {\n",
       "        vertical-align: top;\n",
       "    }\n",
       "\n",
       "    .dataframe thead th {\n",
       "        text-align: right;\n",
       "    }\n",
       "</style>\n",
       "<table border=\"1\" class=\"dataframe\">\n",
       "  <thead>\n",
       "    <tr style=\"text-align: right;\">\n",
       "      <th></th>\n",
       "      <th>Umur(bln)</th>\n",
       "      <th>BB(Kg)</th>\n",
       "      <th>Tb(cm)</th>\n",
       "    </tr>\n",
       "  </thead>\n",
       "  <tbody>\n",
       "    <tr>\n",
       "      <th>count</th>\n",
       "      <td>186.000000</td>\n",
       "      <td>186.000000</td>\n",
       "      <td>186.000000</td>\n",
       "    </tr>\n",
       "    <tr>\n",
       "      <th>mean</th>\n",
       "      <td>36.838710</td>\n",
       "      <td>10.059677</td>\n",
       "      <td>83.982258</td>\n",
       "    </tr>\n",
       "    <tr>\n",
       "      <th>std</th>\n",
       "      <td>12.490247</td>\n",
       "      <td>1.916067</td>\n",
       "      <td>7.939784</td>\n",
       "    </tr>\n",
       "    <tr>\n",
       "      <th>min</th>\n",
       "      <td>7.000000</td>\n",
       "      <td>5.000000</td>\n",
       "      <td>57.000000</td>\n",
       "    </tr>\n",
       "    <tr>\n",
       "      <th>25%</th>\n",
       "      <td>26.250000</td>\n",
       "      <td>8.600000</td>\n",
       "      <td>79.000000</td>\n",
       "    </tr>\n",
       "    <tr>\n",
       "      <th>50%</th>\n",
       "      <td>38.000000</td>\n",
       "      <td>10.000000</td>\n",
       "      <td>84.250000</td>\n",
       "    </tr>\n",
       "    <tr>\n",
       "      <th>75%</th>\n",
       "      <td>47.000000</td>\n",
       "      <td>11.500000</td>\n",
       "      <td>90.375000</td>\n",
       "    </tr>\n",
       "    <tr>\n",
       "      <th>max</th>\n",
       "      <td>59.000000</td>\n",
       "      <td>14.700000</td>\n",
       "      <td>98.000000</td>\n",
       "    </tr>\n",
       "  </tbody>\n",
       "</table>\n",
       "</div>"
      ],
      "text/plain": [
       "        Umur(bln)      BB(Kg)      Tb(cm)\n",
       "count  186.000000  186.000000  186.000000\n",
       "mean    36.838710   10.059677   83.982258\n",
       "std     12.490247    1.916067    7.939784\n",
       "min      7.000000    5.000000   57.000000\n",
       "25%     26.250000    8.600000   79.000000\n",
       "50%     38.000000   10.000000   84.250000\n",
       "75%     47.000000   11.500000   90.375000\n",
       "max     59.000000   14.700000   98.000000"
      ]
     },
     "execution_count": 36,
     "metadata": {},
     "output_type": "execute_result"
    }
   ],
   "source": [
    "data_uji.describe()"
   ]
  },
  {
   "cell_type": "code",
   "execution_count": 28,
   "id": "fa5e58c1-6e1e-4d33-899d-41f4a96224ae",
   "metadata": {},
   "outputs": [],
   "source": [
    "#data_uji.to_csv('./data_uji.clean.csv')"
   ]
  }
 ],
 "metadata": {
  "kernelspec": {
   "display_name": "Python 3 (ipykernel)",
   "language": "python",
   "name": "python3"
  },
  "language_info": {
   "codemirror_mode": {
    "name": "ipython",
    "version": 3
   },
   "file_extension": ".py",
   "mimetype": "text/x-python",
   "name": "python",
   "nbconvert_exporter": "python",
   "pygments_lexer": "ipython3",
   "version": "3.13.3"
  }
 },
 "nbformat": 4,
 "nbformat_minor": 5
}
