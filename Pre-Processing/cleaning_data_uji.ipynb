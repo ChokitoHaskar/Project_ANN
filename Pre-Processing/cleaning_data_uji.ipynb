{
 "cells": [
  {
   "cell_type": "code",
   "execution_count": null,
   "id": "0ed1a8d8-a4d5-4e56-bc8b-829fbdb48079",
   "metadata": {},
   "outputs": [],
   "source": [
    "# Impor library pandas dan matplot\n",
    "import pandas as pd\n",
    "from matplotlib import pyplot as plt"
   ]
  },
  {
   "cell_type": "code",
   "execution_count": null,
   "id": "0ecc7fab-418f-4b1e-a885-af7831e9d61a",
   "metadata": {},
   "outputs": [],
   "source": [
    "# Set variabel untuk dataset uji\n",
    "# Separator titik koma dan decimal berupa koma karena data berasal dari excel\n",
    "data_uji = pd.read_csv('./dataset-uji.csv', sep=';', decimal='.')"
   ]
  },
  {
   "cell_type": "code",
   "execution_count": null,
   "id": "7f686b29-a3fc-4dd7-b5c5-ceee183c4733",
   "metadata": {},
   "outputs": [],
   "source": [
    "# Cek fitur parameter data latih\n",
    "data_uji.head()"
   ]
  },
  {
   "cell_type": "code",
   "execution_count": null,
   "id": "3b1e9a64-d26b-4565-a43f-f57713c6a087",
   "metadata": {},
   "outputs": [],
   "source": [
    "# Cek statistik data latih\n",
    "data_uji.describe()"
   ]
  },
  {
   "cell_type": "code",
   "execution_count": null,
   "id": "35ac3716-34a1-46e6-a2d0-5478c5a988c6",
   "metadata": {},
   "outputs": [],
   "source": [
    "# Cek total data pada dataset latih\n",
    "data_uji.count()"
   ]
  },
  {
   "cell_type": "code",
   "execution_count": null,
   "id": "a7fe8220-a3c7-4386-9761-de26b9027896",
   "metadata": {},
   "outputs": [],
   "source": [
    "# Hapus kolom data kosong\n",
    "data_uji = data_uji.dropna()"
   ]
  },
  {
   "cell_type": "code",
   "execution_count": null,
   "id": "7346e290-c4ac-4f5c-a91c-0ad6b28e8990",
   "metadata": {},
   "outputs": [],
   "source": [
    "# Menyesuaikan label jenis kelamin\n",
    "data_uji.loc[:,'JenisKelaminL/P'] = data_uji['JenisKelaminL/P'].replace(['lk', 'l'], 'L')\n",
    "data_uji.loc[:,'JenisKelaminL/P'] = data_uji['JenisKelaminL/P'].replace(['pr', 'p'], 'P')"
   ]
  },
  {
   "cell_type": "code",
   "execution_count": null,
   "id": "1cfcff93-bc75-4ac8-aa2f-e1fbc9bf29db",
   "metadata": {},
   "outputs": [],
   "source": [
    "# Cek Tipe Data\n",
    "print(data_uji['Umur(bln)'].dtype) # object\n",
    "print(data_uji['BB(Kg)'].dtype) # object\n",
    "print(data_uji['Tb(cm)'].dtype) # object"
   ]
  },
  {
   "cell_type": "code",
   "execution_count": null,
   "id": "0f337474-f0dc-4f0d-9fd6-4ef1f75bc0a6",
   "metadata": {},
   "outputs": [],
   "source": [
    "# Menyesuaikan data Umur\n",
    "# Menghapus teks didalam data serta menghapus spasi pada awal dan akhir angka\n",
    "fixed_umur = data_uji.loc[data_uji['Umur(bln)'].str.contains('Bln|Bin|BLn'), 'Umur(bln)'].str[0:-3].str.replace(' ','')\n",
    "\n",
    "# Mengganti data umur awal dengan yang baru\n",
    "data_uji.loc[data_uji['Umur(bln)'].str.contains('Bln|Bin|BLn'), 'Umur(bln)'] = fixed_umur"
   ]
  },
  {
   "cell_type": "code",
   "execution_count": null,
   "id": "982c097a-5814-453f-8c80-3f8c78bde851",
   "metadata": {},
   "outputs": [],
   "source": [
    "# Menyesuaikan data Berat Badan\n",
    "# Menghapus teks didalam data serta menghapus spasi pada awal dan akhir angka\n",
    "fixed_bb = data_uji.loc[data_uji['BB(Kg)'].str.contains('kg|Kg|KG'), 'BB(Kg)'].str[0:-2].str.replace(' ','')\n",
    "\n",
    "# Mengganti data berat awal dengan yang baru\n",
    "data_uji.loc[data_uji['BB(Kg)'].str.contains('kg|Kg|KG'), 'BB(Kg)'] = fixed_bb"
   ]
  },
  {
   "cell_type": "code",
   "execution_count": null,
   "id": "b3c86207-edf9-48b2-85dc-fddc12c32960",
   "metadata": {},
   "outputs": [],
   "source": [
    "# Menyesuaikan data Tinggi Badan\n",
    "# Menghapus teks didalam data serta menghapus spasi pada awal dan akhir angka\n",
    "fixed_tb = data_uji.loc[data_uji['Tb(cm)'].str.contains('cm|Cm|CM'), 'Tb(cm)'].str[0:-2].str.replace(' ','')\n",
    "\n",
    "# Mengganti data tinggi awal dengan yang baru\n",
    "data_uji.loc[data_uji['Tb(cm)'].str.contains('cm|Cm|CM'), 'Tb(cm)'] = fixed_tb"
   ]
  },
  {
   "cell_type": "code",
   "execution_count": null,
   "id": "fbc47291-9fac-4751-a3e5-e252938d676b",
   "metadata": {},
   "outputs": [],
   "source": [
    "# Cek Tipe Data\n",
    "print(data_uji['Umur(bln)'].dtype) # object\n",
    "print(data_uji['BB(Kg)'].dtype) # object\n",
    "print(data_uji['Tb(cm)'].dtype) # Object"
   ]
  },
  {
   "cell_type": "code",
   "execution_count": null,
   "id": "ad0cce89-5389-4f1b-aadd-1b00c685e95a",
   "metadata": {},
   "outputs": [],
   "source": [
    "data_uji.describe()"
   ]
  },
  {
   "cell_type": "code",
   "execution_count": null,
   "id": "85905512-ab6f-4b6e-abb6-640496850729",
   "metadata": {},
   "outputs": [],
   "source": [
    "data_uji['Tb(cm)']"
   ]
  },
  {
   "cell_type": "code",
   "execution_count": null,
   "id": "a5d757a3-7d8d-439c-9fc1-686615d24d97",
   "metadata": {},
   "outputs": [],
   "source": [
    "# Mengubah tanda koma menjadi titik\n",
    "data_uji['BB(Kg)'] = data_uji['BB(Kg)'].str.replace(',', '.')\n",
    "data_uji['Tb(cm)'] = data_uji['Tb(cm)'].str.replace(',', '.')"
   ]
  },
  {
   "cell_type": "code",
   "execution_count": null,
   "id": "ace7ba10-b2af-4382-9ba0-76be32ef1fd5",
   "metadata": {},
   "outputs": [],
   "source": [
    "data_uji.describe()"
   ]
  },
  {
   "cell_type": "code",
   "execution_count": null,
   "id": "69a3cde7-dfd3-4d76-ab5b-4c238fc757dc",
   "metadata": {},
   "outputs": [],
   "source": [
    "# Mengubah Umur, Berat, dan Tinggi menjadi numeral\n",
    "data_uji['Umur(bln)'] = pd.to_numeric(data_uji['Umur(bln)']) # int64\n",
    "data_uji['BB(Kg)'] = pd.to_numeric(data_uji['BB(Kg)']) # float64\n",
    "data_uji['Tb(cm)'] = pd.to_numeric(data_uji['Tb(cm)']) # float64"
   ]
  },
  {
   "cell_type": "code",
   "execution_count": null,
   "id": "35fc771d-fb7b-4ba5-9b51-20459f8691ac",
   "metadata": {},
   "outputs": [],
   "source": [
    "data_uji.describe()"
   ]
  },
  {
   "cell_type": "code",
   "execution_count": null,
   "id": "17da54c4-188a-4eb8-985d-16ce2a08e04f",
   "metadata": {},
   "outputs": [],
   "source": [
    "# Pencarian outlier pada Fitur Umur\n",
    "# Mencari Q1 dan Q3\n",
    "Q1_umur = data_uji['Umur(bln)'].quantile(0.25)\n",
    "Q3_umur = data_uji['Umur(bln)'].quantile(0.75)\n",
    "\n",
    "# Mencari IQR serta batas bawah dan batas atas\n",
    "IQR_umur = Q3_umur - Q1_umur\n",
    "umur_bawah = Q1_umur - 1.5 * IQR_umur\n",
    "umur_atas = Q3_umur + 1.5 * IQR_umur\n",
    "\n",
    "# Mencari data outlier dari dataset latih\n",
    "outlier_umur = data_uji.loc[(data_uji['Umur(bln)'] < umur_bawah) | (data_uji['Umur(bln)'] > umur_atas)]"
   ]
  },
  {
   "cell_type": "code",
   "execution_count": null,
   "id": "42c9bc5c-fcce-4944-be11-09c80426ad3d",
   "metadata": {},
   "outputs": [],
   "source": [
    "# Mencari noise pada outlier umur\n",
    "# Data usia wajar menurut WHO yakni 1 sampai dengan 60 bulan\n",
    "noise_umur = outlier_umur.loc[(outlier_umur['Umur(bln)'] < 1) | (outlier_umur['Umur(bln)'] > 60)]\n",
    "\n",
    "# Hapus data tidak wajar pada data latih\n",
    "data_uji = data_uji.drop(index = noise_umur.index).reset_index(drop=True)"
   ]
  },
  {
   "cell_type": "code",
   "execution_count": null,
   "id": "c1058560-47e0-488e-b856-213d16c79d8d",
   "metadata": {},
   "outputs": [],
   "source": [
    "# Pencarian outlier pada Fitur Berat\n",
    "# Mencari Q1 dan Q3\n",
    "Q1_berat = data_uji['BB(Kg)'].quantile(0.25)\n",
    "Q3_berat = data_uji['BB(Kg)'].quantile(0.75)\n",
    "\n",
    "# Mencari IQR serta batas bawah dan batas atas\n",
    "IQR_berat = Q3_berat - Q1_berat\n",
    "berat_bawah = Q1_berat - 1.5 * IQR_berat\n",
    "berat_atas = Q3_berat + 1.5 * IQR_berat\n",
    "\n",
    "# Mencari data outlier dari dataset latih\n",
    "outlier_berat = data_uji.loc[(data_uji['BB(Kg)'] < berat_bawah) | (data_uji['BB(Kg)'] > berat_atas)]"
   ]
  },
  {
   "cell_type": "code",
   "execution_count": null,
   "id": "259c82f7-2063-4ba7-94c4-706f7dc43926",
   "metadata": {},
   "outputs": [],
   "source": [
    "# Mencari noise pada outlier Berat\n",
    "# Data berat wajar menurut WHO yakni 2 sampai dengan 28\n",
    "noise_berat = outlier_berat.loc[(outlier_berat['BB(Kg)'] < 2) | (outlier_berat['BB(Kg)'] > 28)]\n",
    "\n",
    "# Hapus data tidak wajar pada data latih\n",
    "data_uji = data_uji.drop(index = noise_berat.index).reset_index(drop=True)"
   ]
  },
  {
   "cell_type": "code",
   "execution_count": null,
   "id": "7cf01bcf-cbb1-47c1-a08e-5dffb307ab43",
   "metadata": {},
   "outputs": [],
   "source": [
    "# Pencarian outlier pada Fitur Tinggi\n",
    "# Mencari Q1 dan Q3\n",
    "Q1_tinggi = data_uji['Tb(cm)'].quantile(0.25)\n",
    "Q3_tinggi = data_uji['Tb(cm)'].quantile(0.75)\n",
    "\n",
    "# Mencari IQR serta batas bawah dan batas atas\n",
    "IQR_tinggi = Q3_tinggi - Q1_tinggi\n",
    "tinggi_bawah = Q1_tinggi - 1.5 * IQR_tinggi\n",
    "tinggi_atas = Q3_tinggi + 1.5 * IQR_tinggi\n",
    "\n",
    "# Mencari data outlier dari dataset latih\n",
    "outlier_tinggi = data_uji.loc[(data_uji['Tb(cm)'] < tinggi_bawah) | (data_uji['Tb(cm)'] > tinggi_atas)]"
   ]
  },
  {
   "cell_type": "code",
   "execution_count": null,
   "id": "6d7e8af4-08cb-4e39-9c21-7101b9bd2532",
   "metadata": {},
   "outputs": [],
   "source": [
    "# Mencari noise pada outlier Tinggi\n",
    "# Data tingg wajar menurut WHO yakni 44 sampai dengan 124\n",
    "noise_tinggi = outlier_tinggi.loc[(outlier_tinggi['Tb(cm)'] < 4) | (outlier_tinggi['Tb(cm)'] > 124)]\n",
    "\n",
    "# Hapus data tidak wajar pada data latih\n",
    "data_uji = data_uji.drop(index = noise_tinggi.index).reset_index(drop=True)"
   ]
  },
  {
   "cell_type": "code",
   "execution_count": null,
   "id": "4afb6917-5c24-41a0-bbd3-9301d6d2e099",
   "metadata": {},
   "outputs": [],
   "source": [
    "# Visualisasi data berbentuk boxplot untuk data Umur\n",
    "# Batasan WHO\n",
    "who_age = list(range(1,61))\n",
    "data = [data_uji['Umur(bln)'], outlier_umur['Umur(bln)'], who_age]\n",
    "labels = ['Data Uji', 'Outliers', 'WHO']\n",
    "\n",
    "plt.title('Data Uji - Fitur Umur(bln)', loc='right')\n",
    "plt.ylabel('Umur (Bulan)')\n",
    "plt.boxplot(data, tick_labels=labels)\n",
    "plt.show()"
   ]
  },
  {
   "cell_type": "code",
   "execution_count": null,
   "id": "0b911c90-52ea-4e59-8eea-0d3b8ce86dfd",
   "metadata": {},
   "outputs": [],
   "source": [
    "# Visualisasi data berbentuk boxplot untuk data Umur\n",
    "# Batasan WHO\n",
    "who_berat = list(range(2,29))\n",
    "data = [data_uji['BB(Kg)'], outlier_umur['BB(Kg)'], who_berat]\n",
    "labels = ['Data Uji', 'Outliers', 'WHO']\n",
    "\n",
    "plt.title('Data Uji - Fitur Umur(bln)', loc='right')\n",
    "plt.ylabel('Berat (Kg)')\n",
    "plt.boxplot(data, tick_labels=labels)\n",
    "plt.show()"
   ]
  },
  {
   "cell_type": "code",
   "execution_count": null,
   "id": "78a5642b-0d58-4c33-8f1b-b7bb8d0e525a",
   "metadata": {},
   "outputs": [],
   "source": [
    "# Visualisasi data berbentuk boxplot untuk data Umur\n",
    "# Batasan WHO\n",
    "who_tinggi = list(range(4,125))\n",
    "data = [data_uji['Tb(cm)'], outlier_umur['Tb(cm)'], who_tinggi]\n",
    "labels = ['Data Uji', 'Outliers', 'WHO']\n",
    "\n",
    "plt.title('Data Uji - Fitur Tinggi(cm)', loc='right')\n",
    "plt.ylabel('Tinggi (Cm)')\n",
    "plt.boxplot(data, tick_labels=labels)\n",
    "plt.show()"
   ]
  },
  {
   "cell_type": "code",
   "execution_count": null,
   "id": "fa5e58c1-6e1e-4d33-899d-41f4a96224ae",
   "metadata": {},
   "outputs": [],
   "source": [
    "# Eksport dataset uji mentah menjadi data_uji_clean.csv\n",
    "data_uji.to_csv('./data_uji.clean.csv')"
   ]
  }
 ],
 "metadata": {
  "kernelspec": {
   "display_name": "Python 3 (ipykernel)",
   "language": "python",
   "name": "python3"
  },
  "language_info": {
   "codemirror_mode": {
    "name": "ipython",
    "version": 3
   },
   "file_extension": ".py",
   "mimetype": "text/x-python",
   "name": "python",
   "nbconvert_exporter": "python",
   "pygments_lexer": "ipython3",
   "version": "3.13.3"
  }
 },
 "nbformat": 4,
 "nbformat_minor": 5
}
