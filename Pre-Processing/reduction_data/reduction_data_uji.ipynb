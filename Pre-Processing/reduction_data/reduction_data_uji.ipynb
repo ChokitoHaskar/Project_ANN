{
 "cells": [
  {
   "cell_type": "code",
   "execution_count": null,
   "id": "43180e6f-3568-4e9f-8f12-fc08ec905579",
   "metadata": {},
   "outputs": [],
   "source": [
    "# Impor library\n",
    "import pandas as pd"
   ]
  },
  {
   "cell_type": "code",
   "execution_count": null,
   "id": "4f3542b7-5291-484e-a80e-cd466837a390",
   "metadata": {},
   "outputs": [],
   "source": [
    "# Set variabel untuk data uji\n",
    "reduced_uji = pd.read_csv('./data_uji_transformed.csv')\n",
    "\n",
    "# Hapus fitur yang tidak relevan / tidak dipakai lagi\n",
    "reduced_uji.drop(columns=['NamaBalita', 'umur', 'beratBadan', 'tinggiBadan', 'StatusGiziPB/UTB/U', 'StatusGiziBB/U', 'StatusGiziBB/TB', 'statusStunting', 'statusWasting', 'statusKeduanya', 'statusSehat'], inplace = True)"
   ]
  },
  {
   "cell_type": "code",
   "execution_count": null,
   "id": "9c696fad-56b1-4fc6-8596-dc411452a22e",
   "metadata": {},
   "outputs": [],
   "source": [
    "# Menata ulang fitur dan label yang tersisa\n",
    "reduced_uji = reduced_uji[['jenisKelamin', 'nUmur', 'nBeratBadan', 'nTinggiBadan' ,'statusBalita']]\n",
    "\n",
    "# Menamai ulang fitur dan label sesuai dengan tujuan peneliti\n",
    "reduced_uji.rename(columns={'nUmur':'umur', 'nBeratBadan':'beratBadan', 'nTinggiBadan':'tinggiBadan', 'statusBalita':'label'}, inplace = True)"
   ]
  },
  {
   "cell_type": "code",
   "execution_count": null,
   "id": "8346d831-f277-41a9-a965-ae20d08e7c7e",
   "metadata": {},
   "outputs": [],
   "source": [
    "# Simpan dataset baru\n",
    "reduced_uji.to_csv('./dataset_uji_final.csv', index=False)"
   ]
  }
 ],
 "metadata": {
  "kernelspec": {
   "display_name": "Python 3 (ipykernel)",
   "language": "python",
   "name": "python3"
  },
  "language_info": {
   "codemirror_mode": {
    "name": "ipython",
    "version": 3
   },
   "file_extension": ".py",
   "mimetype": "text/x-python",
   "name": "python",
   "nbconvert_exporter": "python",
   "pygments_lexer": "ipython3",
   "version": "3.13.4"
  }
 },
 "nbformat": 4,
 "nbformat_minor": 5
}
