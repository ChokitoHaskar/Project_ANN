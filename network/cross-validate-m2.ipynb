{
 "cells": [
  {
   "cell_type": "code",
   "execution_count": 1,
   "id": "80354c58-a8a5-403a-b22b-e4625e6e01ca",
   "metadata": {},
   "outputs": [],
   "source": [
    "# impor library\n",
    "from sklearn.neural_network import MLPClassifier as ann\n",
    "from sklearn.model_selection import cross_validate as crossval\n",
    "from sklearn.metrics import classification_report, confusion_matrix\n",
    "import pandas as pd"
   ]
  },
  {
   "cell_type": "code",
   "execution_count": 2,
   "id": "4545a2cb-e588-4d53-a5fc-2333845e426b",
   "metadata": {},
   "outputs": [],
   "source": [
    "# impor dataset\n",
    "dataset = pd.read_csv('../pre-processing/dataset_latih.csv')"
   ]
  },
  {
   "cell_type": "code",
   "execution_count": 3,
   "id": "a63bb5f8-0e95-48a5-b6c8-166e27bd8f0d",
   "metadata": {},
   "outputs": [],
   "source": [
    "# atur fitur dan label\n",
    "fitur_latih = dataset.loc[:, ['umur', 'jenisKelamin', 'tinggiBadan', 'beratBadan']]\n",
    "target_latih = dataset.label"
   ]
  },
  {
   "cell_type": "code",
   "execution_count": 4,
   "id": "edff8620-6bc7-4df8-a564-4f9f755fab3f",
   "metadata": {},
   "outputs": [],
   "source": [
    "# atur scoring untuk mendapatkan hasil nilai performa model\n",
    "scoring = {\n",
    "    'accuracy': 'accuracy',\n",
    "    'f1_macro': 'f1_macro',\n",
    "    'recall_macro': 'recall_macro',\n",
    "    'precision_macro': 'precision_macro'\n",
    "}"
   ]
  },
  {
   "cell_type": "code",
   "execution_count": 5,
   "id": "80bab4c1-e731-4aec-b451-3255070e37cd",
   "metadata": {},
   "outputs": [],
   "source": [
    "# buat berbagai model dengan max iter berbeda\n",
    "m2_ep200 = ann(hidden_layer_sizes=(9,4), random_state=18062025, max_iter=200)\n",
    "m2_ep600 = ann(hidden_layer_sizes=(9,4), random_state=18062025, max_iter=600)\n",
    "m2_ep1000 = ann(hidden_layer_sizes=(9,4), random_state=18062025, max_iter=1000)\n",
    "m2_ep1400 = ann(hidden_layer_sizes=(9,4), random_state=18062025, max_iter=1400)\n",
    "m2_ep1800 = ann(hidden_layer_sizes=(9,4), random_state=18062025, max_iter=1800)"
   ]
  },
  {
   "cell_type": "code",
   "execution_count": 6,
   "id": "85f28a5d-2149-42b5-9871-15ccf33ad8f0",
   "metadata": {
    "scrolled": true
   },
   "outputs": [
    {
     "name": "stderr",
     "output_type": "stream",
     "text": [
      "f:\\Code Stuff\\Projects\\Project_ANN\\Second-Try\\.venv\\Lib\\site-packages\\sklearn\\neural_network\\_multilayer_perceptron.py:691: ConvergenceWarning: Stochastic Optimizer: Maximum iterations (200) reached and the optimization hasn't converged yet.\n",
      "  warnings.warn(\n",
      "f:\\Code Stuff\\Projects\\Project_ANN\\Second-Try\\.venv\\Lib\\site-packages\\sklearn\\neural_network\\_multilayer_perceptron.py:691: ConvergenceWarning: Stochastic Optimizer: Maximum iterations (200) reached and the optimization hasn't converged yet.\n",
      "  warnings.warn(\n",
      "f:\\Code Stuff\\Projects\\Project_ANN\\Second-Try\\.venv\\Lib\\site-packages\\sklearn\\neural_network\\_multilayer_perceptron.py:691: ConvergenceWarning: Stochastic Optimizer: Maximum iterations (200) reached and the optimization hasn't converged yet.\n",
      "  warnings.warn(\n",
      "f:\\Code Stuff\\Projects\\Project_ANN\\Second-Try\\.venv\\Lib\\site-packages\\sklearn\\neural_network\\_multilayer_perceptron.py:691: ConvergenceWarning: Stochastic Optimizer: Maximum iterations (200) reached and the optimization hasn't converged yet.\n",
      "  warnings.warn(\n",
      "f:\\Code Stuff\\Projects\\Project_ANN\\Second-Try\\.venv\\Lib\\site-packages\\sklearn\\neural_network\\_multilayer_perceptron.py:691: ConvergenceWarning: Stochastic Optimizer: Maximum iterations (200) reached and the optimization hasn't converged yet.\n",
      "  warnings.warn(\n",
      "f:\\Code Stuff\\Projects\\Project_ANN\\Second-Try\\.venv\\Lib\\site-packages\\sklearn\\neural_network\\_multilayer_perceptron.py:691: ConvergenceWarning: Stochastic Optimizer: Maximum iterations (200) reached and the optimization hasn't converged yet.\n",
      "  warnings.warn(\n",
      "f:\\Code Stuff\\Projects\\Project_ANN\\Second-Try\\.venv\\Lib\\site-packages\\sklearn\\neural_network\\_multilayer_perceptron.py:691: ConvergenceWarning: Stochastic Optimizer: Maximum iterations (200) reached and the optimization hasn't converged yet.\n",
      "  warnings.warn(\n",
      "f:\\Code Stuff\\Projects\\Project_ANN\\Second-Try\\.venv\\Lib\\site-packages\\sklearn\\neural_network\\_multilayer_perceptron.py:691: ConvergenceWarning: Stochastic Optimizer: Maximum iterations (200) reached and the optimization hasn't converged yet.\n",
      "  warnings.warn(\n",
      "f:\\Code Stuff\\Projects\\Project_ANN\\Second-Try\\.venv\\Lib\\site-packages\\sklearn\\neural_network\\_multilayer_perceptron.py:691: ConvergenceWarning: Stochastic Optimizer: Maximum iterations (200) reached and the optimization hasn't converged yet.\n",
      "  warnings.warn(\n",
      "f:\\Code Stuff\\Projects\\Project_ANN\\Second-Try\\.venv\\Lib\\site-packages\\sklearn\\neural_network\\_multilayer_perceptron.py:691: ConvergenceWarning: Stochastic Optimizer: Maximum iterations (200) reached and the optimization hasn't converged yet.\n",
      "  warnings.warn(\n"
     ]
    }
   ],
   "source": [
    "# cross-validation ukuran epoch 200\n",
    "cv_ep200 = crossval(m2_ep200, fitur_latih, target_latih, scoring=scoring, cv=10)"
   ]
  },
  {
   "cell_type": "code",
   "execution_count": 7,
   "id": "85c330b7-a60c-4cde-b783-d518c3b93c4b",
   "metadata": {},
   "outputs": [
    {
     "name": "stdout",
     "output_type": "stream",
     "text": [
      "epoch 200\n",
      "0.9483829289364291\n",
      "0.9482680084039113\n",
      "0.9485045792345759\n",
      "0.9485602203156542\n",
      "2.6511044979095457\n"
     ]
    }
   ],
   "source": [
    "# cetak hasil validation ukuran epoch 200\n",
    "print('epoch 200')\n",
    "print(cv_ep200['test_accuracy'].mean())\n",
    "print(cv_ep200['test_f1_macro'].mean())\n",
    "print(cv_ep200['test_recall_macro'].mean())\n",
    "print(cv_ep200['test_precision_macro'].mean())\n",
    "print(cv_ep200['fit_time'].mean())"
   ]
  },
  {
   "cell_type": "code",
   "execution_count": 8,
   "id": "eec6bcc8-4845-4c91-b982-0e93aebb5fce",
   "metadata": {},
   "outputs": [
    {
     "name": "stderr",
     "output_type": "stream",
     "text": [
      "f:\\Code Stuff\\Projects\\Project_ANN\\Second-Try\\.venv\\Lib\\site-packages\\sklearn\\neural_network\\_multilayer_perceptron.py:691: ConvergenceWarning: Stochastic Optimizer: Maximum iterations (600) reached and the optimization hasn't converged yet.\n",
      "  warnings.warn(\n"
     ]
    }
   ],
   "source": [
    "# cross-validation ukuran epoch 600\n",
    "cv_ep600 = crossval(m2_ep600, fitur_latih, target_latih, scoring=scoring, cv=10)"
   ]
  },
  {
   "cell_type": "code",
   "execution_count": 9,
   "id": "2e55c718-20ba-4873-9d9b-01ca81073cfe",
   "metadata": {},
   "outputs": [
    {
     "name": "stdout",
     "output_type": "stream",
     "text": [
      "epoch 600\n",
      "0.9590937970951607\n",
      "0.9590601873900446\n",
      "0.9591436829333404\n",
      "0.9593571387239193\n",
      "4.740354537963867\n"
     ]
    }
   ],
   "source": [
    "# cetak hasil validation ukuran epoch 600\n",
    "print('epoch 600')\n",
    "print(cv_ep600['test_accuracy'].mean())\n",
    "print(cv_ep600['test_f1_macro'].mean())\n",
    "print(cv_ep600['test_recall_macro'].mean())\n",
    "print(cv_ep600['test_precision_macro'].mean())\n",
    "print(cv_ep600['fit_time'].mean())"
   ]
  },
  {
   "cell_type": "code",
   "execution_count": 10,
   "id": "949dd9ac-c403-4f51-8e09-7895e860bfcb",
   "metadata": {},
   "outputs": [],
   "source": [
    "# cross-validation ukuran epoch 1000\n",
    "cv_ep1000 = crossval(m2_ep1000, fitur_latih, target_latih, scoring=scoring, cv=10)"
   ]
  },
  {
   "cell_type": "code",
   "execution_count": 11,
   "id": "7b796160-f120-4c2d-83bc-01eea70345ae",
   "metadata": {},
   "outputs": [
    {
     "name": "stdout",
     "output_type": "stream",
     "text": [
      "epoch 1000\n",
      "0.9595110432704042\n",
      "0.9594852768134178\n",
      "0.9595686906327551\n",
      "0.9597860742910201\n",
      "4.78866720199585\n"
     ]
    }
   ],
   "source": [
    "# cetak hasil validation ukuran epoch 1000\n",
    "print('epoch 1000')\n",
    "print(cv_ep1000['test_accuracy'].mean())\n",
    "print(cv_ep1000['test_f1_macro'].mean())\n",
    "print(cv_ep1000['test_recall_macro'].mean())\n",
    "print(cv_ep1000['test_precision_macro'].mean())\n",
    "print(cv_ep1000['fit_time'].mean())"
   ]
  },
  {
   "cell_type": "code",
   "execution_count": 12,
   "id": "8938fbab-4b2f-4f94-abc2-801dce47d823",
   "metadata": {},
   "outputs": [],
   "source": [
    "# cross-validation ukuran epoch 1400\n",
    "cv_ep1400 = crossval(m2_ep1400, fitur_latih, target_latih, scoring=scoring, cv=10)"
   ]
  },
  {
   "cell_type": "code",
   "execution_count": 13,
   "id": "e3f43c06-923a-4e9d-be9d-d68fe8fce575",
   "metadata": {},
   "outputs": [
    {
     "name": "stdout",
     "output_type": "stream",
     "text": [
      "epoch 1400\n",
      "0.9595110432704042\n",
      "0.9594852768134178\n",
      "0.9595686906327551\n",
      "0.9597860742910201\n",
      "4.824423742294312\n"
     ]
    }
   ],
   "source": [
    "# cetak hasil validation ukuran epoch 1400\n",
    "print('epoch 1400')\n",
    "print(cv_ep1400['test_accuracy'].mean())\n",
    "print(cv_ep1400['test_f1_macro'].mean())\n",
    "print(cv_ep1400['test_recall_macro'].mean())\n",
    "print(cv_ep1400['test_precision_macro'].mean())\n",
    "print(cv_ep1400['fit_time'].mean())"
   ]
  },
  {
   "cell_type": "code",
   "execution_count": 14,
   "id": "77b71ec1-ada8-4cff-8e23-f72f0b0fb0c8",
   "metadata": {},
   "outputs": [],
   "source": [
    "# cross-validation ukuran epoch 1800\n",
    "cv_ep1800 = crossval(m2_ep1800, fitur_latih, target_latih, scoring=scoring, cv=10)"
   ]
  },
  {
   "cell_type": "code",
   "execution_count": 15,
   "id": "05744eab-79c7-46b7-83fd-30be3dc58ee6",
   "metadata": {},
   "outputs": [
    {
     "name": "stdout",
     "output_type": "stream",
     "text": [
      "epoch 1800\n",
      "0.9595110432704042\n",
      "0.9594852768134178\n",
      "0.9595686906327551\n",
      "0.9597860742910201\n",
      "4.776418972015381\n"
     ]
    }
   ],
   "source": [
    "# cetak hasil validation ukuran epoch 1800\n",
    "print('epoch 1800')\n",
    "print(cv_ep1800['test_accuracy'].mean())\n",
    "print(cv_ep1800['test_f1_macro'].mean())\n",
    "print(cv_ep1800['test_recall_macro'].mean())\n",
    "print(cv_ep1800['test_precision_macro'].mean())\n",
    "print(cv_ep1800['fit_time'].mean())"
   ]
  },
  {
   "cell_type": "code",
   "execution_count": 16,
   "id": "eef91621-eaa9-4180-9032-5f98e9eeefb4",
   "metadata": {},
   "outputs": [],
   "source": [
    "# buat berbagai model dengan batch size berbeda\n",
    "m2_bs2 = ann(hidden_layer_sizes=(9,4), random_state=18062025, max_iter=1000, batch_size=2)\n",
    "m2_bs4 = ann(hidden_layer_sizes=(9,4), random_state=18062025, max_iter=1000, batch_size=4)\n",
    "m2_bs8 = ann(hidden_layer_sizes=(9,4), random_state=18062025, max_iter=1000, batch_size=8)\n",
    "m2_bs16 = ann(hidden_layer_sizes=(9,4), random_state=18062025, max_iter=1000, batch_size=16)\n",
    "m2_bs32 = ann(hidden_layer_sizes=(9,4), random_state=18062025, max_iter=1000, batch_size=32)"
   ]
  },
  {
   "cell_type": "code",
   "execution_count": 17,
   "id": "166fda19-ec2a-4da9-bd2c-9550ac86874b",
   "metadata": {},
   "outputs": [],
   "source": [
    "# cross-validation ukuran batch size 2\n",
    "cv_bs2 = crossval(m2_bs2, fitur_latih, target_latih, scoring=scoring, cv=10)"
   ]
  },
  {
   "cell_type": "code",
   "execution_count": 18,
   "id": "723b2fff-b196-4140-b18c-22e7173aa77f",
   "metadata": {},
   "outputs": [
    {
     "name": "stdout",
     "output_type": "stream",
     "text": [
      "bs2\n",
      "0.967852092623227\n",
      "0.9678386014380506\n",
      "0.968298882059378\n",
      "0.9683401474589852\n",
      "76.41906971931458\n"
     ]
    }
   ],
   "source": [
    "# cetak hasil validation ukuran batch size 2\n",
    "print('bs2')\n",
    "print(cv_bs2['test_accuracy'].mean())\n",
    "print(cv_bs2['test_f1_macro'].mean())\n",
    "print(cv_bs2['test_recall_macro'].mean())\n",
    "print(cv_bs2['test_precision_macro'].mean())\n",
    "print(cv_bs2['fit_time'].mean())"
   ]
  },
  {
   "cell_type": "code",
   "execution_count": 19,
   "id": "cf387a6f-58cc-4c41-b0df-ac1a3a5b5988",
   "metadata": {},
   "outputs": [],
   "source": [
    "# cross-validation ukuran batch size 4\n",
    "cv_bs4 = crossval(m2_bs4, fitur_latih, target_latih, scoring=scoring, cv=10)"
   ]
  },
  {
   "cell_type": "code",
   "execution_count": 20,
   "id": "23f899f5-b365-4448-8c7c-87b05d79b4f7",
   "metadata": {},
   "outputs": [
    {
     "name": "stdout",
     "output_type": "stream",
     "text": [
      "bs4\n",
      "0.9735589122930717\n",
      "0.9735346099547693\n",
      "0.9736530886528281\n",
      "0.9737960636811908\n",
      "49.788037943840024\n"
     ]
    }
   ],
   "source": [
    "# cetak hasil validation ukuran batch size 4\n",
    "print('bs4')\n",
    "print(cv_bs4['test_accuracy'].mean())\n",
    "print(cv_bs4['test_f1_macro'].mean())\n",
    "print(cv_bs4['test_recall_macro'].mean())\n",
    "print(cv_bs4['test_precision_macro'].mean())\n",
    "print(cv_bs4['fit_time'].mean())"
   ]
  },
  {
   "cell_type": "code",
   "execution_count": 21,
   "id": "dc1ea91c-ba52-4371-a6a3-9b322bacaf5b",
   "metadata": {},
   "outputs": [],
   "source": [
    "# cross-validation ukuran batch size 8\n",
    "cv_bs8 = crossval(m2_bs8, fitur_latih, target_latih, scoring=scoring, cv=10)"
   ]
  },
  {
   "cell_type": "code",
   "execution_count": 22,
   "id": "2ecf9462-5703-4d6a-b696-8a2abfa9930d",
   "metadata": {},
   "outputs": [
    {
     "name": "stdout",
     "output_type": "stream",
     "text": [
      "bs8\n",
      "0.9642398332564961\n",
      "0.9642147492147428\n",
      "0.9645167056864434\n",
      "0.9644552515479223\n",
      "34.16966047286987\n",
      " \n"
     ]
    }
   ],
   "source": [
    "# cetak hasil validation ukuran batch size 8\n",
    "print('bs8')\n",
    "print(cv_bs8['test_accuracy'].mean())\n",
    "print(cv_bs8['test_f1_macro'].mean())\n",
    "print(cv_bs8['test_recall_macro'].mean())\n",
    "print(cv_bs8['test_precision_macro'].mean())\n",
    "print(cv_bs8['fit_time'].mean())\n",
    "print(' ')"
   ]
  },
  {
   "cell_type": "code",
   "execution_count": 23,
   "id": "12396201-a407-4ce7-b608-95e7f63113ae",
   "metadata": {},
   "outputs": [],
   "source": [
    "# cross-validation ukuran batch size 16\n",
    "cv_bs16 = crossval(m2_bs16, fitur_latih, target_latih, scoring=scoring, cv=10)"
   ]
  },
  {
   "cell_type": "code",
   "execution_count": 24,
   "id": "abefd69b-039d-451a-8615-7565121d6803",
   "metadata": {},
   "outputs": [
    {
     "name": "stdout",
     "output_type": "stream",
     "text": [
      "bs16\n",
      "0.959090697773525\n",
      "0.959007384362771\n",
      "0.959337790258104\n",
      "0.9596555796026109\n",
      "21.021836161613464\n",
      " \n"
     ]
    }
   ],
   "source": [
    "# cetak hasil validation ukuran batch size 16\n",
    "print('bs16')\n",
    "print(cv_bs16['test_accuracy'].mean())\n",
    "print(cv_bs16['test_f1_macro'].mean())\n",
    "print(cv_bs16['test_recall_macro'].mean())\n",
    "print(cv_bs16['test_precision_macro'].mean())\n",
    "print(cv_bs16['fit_time'].mean())\n",
    "print(' ')"
   ]
  },
  {
   "cell_type": "code",
   "execution_count": 28,
   "id": "649b54fe-4b7e-4842-9157-143902c3a9a8",
   "metadata": {},
   "outputs": [],
   "source": [
    "# cross-validation ukuran batch size 32\n",
    "cv_bs32 = crossval(m2_bs32, fitur_latih, target_latih, scoring=scoring, cv=10)"
   ]
  },
  {
   "cell_type": "code",
   "execution_count": 29,
   "id": "21945552-47f9-4046-93b0-e5e8cf20f3b9",
   "metadata": {},
   "outputs": [
    {
     "name": "stdout",
     "output_type": "stream",
     "text": [
      "bs32\n",
      "0.9568642225932799\n",
      "0.9567444425037754\n",
      "0.9565635056817534\n",
      "0.9573900306849227\n",
      "15.217759346961975\n",
      " \n"
     ]
    }
   ],
   "source": [
    "# cetak hasil validation ukuran batch size 32\n",
    "print('bs32')\n",
    "print(cv_bs32['test_accuracy'].mean())\n",
    "print(cv_bs32['test_f1_macro'].mean())\n",
    "print(cv_bs32['test_recall_macro'].mean())\n",
    "print(cv_bs32['test_precision_macro'].mean())\n",
    "print(cv_bs32['fit_time'].mean())\n",
    "print(' ')"
   ]
  }
 ],
 "metadata": {
  "kernelspec": {
   "display_name": "Python 3 (ipykernel)",
   "language": "python",
   "name": "python3"
  },
  "language_info": {
   "codemirror_mode": {
    "name": "ipython",
    "version": 3
   },
   "file_extension": ".py",
   "mimetype": "text/x-python",
   "name": "python",
   "nbconvert_exporter": "python",
   "pygments_lexer": "ipython3",
   "version": "3.13.5"
  }
 },
 "nbformat": 4,
 "nbformat_minor": 5
}
