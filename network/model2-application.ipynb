{
 "cells": [
  {
   "cell_type": "code",
   "execution_count": null,
   "id": "1e37675e-66f0-4203-8dfe-1cd33ecbfc04",
   "metadata": {},
   "outputs": [],
   "source": [
    "# impor library\n",
    "from sklearn.neural_network import MLPClassifier as ann\n",
    "from sklearn.metrics import classification_report, confusion_matrix\n",
    "import joblib as jbl\n",
    "import pandas as pd"
   ]
  },
  {
   "cell_type": "code",
   "execution_count": null,
   "id": "67440e57-ea24-4b3e-ae76-bdb0df322867",
   "metadata": {},
   "outputs": [],
   "source": [
    "# impor dataset\n",
    "dataset_latih = pd.read_csv('../pre-processing/dataset_latih.csv')\n",
    "dataset_uji = pd.read_csv('../pre-processing/dataset_uji.csv')"
   ]
  },
  {
   "cell_type": "code",
   "execution_count": null,
   "id": "9a5a9117-bdf9-4d9f-a3ee-67027c15ee8c",
   "metadata": {},
   "outputs": [],
   "source": [
    "# tetapkan fitur dan target latih\n",
    "fitur_latih = dataset_latih.loc[:, ['umur', 'jenisKelamin', 'tinggiBadan', 'beratBadan']]\n",
    "target_latih = dataset_latih.label\n",
    "# tetapkan fitur dan target uji\n",
    "fitur_uji = dataset_uji.loc[:, ['umur', 'jenisKelamin', 'tinggiBadan', 'beratBadan']]\n",
    "target_uji = dataset_uji.label"
   ]
  },
  {
   "cell_type": "code",
   "execution_count": null,
   "id": "fc586059-71da-478a-9d4b-6a53a8e8c9fc",
   "metadata": {},
   "outputs": [],
   "source": [
    "# setup jaringan model 2 - tipe 1\n",
    "model2_tipe1 = ann(hidden_layer_sizes=(9,4), batch_size=2, max_iter=1400, learning_rate_init=0.001, random_state=18062025)\n",
    "# latih model 2 - tipe 1\n",
    "model2_tipe1.fit(fitur_latih, target_latih)\n",
    "# uji model 2 - tipe 1\n",
    "hasil_model2_tipe1 = model2_tipe1.predict(fitur_uji)\n",
    "# cetak hasil performa model 2 - tipe 1\n",
    "print(classification_report(target_uji, hasil_model2_tipe1, target_names=['Sehat', 'Stunting', 'Wasting', 'Stunting & Wasting']))\n",
    "print(confusion_matrix(target_uji, hasil_model2_tipe1))"
   ]
  },
  {
   "cell_type": "code",
   "execution_count": null,
   "id": "47d2fa95-e5f7-4c94-8e8c-b4cdce903719",
   "metadata": {},
   "outputs": [],
   "source": [
    "# setup jaringan model 2 - tipe 2\n",
    "model2_tipe2 = ann(hidden_layer_sizes=(9,4), batch_size=2, max_iter=1400, learning_rate_init=0.01, random_state=18062025)\n",
    "# latih model 2 - tipe 2\n",
    "model2_tipe2.fit(fitur_latih, target_latih)\n",
    "# uji model 2 - tipe 2\n",
    "hasil_model2_tipe2 = model2_tipe2.predict(fitur_uji)\n",
    "# cetak hasil performa model 2 - tipe 2\n",
    "print(classification_report(target_uji, hasil_model2_tipe2, target_names=['Sehat', 'Stunting', 'Wasting', 'Stunting & Wasting']))\n",
    "print(confusion_matrix(target_uji, hasil_model2_tipe2))"
   ]
  },
  {
   "cell_type": "code",
   "execution_count": null,
   "id": "48bf40ee-2c23-423c-95b7-49d0c2af58b1",
   "metadata": {},
   "outputs": [],
   "source": [
    "# setup jaringan model 2 - tipe 3\n",
    "model2_tipe3 = ann(hidden_layer_sizes=(9,4), batch_size=4, max_iter=1400, learning_rate_init=0.001, random_state=18062025)\n",
    "# latih model 2 - tipe 3\n",
    "model2_tipe3.fit(fitur_latih, target_latih)\n",
    "# uji model 2 - tipe 3\n",
    "hasil_model2_tipe3 = model2_tipe3.predict(fitur_uji)\n",
    "# cetak hasil performa model 2 - tipe 3\n",
    "print(classification_report(target_uji, hasil_model2_tipe3, target_names=['Sehat', 'Stunting', 'Wasting', 'Stunting & Wasting']))\n",
    "print(confusion_matrix(target_uji, hasil_model2_tipe3))"
   ]
  },
  {
   "cell_type": "code",
   "execution_count": null,
   "id": "835e445d-b55b-4c1d-9403-91e55bc05345",
   "metadata": {},
   "outputs": [],
   "source": [
    "# setup jaringan model 2 - tipe 4\n",
    "model2_tipe4 = ann(hidden_layer_sizes=(9,4), batch_size=4, max_iter=1400, learning_rate_init=0.01, random_state=18062025)\n",
    "# latih model 2 - tipe 4\n",
    "model2_tipe4.fit(fitur_latih, target_latih)\n",
    "# uji model 2 - tipe 4\n",
    "hasil_model2_tipe4 = model2_tipe4.predict(fitur_uji)\n",
    "# cetak hasil performa model 2 - tipe 4\n",
    "print(classification_report(target_uji, hasil_model2_tipe4, target_names=['Sehat', 'Stunting', 'Wasting', 'Stunting & Wasting']))\n",
    "print(confusion_matrix(target_uji, hasil_model2_tipe4))"
   ]
  },
  {
   "cell_type": "code",
   "execution_count": null,
   "id": "e9413b16-cad8-418a-b2aa-69d6571f0b7a",
   "metadata": {},
   "outputs": [],
   "source": [
    "# setup jaringan model 2 - tipe 5\n",
    "model2_tipe5 = ann(hidden_layer_sizes=(9,4), batch_size=8, max_iter=1400, learning_rate_init=0.001, random_state=18062025)\n",
    "# latih model 2 - tipe 5\n",
    "model2_tipe5.fit(fitur_latih, target_latih)\n",
    "# uji model 2 - tipe 5\n",
    "hasil_model2_tipe5 = model2_tipe5.predict(fitur_uji)\n",
    "# cetak hasil performa model 2 - tipe 5\n",
    "print(classification_report(target_uji, hasil_model2_tipe5, target_names=['Sehat', 'Stunting', 'Wasting', 'Stunting & Wasting']))\n",
    "print(confusion_matrix(target_uji, hasil_model2_tipe5))"
   ]
  },
  {
   "cell_type": "code",
   "execution_count": null,
   "id": "c86512bf-b923-417c-a318-5f223390d2e8",
   "metadata": {},
   "outputs": [],
   "source": [
    "# setup jaringan model 2 - tipe 6\n",
    "model2_tipe6 = ann(hidden_layer_sizes=(9,4), batch_size=8, max_iter=1400, learning_rate_init=0.01, random_state=18062025)\n",
    "# latih model 2 - tipe 6\n",
    "model2_tipe6.fit(fitur_latih, target_latih)\n",
    "# uji model 2 - tipe 6\n",
    "hasil_model2_tipe6 = model2_tipe6.predict(fitur_uji)\n",
    "# cetak hasil performa model 2 - tipe 6\n",
    "print(classification_report(target_uji, hasil_model2_tipe6, target_names=['Sehat', 'Stunting', 'Wasting', 'Stunting & Wasting']))\n",
    "print(confusion_matrix(target_uji, hasil_model2_tipe6))"
   ]
  },
  {
   "cell_type": "code",
   "execution_count": null,
   "id": "11ba0bcd-3296-4569-ac01-81c8cb8d4ccb",
   "metadata": {},
   "outputs": [],
   "source": [
    "# simpan model jaringan kedua tipe 1\n",
    "jbl.dump(model2_tipe1, 'models/model2-tipe1.pkl')\n",
    "jbl.dump(model2_tipe2, 'models/model2-tipe2.pkl')\n",
    "jbl.dump(model2_tipe3, 'models/model2-tipe3.pkl')\n",
    "jbl.dump(model2_tipe4, 'models/model2-tipe4.pkl')\n",
    "jbl.dump(model2_tipe5, 'models/model2-tipe5.pkl')\n",
    "jbl.dump(model2_tipe6, 'models/model2-tipe6.pkl')"
   ]
  }
 ],
 "metadata": {
  "kernelspec": {
   "display_name": "Python 3 (ipykernel)",
   "language": "python",
   "name": "python3"
  },
  "language_info": {
   "codemirror_mode": {
    "name": "ipython",
    "version": 3
   },
   "file_extension": ".py",
   "mimetype": "text/x-python",
   "name": "python",
   "nbconvert_exporter": "python",
   "pygments_lexer": "ipython3",
   "version": "3.13.5"
  }
 },
 "nbformat": 4,
 "nbformat_minor": 5
}
