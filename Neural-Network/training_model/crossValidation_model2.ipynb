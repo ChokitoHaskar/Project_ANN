{
 "cells": [
  {
   "cell_type": "code",
   "execution_count": 1,
   "id": "4dff1888-590e-4e22-ace2-8edeedf8a49c",
   "metadata": {},
   "outputs": [],
   "source": [
    "# Impor library yang dibutuhkan\n",
    "from sklearn.neural_network import MLPClassifier as neuralNetwork\n",
    "from sklearn.model_selection import cross_validate as crossValidation\n",
    "from sklearn.metrics import classification_report, confusion_matrix, accuracy_score\n",
    "from matplotlib import pyplot as plt\n",
    "import pandas as pd\n",
    "import numpy as np"
   ]
  },
  {
   "cell_type": "code",
   "execution_count": 2,
   "id": "5f50d2fe-faf6-4ac4-ad0b-64a6cec0c34c",
   "metadata": {},
   "outputs": [],
   "source": [
    "# Impor dataset\n",
    "dataset_latih = pd.read_csv('./dataset_latih_final.csv')\n",
    "\n",
    "# Acak urutan dataset\n",
    "dataset_latih = dataset_latih.sample(frac = 1, random_state = 2025, ignore_index = True)"
   ]
  },
  {
   "cell_type": "code",
   "execution_count": 3,
   "id": "3ea27b6b-c4e1-4585-a1b3-d3a0b7a84862",
   "metadata": {},
   "outputs": [],
   "source": [
    "# Tetapkan fitur dan label latih\n",
    "fitur_latih = dataset_latih[['jenisKelamin', 'umur', 'beratBadan', 'tinggiBadan']]\n",
    "target_latih = dataset_latih['label']"
   ]
  },
  {
   "cell_type": "code",
   "execution_count": null,
   "id": "573d8e75-89e4-4f08-b2d1-851ce3d6496b",
   "metadata": {},
   "outputs": [],
   "source": [
    "# Uji cross-validation batch_size\n",
    "modelAnn_kedua_1 = neuralNetwork(hidden_layer_sizes = (9,4), batch_size='auto')\n",
    "modelAnn_kedua_2 = neuralNetwork(hidden_layer_sizes = (9,4), batch_size=2)\n",
    "modelAnn_kedua_3 = neuralNetwork(hidden_layer_sizes = (9,4), batch_size=4)\n",
    "modelAnn_kedua_4 = neuralNetwork(hidden_layer_sizes = (9,4), batch_size=8)\n",
    "modelAnn_kedua_5 = neuralNetwork(hidden_layer_sizes = (9,4), batch_size=16)\n",
    "modelAnn_kedua_6 = neuralNetwork(hidden_layer_sizes = (9,4), batch_size=32)"
   ]
  },
  {
   "cell_type": "code",
   "execution_count": null,
   "id": "e81666ab-be0f-478f-8024-001c9226472a",
   "metadata": {},
   "outputs": [],
   "source": [
    "# Uji batch_size dengan cross-validasi fold K-10\n",
    "# Scores berisi parameter untuk evaluasi\n",
    "scores = {'accuracy': 'accuracy', 'f1_macro': 'f1_macro', 'precision_macro': 'precision_macro', 'recall_macro': 'recall_macro'}\n",
    "performa_batchSize_1 = crossValidation(modelAnn_kedua_1, fitur_latih, target_latih, scoring = scores, cv = 10)\n",
    "performa_batchSize_2 = crossValidation(modelAnn_kedua_2, fitur_latih, target_latih, scoring = scores, cv = 10)\n",
    "performa_batchSize_3 = crossValidation(modelAnn_kedua_3, fitur_latih, target_latih, scoring = scores, cv = 10)\n",
    "performa_batchSize_4 = crossValidation(modelAnn_kedua_4, fitur_latih, target_latih, scoring = scores, cv = 10)\n",
    "performa_batchSize_5 = crossValidation(modelAnn_kedua_5, fitur_latih, target_latih, scoring = scores, cv = 10)\n",
    "performa_batchSize_6 = crossValidation(modelAnn_kedua_6, fitur_latih, target_latih, scoring = scores, cv = 10)"
   ]
  },
  {
   "cell_type": "code",
   "execution_count": null,
   "id": "e1342ced-d337-44b3-ae4b-89c7ba9361a6",
   "metadata": {},
   "outputs": [],
   "source": [
    "# Hitung rata-rata akurasi batch_size auto\n",
    "print('Accuracy: ', performa_batchSize_1['test_accuracy'].mean())\n",
    "print('F1-Score: ', performa_batchSize_1['test_f1_macro'].mean())\n",
    "print('Precision: ', performa_batchSize_1['test_precision_macro'].mean())\n",
    "print('Recall: ', performa_batchSize_1['test_recall_macro'].mean())"
   ]
  },
  {
   "cell_type": "code",
   "execution_count": null,
   "id": "cae20298-1954-4c06-92fd-749ce5a47126",
   "metadata": {},
   "outputs": [],
   "source": [
    "# Hitung rata-rata akurasi batch_size 2\n",
    "print('Accuracy: ', performa_batchSize_2['test_accuracy'].mean())\n",
    "print('F1-Score: ', performa_batchSize_2['test_f1_macro'].mean())\n",
    "print('Precision: ', performa_batchSize_2['test_precision_macro'].mean())\n",
    "print('Recall: ', performa_batchSize_2['test_recall_macro'].mean())"
   ]
  },
  {
   "cell_type": "code",
   "execution_count": null,
   "id": "876c327c-f951-45fa-895b-ea672563ed8e",
   "metadata": {},
   "outputs": [],
   "source": [
    "# Hitung rata-rata akurasi batch_size 4\n",
    "print('Accuracy: ', performa_batchSize_3['test_accuracy'].mean())\n",
    "print('F1-Score: ', performa_batchSize_3['test_f1_macro'].mean())\n",
    "print('Precision: ', performa_batchSize_3['test_precision_macro'].mean())\n",
    "print('Recall: ', performa_batchSize_3['test_recall_macro'].mean())"
   ]
  },
  {
   "cell_type": "code",
   "execution_count": null,
   "id": "cfeb05d8-9ea3-40be-af24-abbd98ff1181",
   "metadata": {},
   "outputs": [],
   "source": [
    "# Hitung rata-rata akurasi batch_size 8\n",
    "print('Accuracy: ', performa_batchSize_4['test_accuracy'].mean())\n",
    "print('F1-Score: ', performa_batchSize_4['test_f1_macro'].mean())\n",
    "print('Precision: ', performa_batchSize_4['test_precision_macro'].mean())\n",
    "print('Recall: ', performa_batchSize_4['test_recall_macro'].mean())"
   ]
  },
  {
   "cell_type": "code",
   "execution_count": null,
   "id": "689c201a-e812-4202-b28d-31f54899dc5f",
   "metadata": {},
   "outputs": [],
   "source": [
    "# Hitung rata-rata akurasi batch_size 16\n",
    "print('Accuracy: ', performa_batchSize_5['test_accuracy'].mean())\n",
    "print('F1-Score: ', performa_batchSize_5['test_f1_macro'].mean())\n",
    "print('Precision: ', performa_batchSize_5['test_precision_macro'].mean())\n",
    "print('Recall: ', performa_batchSize_5['test_recall_macro'].mean())"
   ]
  },
  {
   "cell_type": "code",
   "execution_count": null,
   "id": "460f910a-ea4d-40bc-b998-ac29ca5f4b7b",
   "metadata": {},
   "outputs": [],
   "source": [
    "# Hitung rata-rata akurasi batch_size 32\n",
    "print('Accuracy: ', performa_batchSize_6['test_accuracy'].mean())\n",
    "print('F1-Score: ', performa_batchSize_6['test_f1_macro'].mean())\n",
    "print('Precision: ', performa_batchSize_6['test_precision_macro'].mean())\n",
    "print('Recall: ', performa_batchSize_6['test_recall_macro'].mean())"
   ]
  },
  {
   "cell_type": "code",
   "execution_count": null,
   "id": "df783469-f662-45c3-9762-6c5eb08a6d95",
   "metadata": {},
   "outputs": [],
   "source": [
    "# Didapatkan Batch Size optimal yakni batch_size = 8"
   ]
  },
  {
   "cell_type": "code",
   "execution_count": null,
   "id": "6d6750a2-a435-43e6-b3c5-8f8f9205a92b",
   "metadata": {},
   "outputs": [],
   "source": [
    "# Uji cross-validation max_iter dengan batch_size optimal\n",
    "modelAnn_kedua_1 = neuralNetwork(hidden_layer_sizes = (9,4), batch_size = 8, max_iter = 200)\n",
    "modelAnn_kedua_2 = neuralNetwork(hidden_layer_sizes = (9,4), batch_size = 8, max_iter = 600)\n",
    "modelAnn_kedua_3 = neuralNetwork(hidden_layer_sizes = (9,4), batch_size = 8, max_iter = 1000)\n",
    "modelAnn_kedua_4 = neuralNetwork(hidden_layer_sizes = (9,4), batch_size = 8, max_iter = 1400)\n",
    "modelAnn_kedua_5 = neuralNetwork(hidden_layer_sizes = (9,4), batch_size = 8, max_iter = 1800)\n",
    "modelAnn_kedua_6 = neuralNetwork(hidden_layer_sizes = (9,4), batch_size = 8, max_iter = 2200)"
   ]
  },
  {
   "cell_type": "code",
   "execution_count": null,
   "id": "af7c36a7-d9b1-40db-808d-93731d9a98a5",
   "metadata": {},
   "outputs": [],
   "source": [
    "# Uji batch_size dengan cross-validasi fold K-10\n",
    "# Scores berisi parameter untuk evaluasi\n",
    "scores = {'accuracy': 'accuracy', 'f1_macro': 'f1_macro', 'precision_macro': 'precision_macro', 'recall_macro': 'recall_macro'}\n",
    "\n",
    "performa_epoch_1 = crossValidation(modelAnn_kedua_1, fitur_latih, target_latih, scoring = scores, cv = 10)\n",
    "performa_epoch_2 = crossValidation(modelAnn_kedua_2, fitur_latih, target_latih, scoring = scores, cv = 10)\n",
    "performa_epoch_3 = crossValidation(modelAnn_kedua_3, fitur_latih, target_latih, scoring = scores, cv = 10)\n",
    "performa_epoch_4 = crossValidation(modelAnn_kedua_4, fitur_latih, target_latih, scoring = scores, cv = 10)\n",
    "performa_epoch_5 = crossValidation(modelAnn_kedua_5, fitur_latih, target_latih, scoring = scores, cv = 10)\n",
    "performa_epoch_6 = crossValidation(modelAnn_kedua_6, fitur_latih, target_latih, scoring = scores, cv = 10)"
   ]
  },
  {
   "cell_type": "code",
   "execution_count": null,
   "id": "4296a1f5-7bfb-437e-bb54-d644a0730e0a",
   "metadata": {},
   "outputs": [],
   "source": [
    "# Hitung rata-rata akurasi epoch 200\n",
    "print('Training Time: ', performa_epoch_1['fit_time'].mean())\n",
    "print('Accuracy: ', performa_epoch_1['test_accuracy'].mean())\n",
    "print('F1-Score: ', performa_epoch_1['test_f1_macro'].mean())\n",
    "print('Precision: ', performa_epoch_1['test_precision_macro'].mean())\n",
    "print('Recall: ', performa_epoch_1['test_recall_macro'].mean())\n",
    "print('Prediction Time: ', performa_epoch_1['score_time'].mean())"
   ]
  },
  {
   "cell_type": "code",
   "execution_count": null,
   "id": "60251f1a-6102-436b-b9b2-bad82c061d18",
   "metadata": {},
   "outputs": [],
   "source": [
    "# Hitung rata-rata akurasi batch_size 600\n",
    "print('Training Time: ', performa_epoch_2['fit_time'].mean())\n",
    "print('Accuracy: ', performa_epoch_2['test_accuracy'].mean())\n",
    "print('F1-Score: ', performa_epoch_2['test_f1_macro'].mean())\n",
    "print('Precision: ', performa_epoch_2['test_precision_macro'].mean())\n",
    "print('Recall: ', performa_epoch_2['test_recall_macro'].mean())\n",
    "print('Prediction Time: ', performa_epoch_2['score_time'].mean())"
   ]
  },
  {
   "cell_type": "code",
   "execution_count": null,
   "id": "7462be35-e685-4c80-b58b-88e94e4ddf06",
   "metadata": {},
   "outputs": [],
   "source": [
    "# Hitung rata-rata akurasi batch_size 1000\n",
    "print('Training Time: ', performa_epoch_3['fit_time'].mean())\n",
    "print('Accuracy: ', performa_epoch_3['test_accuracy'].mean())\n",
    "print('F1-Score: ', performa_epoch_3['test_f1_macro'].mean())\n",
    "print('Precision: ', performa_epoch_3['test_precision_macro'].mean())\n",
    "print('Recall: ', performa_epoch_3['test_recall_macro'].mean())\n",
    "print('Prediction Time: ', performa_epoch_3['score_time'].mean())"
   ]
  },
  {
   "cell_type": "code",
   "execution_count": null,
   "id": "6af8ffdb-67f6-409b-b849-65714f5fa527",
   "metadata": {},
   "outputs": [],
   "source": [
    "# Hitung rata-rata akurasi batch_size 1400\n",
    "print('Training Time: ', performa_epoch_4['fit_time'].mean())\n",
    "print('Accuracy: ', performa_epoch_4['test_accuracy'].mean())\n",
    "print('F1-Score: ', performa_epoch_4['test_f1_macro'].mean())\n",
    "print('Precision: ', performa_epoch_4['test_precision_macro'].mean())\n",
    "print('Recall: ', performa_epoch_4['test_recall_macro'].mean())\n",
    "print('Prediction Time: ', performa_epoch_4['score_time'].mean())"
   ]
  },
  {
   "cell_type": "code",
   "execution_count": null,
   "id": "26ef347d-e9ca-4f29-be2b-e630cdbc7fba",
   "metadata": {},
   "outputs": [],
   "source": [
    "# Hitung rata-rata akurasi batch_size 1800\n",
    "print('Training Time: ', performa_epoch_5['fit_time'].mean())\n",
    "print('Accuracy: ', performa_epoch_5['test_accuracy'].mean())\n",
    "print('F1-Score: ', performa_epoch_5['test_f1_macro'].mean())\n",
    "print('Precision: ', performa_epoch_5['test_precision_macro'].mean())\n",
    "print('Recall: ', performa_epoch_5['test_recall_macro'].mean())\n",
    "print('Prediction Time: ', performa_epoch_5['score_time'].mean())"
   ]
  },
  {
   "cell_type": "code",
   "execution_count": null,
   "id": "84210a06-8107-42f7-933d-4b70c048022f",
   "metadata": {},
   "outputs": [],
   "source": [
    "# Hitung rata-rata akurasi batch_size 2200\n",
    "print('Training Time: ', performa_epoch_6['fit_time'].mean())\n",
    "print('Accuracy: ', performa_epoch_6['test_accuracy'].mean())\n",
    "print('F1-Score: ', performa_epoch_6['test_f1_macro'].mean())\n",
    "print('Precision: ', performa_epoch_6['test_precision_macro'].mean())\n",
    "print('Recall: ', performa_epoch_6['test_recall_macro'].mean())\n",
    "print('Prediction Time: ', performa_epoch_6['score_time'].mean())"
   ]
  },
  {
   "cell_type": "code",
   "execution_count": 5,
   "id": "5b757608-2b9f-4ea5-a17b-394e84497615",
   "metadata": {},
   "outputs": [],
   "source": [
    "# Uji cross-validation learning_rate_init dengan batch_size = 8 dan max_iter = 600\n",
    "modelAnn_kedua_1 = neuralNetwork(hidden_layer_sizes = (9,4), batch_size = 8, max_iter = 600, learning_rate_init=0.001)\n",
    "modelAnn_kedua_2 = neuralNetwork(hidden_layer_sizes = (9,4), batch_size = 8, max_iter = 600, learning_rate_init=0.01)\n",
    "modelAnn_kedua_3 = neuralNetwork(hidden_layer_sizes = (9,4), batch_size = 8, max_iter = 600, learning_rate_init=0.1)\n",
    "modelAnn_kedua_4 = neuralNetwork(hidden_layer_sizes = (9,4), batch_size = 8, max_iter = 600, learning_rate_init=1)"
   ]
  },
  {
   "cell_type": "code",
   "execution_count": 6,
   "id": "69e8597d-5a95-4453-abe7-6e1ffd55e06d",
   "metadata": {},
   "outputs": [
    {
     "name": "stderr",
     "output_type": "stream",
     "text": [
      "f:\\College\\SKRIPSI\\Skripsi\\Project_ANN\\Neural-Network\\.venv\\Lib\\site-packages\\sklearn\\metrics\\_classification.py:1706: UndefinedMetricWarning: Precision is ill-defined and being set to 0.0 in labels with no predicted samples. Use `zero_division` parameter to control this behavior.\n",
      "  _warn_prf(average, modifier, f\"{metric.capitalize()} is\", result.shape[0])\n",
      "f:\\College\\SKRIPSI\\Skripsi\\Project_ANN\\Neural-Network\\.venv\\Lib\\site-packages\\sklearn\\metrics\\_classification.py:1706: UndefinedMetricWarning: Precision is ill-defined and being set to 0.0 in labels with no predicted samples. Use `zero_division` parameter to control this behavior.\n",
      "  _warn_prf(average, modifier, f\"{metric.capitalize()} is\", result.shape[0])\n",
      "f:\\College\\SKRIPSI\\Skripsi\\Project_ANN\\Neural-Network\\.venv\\Lib\\site-packages\\sklearn\\metrics\\_classification.py:1706: UndefinedMetricWarning: Precision is ill-defined and being set to 0.0 in labels with no predicted samples. Use `zero_division` parameter to control this behavior.\n",
      "  _warn_prf(average, modifier, f\"{metric.capitalize()} is\", result.shape[0])\n",
      "f:\\College\\SKRIPSI\\Skripsi\\Project_ANN\\Neural-Network\\.venv\\Lib\\site-packages\\sklearn\\metrics\\_classification.py:1706: UndefinedMetricWarning: Precision is ill-defined and being set to 0.0 in labels with no predicted samples. Use `zero_division` parameter to control this behavior.\n",
      "  _warn_prf(average, modifier, f\"{metric.capitalize()} is\", result.shape[0])\n",
      "f:\\College\\SKRIPSI\\Skripsi\\Project_ANN\\Neural-Network\\.venv\\Lib\\site-packages\\sklearn\\metrics\\_classification.py:1706: UndefinedMetricWarning: Precision is ill-defined and being set to 0.0 in labels with no predicted samples. Use `zero_division` parameter to control this behavior.\n",
      "  _warn_prf(average, modifier, f\"{metric.capitalize()} is\", result.shape[0])\n",
      "f:\\College\\SKRIPSI\\Skripsi\\Project_ANN\\Neural-Network\\.venv\\Lib\\site-packages\\sklearn\\metrics\\_classification.py:1706: UndefinedMetricWarning: Precision is ill-defined and being set to 0.0 in labels with no predicted samples. Use `zero_division` parameter to control this behavior.\n",
      "  _warn_prf(average, modifier, f\"{metric.capitalize()} is\", result.shape[0])\n",
      "f:\\College\\SKRIPSI\\Skripsi\\Project_ANN\\Neural-Network\\.venv\\Lib\\site-packages\\sklearn\\metrics\\_classification.py:1706: UndefinedMetricWarning: Precision is ill-defined and being set to 0.0 in labels with no predicted samples. Use `zero_division` parameter to control this behavior.\n",
      "  _warn_prf(average, modifier, f\"{metric.capitalize()} is\", result.shape[0])\n",
      "f:\\College\\SKRIPSI\\Skripsi\\Project_ANN\\Neural-Network\\.venv\\Lib\\site-packages\\sklearn\\metrics\\_classification.py:1706: UndefinedMetricWarning: Precision is ill-defined and being set to 0.0 in labels with no predicted samples. Use `zero_division` parameter to control this behavior.\n",
      "  _warn_prf(average, modifier, f\"{metric.capitalize()} is\", result.shape[0])\n",
      "f:\\College\\SKRIPSI\\Skripsi\\Project_ANN\\Neural-Network\\.venv\\Lib\\site-packages\\sklearn\\metrics\\_classification.py:1706: UndefinedMetricWarning: Precision is ill-defined and being set to 0.0 in labels with no predicted samples. Use `zero_division` parameter to control this behavior.\n",
      "  _warn_prf(average, modifier, f\"{metric.capitalize()} is\", result.shape[0])\n",
      "f:\\College\\SKRIPSI\\Skripsi\\Project_ANN\\Neural-Network\\.venv\\Lib\\site-packages\\sklearn\\metrics\\_classification.py:1706: UndefinedMetricWarning: Precision is ill-defined and being set to 0.0 in labels with no predicted samples. Use `zero_division` parameter to control this behavior.\n",
      "  _warn_prf(average, modifier, f\"{metric.capitalize()} is\", result.shape[0])\n",
      "f:\\College\\SKRIPSI\\Skripsi\\Project_ANN\\Neural-Network\\.venv\\Lib\\site-packages\\sklearn\\metrics\\_classification.py:1706: UndefinedMetricWarning: Precision is ill-defined and being set to 0.0 in labels with no predicted samples. Use `zero_division` parameter to control this behavior.\n",
      "  _warn_prf(average, modifier, f\"{metric.capitalize()} is\", result.shape[0])\n",
      "f:\\College\\SKRIPSI\\Skripsi\\Project_ANN\\Neural-Network\\.venv\\Lib\\site-packages\\sklearn\\metrics\\_classification.py:1706: UndefinedMetricWarning: Precision is ill-defined and being set to 0.0 in labels with no predicted samples. Use `zero_division` parameter to control this behavior.\n",
      "  _warn_prf(average, modifier, f\"{metric.capitalize()} is\", result.shape[0])\n"
     ]
    }
   ],
   "source": [
    "# Uji learning_rate_init dengan cross-validasi fold K-10 dan batch_size 8 serta max_iter 600\n",
    "# Scores berisi parameter untuk evaluasi\n",
    "scores = {'accuracy': 'accuracy', 'f1_macro': 'f1_macro', 'precision_macro': 'precision_macro', 'recall_macro': 'recall_macro'}\n",
    "\n",
    "performa_epoch_1 = crossValidation(modelAnn_kedua_1, fitur_latih, target_latih, scoring = scores, cv = 10)\n",
    "performa_epoch_2 = crossValidation(modelAnn_kedua_2, fitur_latih, target_latih, scoring = scores, cv = 10)\n",
    "performa_epoch_3 = crossValidation(modelAnn_kedua_3, fitur_latih, target_latih, scoring = scores, cv = 10)\n",
    "performa_epoch_4 = crossValidation(modelAnn_kedua_4, fitur_latih, target_latih, scoring = scores, cv = 10)"
   ]
  },
  {
   "cell_type": "code",
   "execution_count": 7,
   "id": "5ac3c3d4-a911-4dc8-b6ca-41c36b5147bd",
   "metadata": {},
   "outputs": [
    {
     "name": "stdout",
     "output_type": "stream",
     "text": [
      "Training Time:  26.546763157844545\n",
      "Accuracy:  0.9713024212691881\n",
      "F1-Score:  0.9621760117936216\n",
      "Precision:  0.9632718825986801\n",
      "Recall:  0.9627801269953273\n"
     ]
    }
   ],
   "source": [
    "# Hitung rata-rata akurasi learning rate 0.001\n",
    "print('Training Time: ', performa_epoch_1['fit_time'].mean())\n",
    "print('Accuracy: ', performa_epoch_1['test_accuracy'].mean())\n",
    "print('F1-Score: ', performa_epoch_1['test_f1_macro'].mean())\n",
    "print('Precision: ', performa_epoch_1['test_precision_macro'].mean())\n",
    "print('Recall: ', performa_epoch_1['test_recall_macro'].mean())"
   ]
  },
  {
   "cell_type": "code",
   "execution_count": 8,
   "id": "66020b3f-2d04-4b2e-9701-3f086581fb8f",
   "metadata": {},
   "outputs": [
    {
     "name": "stdout",
     "output_type": "stream",
     "text": [
      "Training Time:  8.616769647598266\n",
      "Accuracy:  0.9586176610223138\n",
      "F1-Score:  0.9395464719927362\n",
      "Precision:  0.944054530949184\n",
      "Recall:  0.9466629115819145\n"
     ]
    }
   ],
   "source": [
    "# Hitung rata-rata akurasi learning rate 0.01\n",
    "print('Training Time: ', performa_epoch_2['fit_time'].mean())\n",
    "print('Accuracy: ', performa_epoch_2['test_accuracy'].mean())\n",
    "print('F1-Score: ', performa_epoch_2['test_f1_macro'].mean())\n",
    "print('Precision: ', performa_epoch_2['test_precision_macro'].mean())\n",
    "print('Recall: ', performa_epoch_2['test_recall_macro'].mean())"
   ]
  },
  {
   "cell_type": "code",
   "execution_count": 9,
   "id": "c422d93f-3d88-43a8-9f4f-2645cc5ed3a2",
   "metadata": {},
   "outputs": [
    {
     "name": "stdout",
     "output_type": "stream",
     "text": [
      "Training Time:  4.235312986373901\n",
      "Accuracy:  0.837092103180883\n",
      "F1-Score:  0.7418949572513153\n",
      "Precision:  0.7454660487919598\n",
      "Recall:  0.7666373195659884\n"
     ]
    }
   ],
   "source": [
    "# Hitung rata-rata akurasi learning rate 0.1\n",
    "print('Training Time: ', performa_epoch_3['fit_time'].mean())\n",
    "print('Accuracy: ', performa_epoch_3['test_accuracy'].mean())\n",
    "print('F1-Score: ', performa_epoch_3['test_f1_macro'].mean())\n",
    "print('Precision: ', performa_epoch_3['test_precision_macro'].mean())\n",
    "print('Recall: ', performa_epoch_3['test_recall_macro'].mean())"
   ]
  },
  {
   "cell_type": "code",
   "execution_count": 10,
   "id": "9e18307c-f7db-49b0-b7bc-60158bb34c8a",
   "metadata": {},
   "outputs": [
    {
     "name": "stdout",
     "output_type": "stream",
     "text": [
      "Training Time:  3.475509214401245\n",
      "Accuracy:  0.3916798544073429\n",
      "F1-Score:  0.13717315706272437\n",
      "Precision:  0.09791996360183572\n",
      "Recall:  0.25\n"
     ]
    }
   ],
   "source": [
    "# Hitung rata-rata akurasi learning rate 1\n",
    "print('Training Time: ', performa_epoch_4['fit_time'].mean())\n",
    "print('Accuracy: ', performa_epoch_4['test_accuracy'].mean())\n",
    "print('F1-Score: ', performa_epoch_4['test_f1_macro'].mean())\n",
    "print('Precision: ', performa_epoch_4['test_precision_macro'].mean())\n",
    "print('Recall: ', performa_epoch_4['test_recall_macro'].mean())"
   ]
  }
 ],
 "metadata": {
  "kernelspec": {
   "display_name": "Python 3 (ipykernel)",
   "language": "python",
   "name": "python3"
  },
  "language_info": {
   "codemirror_mode": {
    "name": "ipython",
    "version": 3
   },
   "file_extension": ".py",
   "mimetype": "text/x-python",
   "name": "python",
   "nbconvert_exporter": "python",
   "pygments_lexer": "ipython3",
   "version": "3.13.4"
  }
 },
 "nbformat": 4,
 "nbformat_minor": 5
}
