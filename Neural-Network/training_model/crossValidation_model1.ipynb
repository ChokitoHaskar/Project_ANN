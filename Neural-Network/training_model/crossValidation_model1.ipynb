{
 "cells": [
  {
   "cell_type": "code",
   "execution_count": 1,
   "id": "4dff1888-590e-4e22-ace2-8edeedf8a49c",
   "metadata": {},
   "outputs": [],
   "source": [
    "# Impor library yang dibutuhkan\n",
    "from sklearn.neural_network import MLPClassifier as neuralNetwork\n",
    "from sklearn.model_selection import cross_validate as crossValidation\n",
    "from sklearn.metrics import classification_report, confusion_matrix, accuracy_score\n",
    "from matplotlib import pyplot as plt\n",
    "import pandas as pd\n",
    "import numpy as np"
   ]
  },
  {
   "cell_type": "code",
   "execution_count": 2,
   "id": "5f50d2fe-faf6-4ac4-ad0b-64a6cec0c34c",
   "metadata": {},
   "outputs": [],
   "source": [
    "# Impor dataset\n",
    "dataset_latih = pd.read_csv('./dataset_latih_final.csv')\n",
    "\n",
    "# Acak urutan dataset\n",
    "dataset_latih = dataset_latih.sample(frac = 1, random_state = 2025, ignore_index = True)"
   ]
  },
  {
   "cell_type": "code",
   "execution_count": 15,
   "id": "3ea27b6b-c4e1-4585-a1b3-d3a0b7a84862",
   "metadata": {},
   "outputs": [],
   "source": [
    "# Tetapkan fitur dan label latih\n",
    "fitur_latih = dataset_latih[['jenisKelamin', 'umur', 'beratBadan', 'tinggiBadan']]\n",
    "target_latih = dataset_latih['label']"
   ]
  },
  {
   "cell_type": "code",
   "execution_count": null,
   "id": "573d8e75-89e4-4f08-b2d1-851ce3d6496b",
   "metadata": {},
   "outputs": [],
   "source": [
    "# Uji cross-validation batch_size\n",
    "modelAnn_pertama_1 = neuralNetwork(hidden_layer_sizes = (9,), batch_size='auto')\n",
    "modelAnn_pertama_2 = neuralNetwork(hidden_layer_sizes = (9,), batch_size=2)\n",
    "modelAnn_pertama_3 = neuralNetwork(hidden_layer_sizes = (9,), batch_size=4)\n",
    "modelAnn_pertama_4 = neuralNetwork(hidden_layer_sizes = (9,), batch_size=8)\n",
    "modelAnn_pertama_5 = neuralNetwork(hidden_layer_sizes = (9,), batch_size=16)\n",
    "modelAnn_pertama_6 = neuralNetwork(hidden_layer_sizes = (9,), batch_size=32)"
   ]
  },
  {
   "cell_type": "code",
   "execution_count": null,
   "id": "e81666ab-be0f-478f-8024-001c9226472a",
   "metadata": {},
   "outputs": [],
   "source": [
    "# Uji batch_size dengan cross-validasi fold K-10\n",
    "# Scores berisi parameter untuk evaluasi\n",
    "scores = {'accuracy': 'accuracy', 'f1_macro': 'f1_macro', 'precision_macro': 'precision_macro', 'recall_macro': 'recall_macro'}\n",
    "performa_batchSize_1 = crossValidation(modelAnn_pertama_1, fitur_latih, target_latih, scoring = scores, cv = 10)\n",
    "performa_batchSize_2 = crossValidation(modelAnn_pertama_2, fitur_latih, target_latih, scoring = scores, cv = 10)\n",
    "performa_batchSize_3 = crossValidation(modelAnn_pertama_3, fitur_latih, target_latih, scoring = scores, cv = 10)\n",
    "performa_batchSize_4 = crossValidation(modelAnn_pertama_4, fitur_latih, target_latih, scoring = scores, cv = 10)\n",
    "performa_batchSize_5 = crossValidation(modelAnn_pertama_5, fitur_latih, target_latih, scoring = scores, cv = 10)\n",
    "performa_batchSize_6 = crossValidation(modelAnn_pertama_6, fitur_latih, target_latih, scoring = scores, cv = 10)"
   ]
  },
  {
   "cell_type": "code",
   "execution_count": null,
   "id": "e1342ced-d337-44b3-ae4b-89c7ba9361a6",
   "metadata": {},
   "outputs": [],
   "source": [
    "# Hitung rata-rata akurasi batch_size auto\n",
    "print('Accuracy: ', performa_batchSize_1['test_accuracy'].mean())\n",
    "print('F1-Score: ', performa_batchSize_1['test_f1_macro'].mean())\n",
    "print('Precision: ', performa_batchSize_1['test_precision_macro'].mean())\n",
    "print('Recall: ', performa_batchSize_1['test_recall_macro'].mean())"
   ]
  },
  {
   "cell_type": "code",
   "execution_count": null,
   "id": "cae20298-1954-4c06-92fd-749ce5a47126",
   "metadata": {},
   "outputs": [],
   "source": [
    "# Hitung rata-rata akurasi batch_size 2\n",
    "print('Accuracy: ', performa_batchSize_2['test_accuracy'].mean())\n",
    "print('F1-Score: ', performa_batchSize_2['test_f1_macro'].mean())\n",
    "print('Precision: ', performa_batchSize_2['test_precision_macro'].mean())\n",
    "print('Recall: ', performa_batchSize_2['test_recall_macro'].mean())"
   ]
  },
  {
   "cell_type": "code",
   "execution_count": null,
   "id": "876c327c-f951-45fa-895b-ea672563ed8e",
   "metadata": {},
   "outputs": [],
   "source": [
    "# Hitung rata-rata akurasi batch_size 4\n",
    "print('Accuracy: ', performa_batchSize_3['test_accuracy'].mean())\n",
    "print('F1-Score: ', performa_batchSize_3['test_f1_macro'].mean())\n",
    "print('Precision: ', performa_batchSize_3['test_precision_macro'].mean())\n",
    "print('Recall: ', performa_batchSize_3['test_recall_macro'].mean())"
   ]
  },
  {
   "cell_type": "code",
   "execution_count": null,
   "id": "cfeb05d8-9ea3-40be-af24-abbd98ff1181",
   "metadata": {},
   "outputs": [],
   "source": [
    "# Hitung rata-rata akurasi batch_size 8\n",
    "print('Accuracy: ', performa_batchSize_4['test_accuracy'].mean())\n",
    "print('F1-Score: ', performa_batchSize_4['test_f1_macro'].mean())\n",
    "print('Precision: ', performa_batchSize_4['test_precision_macro'].mean())\n",
    "print('Recall: ', performa_batchSize_4['test_recall_macro'].mean())"
   ]
  },
  {
   "cell_type": "code",
   "execution_count": null,
   "id": "689c201a-e812-4202-b28d-31f54899dc5f",
   "metadata": {},
   "outputs": [],
   "source": [
    "# Hitung rata-rata akurasi batch_size 16\n",
    "print('Accuracy: ', performa_batchSize_5['test_accuracy'].mean())\n",
    "print('F1-Score: ', performa_batchSize_5['test_f1_macro'].mean())\n",
    "print('Precision: ', performa_batchSize_5['test_precision_macro'].mean())\n",
    "print('Recall: ', performa_batchSize_5['test_recall_macro'].mean())"
   ]
  },
  {
   "cell_type": "code",
   "execution_count": null,
   "id": "460f910a-ea4d-40bc-b998-ac29ca5f4b7b",
   "metadata": {},
   "outputs": [],
   "source": [
    "# Hitung rata-rata akurasi batch_size 32\n",
    "print('Accuracy: ', performa_batchSize_6['test_accuracy'].mean())\n",
    "print('F1-Score: ', performa_batchSize_6['test_f1_macro'].mean())\n",
    "print('Precision: ', performa_batchSize_6['test_precision_macro'].mean())\n",
    "print('Recall: ', performa_batchSize_6['test_recall_macro'].mean())"
   ]
  },
  {
   "cell_type": "code",
   "execution_count": null,
   "id": "df783469-f662-45c3-9762-6c5eb08a6d95",
   "metadata": {},
   "outputs": [],
   "source": [
    "# Didapatkan Batch Size optimal yakni batch_size = 8"
   ]
  },
  {
   "cell_type": "code",
   "execution_count": null,
   "id": "6d6750a2-a435-43e6-b3c5-8f8f9205a92b",
   "metadata": {},
   "outputs": [],
   "source": [
    "# Uji cross-validation max_iter\n",
    "modelAnn_pertama_1 = neuralNetwork(hidden_layer_sizes = (9,), batch_size = 8, max_iter = 200)\n",
    "modelAnn_pertama_2 = neuralNetwork(hidden_layer_sizes = (9,), batch_size = 8, max_iter = 600)\n",
    "modelAnn_pertama_3 = neuralNetwork(hidden_layer_sizes = (9,), batch_size = 8, max_iter = 1000)\n",
    "modelAnn_pertama_4 = neuralNetwork(hidden_layer_sizes = (9,), batch_size = 8, max_iter = 1400)\n",
    "modelAnn_pertama_5 = neuralNetwork(hidden_layer_sizes = (9,), batch_size = 8, max_iter = 1800)\n",
    "modelAnn_pertama_6 = neuralNetwork(hidden_layer_sizes = (9,), batch_size = 8, max_iter = 2200)"
   ]
  },
  {
   "cell_type": "code",
   "execution_count": null,
   "id": "af7c36a7-d9b1-40db-808d-93731d9a98a5",
   "metadata": {},
   "outputs": [],
   "source": [
    "# Uji max_iter dengan cross-validasi fold K-10 dan batch_size 8\n",
    "# Scores berisi parameter untuk evaluasi\n",
    "scores = {'accuracy': 'accuracy', 'f1_macro': 'f1_macro', 'precision_macro': 'precision_macro', 'recall_macro': 'recall_macro'}\n",
    "\n",
    "performa_epoch_1 = crossValidation(modelAnn_pertama_1, fitur_latih, target_latih, scoring = scores, cv = 10)\n",
    "performa_epoch_2 = crossValidation(modelAnn_pertama_2, fitur_latih, target_latih, scoring = scores, cv = 10)\n",
    "performa_epoch_3 = crossValidation(modelAnn_pertama_3, fitur_latih, target_latih, scoring = scores, cv = 10)\n",
    "performa_epoch_4 = crossValidation(modelAnn_pertama_4, fitur_latih, target_latih, scoring = scores, cv = 10)\n",
    "performa_epoch_5 = crossValidation(modelAnn_pertama_5, fitur_latih, target_latih, scoring = scores, cv = 10)\n",
    "performa_epoch_6 = crossValidation(modelAnn_pertama_6, fitur_latih, target_latih, scoring = scores, cv = 10)"
   ]
  },
  {
   "cell_type": "code",
   "execution_count": null,
   "id": "4296a1f5-7bfb-437e-bb54-d644a0730e0a",
   "metadata": {},
   "outputs": [],
   "source": [
    "# Hitung rata-rata akurasi epoch 200\n",
    "print('Training Time: ', performa_epoch_1['fit_time'].mean())\n",
    "print('Accuracy: ', performa_epoch_1['test_accuracy'].mean())\n",
    "print('F1-Score: ', performa_epoch_1['test_f1_macro'].mean())\n",
    "print('Precision: ', performa_epoch_1['test_precision_macro'].mean())\n",
    "print('Recall: ', performa_epoch_1['test_recall_macro'].mean())\n",
    "print('Prediction Time: ', performa_epoch_1['score_time'].mean())"
   ]
  },
  {
   "cell_type": "code",
   "execution_count": null,
   "id": "60251f1a-6102-436b-b9b2-bad82c061d18",
   "metadata": {},
   "outputs": [],
   "source": [
    "# Hitung rata-rata akurasi batch_size 600\n",
    "print('Training Time: ', performa_epoch_2['fit_time'].mean())\n",
    "print('Accuracy: ', performa_epoch_2['test_accuracy'].mean())\n",
    "print('F1-Score: ', performa_epoch_2['test_f1_macro'].mean())\n",
    "print('Precision: ', performa_epoch_2['test_precision_macro'].mean())\n",
    "print('Recall: ', performa_epoch_2['test_recall_macro'].mean())\n",
    "print('Prediction Time: ', performa_epoch_2['score_time'].mean())"
   ]
  },
  {
   "cell_type": "code",
   "execution_count": null,
   "id": "7462be35-e685-4c80-b58b-88e94e4ddf06",
   "metadata": {},
   "outputs": [],
   "source": [
    "# Hitung rata-rata akurasi batch_size 1000\n",
    "print('Training Time: ', performa_epoch_3['fit_time'].mean())\n",
    "print('Accuracy: ', performa_epoch_3['test_accuracy'].mean())\n",
    "print('F1-Score: ', performa_epoch_3['test_f1_macro'].mean())\n",
    "print('Precision: ', performa_epoch_3['test_precision_macro'].mean())\n",
    "print('Recall: ', performa_epoch_3['test_recall_macro'].mean())\n",
    "print('Prediction Time: ', performa_epoch_3['score_time'].mean())"
   ]
  },
  {
   "cell_type": "code",
   "execution_count": null,
   "id": "6af8ffdb-67f6-409b-b849-65714f5fa527",
   "metadata": {},
   "outputs": [],
   "source": [
    "# Hitung rata-rata akurasi batch_size 1400\n",
    "print('Training Time: ', performa_epoch_4['fit_time'].mean())\n",
    "print('Accuracy: ', performa_epoch_4['test_accuracy'].mean())\n",
    "print('F1-Score: ', performa_epoch_4['test_f1_macro'].mean())\n",
    "print('Precision: ', performa_epoch_4['test_precision_macro'].mean())\n",
    "print('Recall: ', performa_epoch_4['test_recall_macro'].mean())\n",
    "print('Prediction Time: ', performa_epoch_4['score_time'].mean())"
   ]
  },
  {
   "cell_type": "code",
   "execution_count": null,
   "id": "26ef347d-e9ca-4f29-be2b-e630cdbc7fba",
   "metadata": {},
   "outputs": [],
   "source": [
    "# Hitung rata-rata akurasi batch_size 1800\n",
    "print('Training Time: ', performa_epoch_5['fit_time'].mean())\n",
    "print('Accuracy: ', performa_epoch_5['test_accuracy'].mean())\n",
    "print('F1-Score: ', performa_epoch_5['test_f1_macro'].mean())\n",
    "print('Precision: ', performa_epoch_5['test_precision_macro'].mean())\n",
    "print('Recall: ', performa_epoch_5['test_recall_macro'].mean())\n",
    "print('Prediction Time: ', performa_epoch_5['score_time'].mean())"
   ]
  },
  {
   "cell_type": "code",
   "execution_count": null,
   "id": "84210a06-8107-42f7-933d-4b70c048022f",
   "metadata": {},
   "outputs": [],
   "source": [
    "# Hitung rata-rata akurasi batch_size 2200\n",
    "print('Training Time: ', performa_epoch_6['fit_time'].mean())\n",
    "print('Accuracy: ', performa_epoch_6['test_accuracy'].mean())\n",
    "print('F1-Score: ', performa_epoch_6['test_f1_macro'].mean())\n",
    "print('Precision: ', performa_epoch_6['test_precision_macro'].mean())\n",
    "print('Recall: ', performa_epoch_6['test_recall_macro'].mean())\n",
    "print('Prediction Time: ', performa_epoch_6['score_time'].mean())"
   ]
  },
  {
   "cell_type": "code",
   "execution_count": 16,
   "id": "4518737e-4521-4282-a206-420cc7d4ad82",
   "metadata": {},
   "outputs": [],
   "source": [
    "# Uji cross-validation learning_rate_init dengan batch_size = 8 dan max_iter = 600\n",
    "modelAnn_pertama_1 = neuralNetwork(hidden_layer_sizes = (9,), batch_size = 8, max_iter = 600, learning_rate_init=0.001)\n",
    "modelAnn_pertama_2 = neuralNetwork(hidden_layer_sizes = (9,), batch_size = 8, max_iter = 600, learning_rate_init=0.01)\n",
    "modelAnn_pertama_3 = neuralNetwork(hidden_layer_sizes = (9,), batch_size = 8, max_iter = 600, learning_rate_init=0.1)\n",
    "modelAnn_pertama_4 = neuralNetwork(hidden_layer_sizes = (9,), batch_size = 8, max_iter = 600, learning_rate_init=1)"
   ]
  },
  {
   "cell_type": "code",
   "execution_count": 6,
   "id": "e08e8fc9-ec01-4f31-b3c4-36b1f01f9e49",
   "metadata": {},
   "outputs": [
    {
     "name": "stderr",
     "output_type": "stream",
     "text": [
      "f:\\College\\SKRIPSI\\Skripsi\\Project_ANN\\Neural-Network\\.venv\\Lib\\site-packages\\sklearn\\metrics\\_classification.py:1706: UndefinedMetricWarning: Precision is ill-defined and being set to 0.0 in labels with no predicted samples. Use `zero_division` parameter to control this behavior.\n",
      "  _warn_prf(average, modifier, f\"{metric.capitalize()} is\", result.shape[0])\n",
      "f:\\College\\SKRIPSI\\Skripsi\\Project_ANN\\Neural-Network\\.venv\\Lib\\site-packages\\sklearn\\metrics\\_classification.py:1706: UndefinedMetricWarning: Precision is ill-defined and being set to 0.0 in labels with no predicted samples. Use `zero_division` parameter to control this behavior.\n",
      "  _warn_prf(average, modifier, f\"{metric.capitalize()} is\", result.shape[0])\n",
      "f:\\College\\SKRIPSI\\Skripsi\\Project_ANN\\Neural-Network\\.venv\\Lib\\site-packages\\sklearn\\metrics\\_classification.py:1706: UndefinedMetricWarning: Precision is ill-defined and being set to 0.0 in labels with no predicted samples. Use `zero_division` parameter to control this behavior.\n",
      "  _warn_prf(average, modifier, f\"{metric.capitalize()} is\", result.shape[0])\n",
      "f:\\College\\SKRIPSI\\Skripsi\\Project_ANN\\Neural-Network\\.venv\\Lib\\site-packages\\sklearn\\metrics\\_classification.py:1706: UndefinedMetricWarning: Precision is ill-defined and being set to 0.0 in labels with no predicted samples. Use `zero_division` parameter to control this behavior.\n",
      "  _warn_prf(average, modifier, f\"{metric.capitalize()} is\", result.shape[0])\n",
      "f:\\College\\SKRIPSI\\Skripsi\\Project_ANN\\Neural-Network\\.venv\\Lib\\site-packages\\sklearn\\metrics\\_classification.py:1706: UndefinedMetricWarning: Precision is ill-defined and being set to 0.0 in labels with no predicted samples. Use `zero_division` parameter to control this behavior.\n",
      "  _warn_prf(average, modifier, f\"{metric.capitalize()} is\", result.shape[0])\n",
      "f:\\College\\SKRIPSI\\Skripsi\\Project_ANN\\Neural-Network\\.venv\\Lib\\site-packages\\sklearn\\metrics\\_classification.py:1706: UndefinedMetricWarning: Precision is ill-defined and being set to 0.0 in labels with no predicted samples. Use `zero_division` parameter to control this behavior.\n",
      "  _warn_prf(average, modifier, f\"{metric.capitalize()} is\", result.shape[0])\n",
      "f:\\College\\SKRIPSI\\Skripsi\\Project_ANN\\Neural-Network\\.venv\\Lib\\site-packages\\sklearn\\metrics\\_classification.py:1706: UndefinedMetricWarning: Precision is ill-defined and being set to 0.0 in labels with no predicted samples. Use `zero_division` parameter to control this behavior.\n",
      "  _warn_prf(average, modifier, f\"{metric.capitalize()} is\", result.shape[0])\n",
      "f:\\College\\SKRIPSI\\Skripsi\\Project_ANN\\Neural-Network\\.venv\\Lib\\site-packages\\sklearn\\metrics\\_classification.py:1706: UndefinedMetricWarning: Precision is ill-defined and being set to 0.0 in labels with no predicted samples. Use `zero_division` parameter to control this behavior.\n",
      "  _warn_prf(average, modifier, f\"{metric.capitalize()} is\", result.shape[0])\n",
      "f:\\College\\SKRIPSI\\Skripsi\\Project_ANN\\Neural-Network\\.venv\\Lib\\site-packages\\sklearn\\metrics\\_classification.py:1706: UndefinedMetricWarning: Precision is ill-defined and being set to 0.0 in labels with no predicted samples. Use `zero_division` parameter to control this behavior.\n",
      "  _warn_prf(average, modifier, f\"{metric.capitalize()} is\", result.shape[0])\n",
      "f:\\College\\SKRIPSI\\Skripsi\\Project_ANN\\Neural-Network\\.venv\\Lib\\site-packages\\sklearn\\metrics\\_classification.py:1706: UndefinedMetricWarning: Precision is ill-defined and being set to 0.0 in labels with no predicted samples. Use `zero_division` parameter to control this behavior.\n",
      "  _warn_prf(average, modifier, f\"{metric.capitalize()} is\", result.shape[0])\n"
     ]
    }
   ],
   "source": [
    "# Uji learning_rate_init dengan cross-validasi fold K-10 dan batch_size 8 serta max_iter 600\n",
    "# Scores berisi parameter untuk evaluasi\n",
    "scores = {'accuracy': 'accuracy', 'f1_macro': 'f1_macro', 'precision_macro': 'precision_macro', 'recall_macro': 'recall_macro'}\n",
    "\n",
    "performa_epoch_1 = crossValidation(modelAnn_pertama_1, fitur_latih, target_latih, scoring = scores, cv = 10)\n",
    "performa_epoch_2 = crossValidation(modelAnn_pertama_2, fitur_latih, target_latih, scoring = scores, cv = 10)\n",
    "performa_epoch_3 = crossValidation(modelAnn_pertama_3, fitur_latih, target_latih, scoring = scores, cv = 10)\n",
    "performa_epoch_4 = crossValidation(modelAnn_pertama_4, fitur_latih, target_latih, scoring = scores, cv = 10)"
   ]
  },
  {
   "cell_type": "code",
   "execution_count": 11,
   "id": "ae5fa2dd-9c2a-47ac-9990-1b9d1425ef2c",
   "metadata": {},
   "outputs": [
    {
     "name": "stdout",
     "output_type": "stream",
     "text": [
      "Training Time:  36.45912139415741\n",
      "Accuracy:  0.9758055072005064\n",
      "F1-Score:  0.9679936437190886\n",
      "Precision:  0.9707968743355749\n",
      "Recall:  0.9662854064236196\n"
     ]
    }
   ],
   "source": [
    "# Hitung rata-rata akurasi learning rate 0.001\n",
    "print('Training Time: ', performa_epoch_1['fit_time'].mean())\n",
    "print('Accuracy: ', performa_epoch_1['test_accuracy'].mean())\n",
    "print('F1-Score: ', performa_epoch_1['test_f1_macro'].mean())\n",
    "print('Precision: ', performa_epoch_1['test_precision_macro'].mean())\n",
    "print('Recall: ', performa_epoch_1['test_recall_macro'].mean())"
   ]
  },
  {
   "cell_type": "code",
   "execution_count": 18,
   "id": "8ed19082-35e2-4b5f-930e-828b3d9fed0d",
   "metadata": {},
   "outputs": [
    {
     "name": "stdout",
     "output_type": "stream",
     "text": [
      "Training Time:  9.330589723587035\n",
      "Accuracy:  0.9760792846969457\n",
      "F1-Score:  0.9692338796175817\n",
      "Precision:  0.9735010745736382\n",
      "Recall:  0.9675815421182227\n"
     ]
    }
   ],
   "source": [
    "# Hitung rata-rata akurasi learning rate 0.01\n",
    "print('Training Time: ', performa_epoch_2['fit_time'].mean())\n",
    "print('Accuracy: ', performa_epoch_2['test_accuracy'].mean())\n",
    "print('F1-Score: ', performa_epoch_2['test_f1_macro'].mean())\n",
    "print('Precision: ', performa_epoch_2['test_precision_macro'].mean())\n",
    "print('Recall: ', performa_epoch_2['test_recall_macro'].mean())"
   ]
  },
  {
   "cell_type": "code",
   "execution_count": 13,
   "id": "cd8dad6c-2724-4a4b-9f0d-b99193522198",
   "metadata": {},
   "outputs": [
    {
     "name": "stdout",
     "output_type": "stream",
     "text": [
      "Training Time:  4.359777116775513\n",
      "Accuracy:  0.9485211267605635\n",
      "F1-Score:  0.934954990760138\n",
      "Precision:  0.9358661130763954\n",
      "Recall:  0.9387275061795506\n"
     ]
    }
   ],
   "source": [
    "# Hitung rata-rata akurasi learning rate 0.1\n",
    "print('Training Time: ', performa_epoch_3['fit_time'].mean())\n",
    "print('Accuracy: ', performa_epoch_3['test_accuracy'].mean())\n",
    "print('F1-Score: ', performa_epoch_3['test_f1_macro'].mean())\n",
    "print('Precision: ', performa_epoch_3['test_precision_macro'].mean())\n",
    "print('Recall: ', performa_epoch_3['test_recall_macro'].mean())"
   ]
  },
  {
   "cell_type": "code",
   "execution_count": 14,
   "id": "d86e6a5c-47de-40bd-8514-0720e4b12f3c",
   "metadata": {},
   "outputs": [
    {
     "name": "stdout",
     "output_type": "stream",
     "text": [
      "Training Time:  2.8783023357391357\n",
      "Accuracy:  0.4510144010128185\n",
      "F1-Score:  0.1545285086824846\n",
      "Precision:  0.11275360025320462\n",
      "Recall:  0.25\n"
     ]
    }
   ],
   "source": [
    "# Hitung rata-rata akurasi learning rate 1\n",
    "print('Training Time: ', performa_epoch_4['fit_time'].mean())\n",
    "print('Accuracy: ', performa_epoch_4['test_accuracy'].mean())\n",
    "print('F1-Score: ', performa_epoch_4['test_f1_macro'].mean())\n",
    "print('Precision: ', performa_epoch_4['test_precision_macro'].mean())\n",
    "print('Recall: ', performa_epoch_4['test_recall_macro'].mean())"
   ]
  }
 ],
 "metadata": {
  "kernelspec": {
   "display_name": "Python 3 (ipykernel)",
   "language": "python",
   "name": "python3"
  },
  "language_info": {
   "codemirror_mode": {
    "name": "ipython",
    "version": 3
   },
   "file_extension": ".py",
   "mimetype": "text/x-python",
   "name": "python",
   "nbconvert_exporter": "python",
   "pygments_lexer": "ipython3",
   "version": "3.13.4"
  }
 },
 "nbformat": 4,
 "nbformat_minor": 5
}
