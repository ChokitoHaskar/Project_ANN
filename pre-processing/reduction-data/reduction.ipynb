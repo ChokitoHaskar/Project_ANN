{
 "cells": [
  {
   "cell_type": "code",
   "execution_count": null,
   "id": "290a2f1d-0c0e-4f45-9d56-85468ef537b3",
   "metadata": {},
   "outputs": [],
   "source": [
    "# impor library\n",
    "from matplotlib import pyplot as plt\n",
    "import pandas as pd"
   ]
  },
  {
   "cell_type": "code",
   "execution_count": null,
   "id": "c48fa3d9-5adb-4a39-a515-b1c977c69c2c",
   "metadata": {},
   "outputs": [],
   "source": [
    "dataset_latih = pd.read_csv('../transformation-data/data_latih.csv')"
   ]
  },
  {
   "cell_type": "code",
   "execution_count": null,
   "id": "9a6313a2-f1f6-4afc-932a-174b6cadf683",
   "metadata": {},
   "outputs": [],
   "source": [
    "# hapus data duplikat\n",
    "dataset_latih = dataset_latih.drop_duplicates()"
   ]
  },
  {
   "cell_type": "code",
   "execution_count": null,
   "id": "fb0af230-ccc3-4f2c-9f75-89f5b88c95d9",
   "metadata": {},
   "outputs": [],
   "source": [
    "dataset_latih.count()"
   ]
  },
  {
   "cell_type": "code",
   "execution_count": null,
   "id": "ce1e53c8-32e1-4f65-92c1-bfeda3d17cb5",
   "metadata": {},
   "outputs": [],
   "source": [
    "# hitung total persebaran\n",
    "totalSehat = dataset_latih.loc[dataset_latih.label == 0, 'label'].count()\n",
    "totalStunting = dataset_latih.loc[dataset_latih.label == 1, 'label'].count()\n",
    "totalWasting = dataset_latih.loc[dataset_latih.label == 2, 'label'].count()\n",
    "totalKeduanya = dataset_latih.loc[dataset_latih.label == 3, 'label'].count()\n",
    "\n",
    "# beri label tiap data\n",
    "labels = ['sehat', 'stunting', 'wasting', 'stunting & wasting']\n",
    "# beri spasi antar data\n",
    "explode = [0.05, 0.05, 0.05, 0.05]\n",
    "# beri warna setiap data\n",
    "colors = ['lightgray', 'lightgray', 'lightgray', 'lightgray']\n",
    "\n",
    "# visualisasikan ke matplot piechart\n",
    "fig, ax = plt.subplots()\n",
    "ax = plt.pie([totalSehat, totalStunting, totalWasting, totalKeduanya], explode=explode, labels=labels, colors=colors, autopct='%.2f%%')\n",
    "plt.show()"
   ]
  },
  {
   "cell_type": "code",
   "execution_count": null,
   "id": "0bb6368b-603c-4e3a-b820-d621d4fc6dcf",
   "metadata": {},
   "outputs": [],
   "source": [
    "# ekspor dataset latih\n",
    "dataset_latih.to_csv('dataset_latih.csv', index=False)"
   ]
  }
 ],
 "metadata": {
  "kernelspec": {
   "display_name": "Python 3 (ipykernel)",
   "language": "python",
   "name": "python3"
  },
  "language_info": {
   "codemirror_mode": {
    "name": "ipython",
    "version": 3
   },
   "file_extension": ".py",
   "mimetype": "text/x-python",
   "name": "python",
   "nbconvert_exporter": "python",
   "pygments_lexer": "ipython3",
   "version": "3.13.5"
  }
 },
 "nbformat": 4,
 "nbformat_minor": 5
}
