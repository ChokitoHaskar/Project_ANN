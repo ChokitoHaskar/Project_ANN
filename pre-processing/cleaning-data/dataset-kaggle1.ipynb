{
 "cells": [
  {
   "cell_type": "code",
   "execution_count": 1,
   "id": "abf6f15d-0faf-446b-9707-d5dd91aec3a5",
   "metadata": {},
   "outputs": [],
   "source": [
    "# impor library yang diperlukan\n",
    "from matplotlib import pyplot as plt\n",
    "import pandas as pd"
   ]
  },
  {
   "cell_type": "code",
   "execution_count": 2,
   "id": "8e1c241b-3498-4f89-b336-0be4dc0534d2",
   "metadata": {},
   "outputs": [],
   "source": [
    "# impor dataset Kaggle-1\n",
    "kaggle1 = pd.read_csv('../raw-datasets/Dataset-Kaggle1.csv', delimiter = ';')"
   ]
  },
  {
   "cell_type": "code",
   "execution_count": 3,
   "id": "4e77008f-6c8f-4022-82f6-6e0558b966e0",
   "metadata": {},
   "outputs": [
    {
     "data": {
      "text/plain": [
       "Gender           10000\n",
       "Age              10000\n",
       "Birth Weight     10000\n",
       "Birth Length     10000\n",
       "Body Weight      10000\n",
       "Body Length      10000\n",
       "Breastfeeding    10000\n",
       "Stunting         10000\n",
       "dtype: int64"
      ]
     },
     "execution_count": 3,
     "metadata": {},
     "output_type": "execute_result"
    }
   ],
   "source": [
    "# cek total data\n",
    "kaggle1.count()"
   ]
  },
  {
   "cell_type": "code",
   "execution_count": 4,
   "id": "8721fd55-7a7d-4ded-9401-162708c871e8",
   "metadata": {},
   "outputs": [
    {
     "data": {
      "text/plain": [
       "Gender           0\n",
       "Age              0\n",
       "Birth Weight     0\n",
       "Birth Length     0\n",
       "Body Weight      0\n",
       "Body Length      0\n",
       "Breastfeeding    0\n",
       "Stunting         0\n",
       "dtype: int64"
      ]
     },
     "execution_count": 4,
     "metadata": {},
     "output_type": "execute_result"
    }
   ],
   "source": [
    "# cek kolom data bernilai kosong\n",
    "kaggle1.isna().sum()"
   ]
  },
  {
   "cell_type": "code",
   "execution_count": 5,
   "id": "475236e0-91d6-460b-85af-3989db22d252",
   "metadata": {},
   "outputs": [
    {
     "data": {
      "text/plain": [
       "Gender            object\n",
       "Age                int64\n",
       "Birth Weight     float64\n",
       "Birth Length       int64\n",
       "Body Weight      float64\n",
       "Body Length      float64\n",
       "Breastfeeding     object\n",
       "Stunting          object\n",
       "dtype: object"
      ]
     },
     "execution_count": 5,
     "metadata": {},
     "output_type": "execute_result"
    }
   ],
   "source": [
    "# cek tipe data\n",
    "kaggle1.dtypes"
   ]
  },
  {
   "cell_type": "code",
   "execution_count": 6,
   "id": "9d39ee94-560d-4a62-97b8-1f8d0e81dda4",
   "metadata": {},
   "outputs": [
    {
     "data": {
      "text/plain": [
       "Gender           Male\n",
       "Age                48\n",
       "Birth Weight      3.1\n",
       "Birth Length       50\n",
       "Body Weight      10.5\n",
       "Body Length      92.7\n",
       "Breastfeeding      No\n",
       "Stunting          Yes\n",
       "dtype: object"
      ]
     },
     "execution_count": 6,
     "metadata": {},
     "output_type": "execute_result"
    }
   ],
   "source": [
    "# cek max values\n",
    "kaggle1.max()"
   ]
  },
  {
   "cell_type": "code",
   "execution_count": 7,
   "id": "bb503f6a-60c5-4012-972c-6ca3a390ead8",
   "metadata": {},
   "outputs": [
    {
     "data": {
      "text/plain": [
       "Gender           Female\n",
       "Age                   6\n",
       "Birth Weight        2.0\n",
       "Birth Length         48\n",
       "Body Weight         2.9\n",
       "Body Length        49.0\n",
       "Breastfeeding        No\n",
       "Stunting             No\n",
       "dtype: object"
      ]
     },
     "execution_count": 7,
     "metadata": {},
     "output_type": "execute_result"
    }
   ],
   "source": [
    "# cek min values\n",
    "kaggle1.min()"
   ]
  },
  {
   "cell_type": "code",
   "execution_count": 8,
   "id": "f093b7e2-c271-4c2b-9aae-a83d6cc5a826",
   "metadata": {},
   "outputs": [
    {
     "name": "stdout",
     "output_type": "stream",
     "text": [
      "Gender: ['Male' 'Female']\n",
      "Age: [17 11 16 31 15 35 10 13 44 18  7  8  9 14 47 12 21 41 42  6 32 40 48 19\n",
      " 37 20 30 33 28 27 29 36 34 39 25 45 38 43 26 46 23 22 24]\n",
      "Body Weight: [10.   2.9  8.5  6.4 10.5  8.   8.4  7.1  7.2  7.7  7.   9.   6.2]\n",
      "Body Length: [72.2 65.  63.  49.  73.5 68.3 69.  92.7 80.  76.  71. ]\n"
     ]
    }
   ],
   "source": [
    "# cek unique values pada setiap kolom\n",
    "print(f'Gender: {kaggle1.Gender.unique()}')\n",
    "print(f'Age: {kaggle1.Age.unique()}')\n",
    "print(f'Body Weight: {kaggle1['Body Weight'].unique()}')\n",
    "print(f'Body Length: {kaggle1['Body Length'].unique()}')"
   ]
  },
  {
   "cell_type": "code",
   "execution_count": 9,
   "id": "370c95a8-6719-4745-9eb9-157dc3fcea2f",
   "metadata": {},
   "outputs": [],
   "source": [
    "# menghapus data Age yang tidak sesuai batas wajar\n",
    "# batas wajar usia 0 - 60\n",
    "# batas wajar berat 1.9 - 31.2\n",
    "# batas wajar tinggi 43.6 - 123.9\n",
    "noise_age = kaggle1.loc[(kaggle1.Age < 0) | (kaggle1.Age > 60)]\n",
    "kaggle1.drop(index = noise_age.index, inplace=True)\n",
    "noise_berat = kaggle1.loc[(kaggle1['Body Weight'] < 1.9) | (kaggle1['Body Weight'] > 31.2)]\n",
    "kaggle1.drop(index = noise_berat.index, inplace=True)\n",
    "noise_tinggi = kaggle1.loc[(kaggle1['Body Length'] < 43.6) | (kaggle1['Body Length'] > 123.9)]\n",
    "kaggle1.drop(index = noise_tinggi.index, inplace=True)"
   ]
  },
  {
   "cell_type": "code",
   "execution_count": 10,
   "id": "9d96e435-15c5-4f4b-9e55-9010cddeb131",
   "metadata": {},
   "outputs": [],
   "source": [
    "# cari outlier Age dataset Kaggle-1\n",
    "# mencari nilai Q1 dan Q3\n",
    "Q1_age = kaggle1.Age.quantile(0.25)\n",
    "Q3_age = kaggle1.Age.quantile(0.75)\n",
    "# mencari IQR, batas bawah, dan batas atas\n",
    "IQR_age = Q3_age - Q1_age\n",
    "age_bawah = Q1_age - 1.5 * IQR_age\n",
    "age_atas = Q3_age + 1.5 * IQR_age\n",
    "# mencari outlier data\n",
    "outlier_age = kaggle1.loc[(kaggle1.Age < age_bawah) | (kaggle1.Age > age_atas)]"
   ]
  },
  {
   "cell_type": "code",
   "execution_count": 11,
   "id": "2cd3eff7-2165-40de-b4f1-f71bfffe1443",
   "metadata": {},
   "outputs": [
    {
     "data": {
      "image/png": "[encoded data removed]",
      "text/plain": [
       "<Figure size 640x480 with 1 Axes>"
      ]
     },
     "metadata": {},
     "output_type": "display_data"
    }
   ],
   "source": [
    "# visualisasi outlier age\n",
    "plt.boxplot(kaggle1.Age, tick_labels=[' '], sym='x')\n",
    "plt.ylabel('Umur (Bulan)')\n",
    "plt.title('Dataset Kaggle1 - Age', loc='right')\n",
    "plt.show()"
   ]
  },
  {
   "cell_type": "code",
   "execution_count": 12,
   "id": "3ad6688f-af69-4298-9a75-eb7fad6a4dfa",
   "metadata": {},
   "outputs": [],
   "source": [
    "# cari outlier Body Weight dataset Kaggle-1\n",
    "# mencari nilai Q1 dan Q3\n",
    "Q1_weight = kaggle1['Body Weight'].quantile(0.25)\n",
    "Q3_weight = kaggle1['Body Weight'].quantile(0.75)\n",
    "# mencari IQR, batas bawah, dan batas atas\n",
    "IQR_weight = Q3_weight - Q1_weight\n",
    "weight_bawah = Q1_weight - 1.5 * IQR_weight\n",
    "weight_atas = Q3_weight + 1.5 * IQR_weight\n",
    "# mencari outlier data\n",
    "outlier_weight = kaggle1.loc[(kaggle1['Body Weight'] < weight_bawah) | (kaggle1['Body Weight'] > weight_atas)]"
   ]
  },
  {
   "cell_type": "code",
   "execution_count": 13,
   "id": "b4228144-4695-48fa-bbf8-effde6359e8d",
   "metadata": {},
   "outputs": [
    {
     "data": {
      "image/png": "[encoded data removed]",
      "text/plain": [
       "<Figure size 640x480 with 1 Axes>"
      ]
     },
     "metadata": {},
     "output_type": "display_data"
    }
   ],
   "source": [
    "# visualisasi outlier body weight\n",
    "plt.boxplot(kaggle1['Body Weight'], tick_labels=[' '], sym='x')\n",
    "plt.ylabel('Berat (Kg)')\n",
    "plt.title('Dataset Kaggle1 - Body Weight', loc='right')\n",
    "plt.show()"
   ]
  },
  {
   "cell_type": "code",
   "execution_count": 14,
   "id": "045c3ea2-cf5d-4212-9d11-d05fe1a4583e",
   "metadata": {},
   "outputs": [],
   "source": [
    "# cari outlier Body Length dataset Kaggle-1\n",
    "# mencari nilai Q1 dan Q3\n",
    "Q1_length = kaggle1['Body Length'].quantile(0.25)\n",
    "Q3_length = kaggle1['Body Length'].quantile(0.75)\n",
    "# mencari IQR, batas bawah, dan batas atas\n",
    "IQR_length = Q3_length - Q1_length\n",
    "length_bawah = Q1_length - 1.5 * IQR_length\n",
    "length_atas = Q3_length + 1.5 * IQR_length\n",
    "# mencari outlier data\n",
    "outlier_length = kaggle1.loc[(kaggle1['Body Length'] < length_bawah) | (kaggle1['Body Length'] > length_atas)]"
   ]
  },
  {
   "cell_type": "code",
   "execution_count": 15,
   "id": "64af1ca2-022e-4b25-9d2c-af0602dff3a6",
   "metadata": {},
   "outputs": [
    {
     "data": {
      "image/png": "[encoded data removed]",
      "text/plain": [
       "<Figure size 640x480 with 1 Axes>"
      ]
     },
     "metadata": {},
     "output_type": "display_data"
    }
   ],
   "source": [
    "# visualisasi outlier body length\n",
    "plt.boxplot(kaggle1['Body Length'], tick_labels=[' '], sym='x')\n",
    "plt.ylabel('Tinggi (Cm)')\n",
    "plt.title('Dataset Kaggle1 - Body Length', loc='right')\n",
    "plt.show()"
   ]
  },
  {
   "cell_type": "code",
   "execution_count": 16,
   "id": "f35884d8-2555-4f9f-8876-0d3f402ad256",
   "metadata": {},
   "outputs": [],
   "source": [
    "# ubah nama fitur\n",
    "kaggle1.rename(columns={\"Gender\":\"jenisKelamin\", \"Age\":\"umur\", \"Body Weight\":\"beratBadan\", \"Body Length\":\"tinggiBadan\"}, inplace=True)"
   ]
  },
  {
   "cell_type": "code",
   "execution_count": 17,
   "id": "49fdbb07-bc9b-49e1-8e49-60b4b35c6cc7",
   "metadata": {},
   "outputs": [],
   "source": [
    "# hapus data duplikat\n",
    "kaggle1.drop_duplicates(inplace=True)"
   ]
  },
  {
   "cell_type": "code",
   "execution_count": 18,
   "id": "7c1d2e69-6f11-4b22-8f4e-c913b75c21b3",
   "metadata": {},
   "outputs": [],
   "source": [
    "# acak susunan dataset\n",
    "kaggle1 = kaggle1.sample(frac=1, ignore_index=True, random_state=18062025)"
   ]
  },
  {
   "cell_type": "code",
   "execution_count": 19,
   "id": "7112553c-307a-4d5e-a07a-6f7632a20607",
   "metadata": {},
   "outputs": [],
   "source": [
    "# ekspor dataset\n",
    "kaggle1.to_csv('kaggle1-clean.csv', index=False)"
   ]
  }
 ],
 "metadata": {
  "kernelspec": {
   "display_name": "Python 3 (ipykernel)",
   "language": "python",
   "name": "python3"
  },
  "language_info": {
   "codemirror_mode": {
    "name": "ipython",
    "version": 3
   },
   "file_extension": ".py",
   "mimetype": "text/x-python",
   "name": "python",
   "nbconvert_exporter": "python",
   "pygments_lexer": "ipython3",
   "version": "3.13.5"
  }
 },
 "nbformat": 4,
 "nbformat_minor": 5
}
