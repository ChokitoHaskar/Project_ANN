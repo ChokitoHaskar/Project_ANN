{
 "cells": [
  {
   "cell_type": "code",
   "execution_count": null,
   "id": "ea5475f9-6fbd-40da-9fe0-3a4dcaf7c554",
   "metadata": {},
   "outputs": [],
   "source": [
    "# impor library\n",
    "from matplotlib import pyplot as plt\n",
    "import pandas as pd"
   ]
  },
  {
   "cell_type": "code",
   "execution_count": null,
   "id": "2a3bc6e0-01b4-4717-88b9-27a68499b888",
   "metadata": {},
   "outputs": [],
   "source": [
    "# impor dataset\n",
    "dataset = pd.read_csv('../integration-data/big-data.csv')"
   ]
  },
  {
   "cell_type": "code",
   "execution_count": null,
   "id": "e5933a68-c794-4858-aff1-2a5d73aa7dce",
   "metadata": {},
   "outputs": [],
   "source": [
    "# cek dataset\n",
    "dataset.head(10)"
   ]
  },
  {
   "cell_type": "code",
   "execution_count": null,
   "id": "20817297-8239-432c-a9f6-c85d36d58d4f",
   "metadata": {},
   "outputs": [],
   "source": [
    "dataset.max()"
   ]
  },
  {
   "cell_type": "code",
   "execution_count": null,
   "id": "bc5dcd77-a7f6-41fc-87e2-98e6f807f628",
   "metadata": {},
   "outputs": [],
   "source": [
    "# ubah nilai jenisKelamin\n",
    "dataset.jenisKelamin = dataset.jenisKelamin.replace(['Male', 'L'], '0')\n",
    "dataset.jenisKelamin = dataset.jenisKelamin.replace(['Female', 'P'], '1')\n",
    "dataset.jenisKelamin = dataset.jenisKelamin.astype('int64')"
   ]
  },
  {
   "cell_type": "code",
   "execution_count": null,
   "id": "9fb8a614-b437-487e-a03c-15ce0cff4c6e",
   "metadata": {},
   "outputs": [],
   "source": [
    "# impor dataset who\n",
    "who_haz = pd.read_csv('../raw-datasets/dataset-who-stunting.csv', delimiter=';', decimal=',')\n",
    "who_whz = pd.read_csv('../raw-datasets/dataset-who-wasting.csv', delimiter=';', decimal=',')"
   ]
  },
  {
   "cell_type": "code",
   "execution_count": null,
   "id": "bfa7c21c-af45-403f-86eb-bf820b9343e0",
   "metadata": {},
   "outputs": [],
   "source": [
    "# membuat kolom baru yaitu stunting dan wasting\n",
    "dataset['z_stunting'] = 0.0\n",
    "dataset['z_wasting'] = 0.0"
   ]
  },
  {
   "cell_type": "code",
   "execution_count": null,
   "id": "bba40d8f-688a-4d12-a090-85aae5b1fd34",
   "metadata": {},
   "outputs": [],
   "source": [
    "# ubah gender pada tabel who untuk sama dengan di dataset\n",
    "# who haz => height-for-age z-scores\n",
    "who_haz.Gender = who_haz.Gender.replace('Male', '0')\n",
    "who_haz.Gender = who_haz.Gender.replace('Female', '1')\n",
    "# who wfh => weight-for-height z-scores\n",
    "who_whz.Gender = who_whz.Gender.replace('Male', '0')\n",
    "who_whz.Gender = who_whz.Gender.replace('Female', '1')\n",
    "# ubah format gender menjadi nominal\n",
    "who_haz.Gender = who_haz.Gender.astype('float64')\n",
    "who_whz.Gender = who_whz.Gender.astype('float64')"
   ]
  },
  {
   "cell_type": "code",
   "execution_count": null,
   "id": "e38743ce-1cf3-4d2c-a91d-6e83fcc2f018",
   "metadata": {},
   "outputs": [],
   "source": [
    "# cari nilai unik yang tidak terdapat pada tabel whz\n",
    "# nilai unik berupa nilai yang tidak bernilai multiplikasi 0.5\n",
    "unique_height = dataset.loc[dataset.tinggiBadan % 0.5 != 0, ['jenisKelamin', 'tinggiBadan']]\n",
    "unique_height = unique_height.rename(columns={'jenisKelamin':'Gender', 'tinggiBadan':'Length'})\n",
    "unique_height = unique_height.drop_duplicates()\n",
    "# gabung data unik kedalam data whz\n",
    "who_whz = pd.concat([who_whz, unique_height])\n",
    "# sortir data whz dari gender lalu tinggi\n",
    "who_whz = who_whz.sort_values(['Gender', 'Length'], ignore_index=True)"
   ]
  },
  {
   "cell_type": "code",
   "execution_count": null,
   "id": "3cb5214b-a692-44f8-950b-3b96ada1d7dc",
   "metadata": {},
   "outputs": [],
   "source": [
    "# interpolasi nilai unik berdasar data whz\n",
    "# proses interpolasi dibedakan gender\n",
    "whz_0 = who_whz.loc[who_whz.Gender == 0].interpolate(method='linear', limit_area='inside')\n",
    "whz_1 = who_whz.loc[who_whz.Gender == 1].interpolate(method='linear', limit_area='inside')\n",
    "# gabung hasil interpolasi menjadi tabel whz baru\n",
    "who_whz = pd.concat([whz_0, whz_1])\n",
    "# sortir data whz menurut tinggi\n",
    "who_whz = who_whz.sort_values(['Length', 'Gender'], ignore_index=True)"
   ]
  },
  {
   "cell_type": "code",
   "execution_count": null,
   "id": "46787724-96d9-49b8-9432-9cc6276d8235",
   "metadata": {},
   "outputs": [],
   "source": [
    "# cari nilai z-score stunting\n",
    "# loop seluruh dataset\n",
    "for stunting_cursor in dataset.itertuples():\n",
    "    # loop untuk mencari data yang tepat di tabel haz\n",
    "    for who_cursor in  who_haz.itertuples():\n",
    "        # cek persamaan jenisKelamin\n",
    "        if who_cursor.Gender == stunting_cursor.jenisKelamin:\n",
    "            # cek persamaan umur\n",
    "            if who_cursor.Month == stunting_cursor.umur:\n",
    "                l_score = who_cursor.L\n",
    "                m_score = who_cursor.M\n",
    "                s_score = who_cursor.S\n",
    "                # hitung nilai z-score\n",
    "                z_score = (((stunting_cursor.tinggiBadan / m_score)**l_score) - 1) / (l_score * s_score)\n",
    "                # masukkan nilai dalam kolom z_stunting\n",
    "                dataset.loc[dataset.index == stunting_cursor.Index, 'z_stunting'] = round(z_score, 3)\n",
    "                continue"
   ]
  },
  {
   "cell_type": "code",
   "execution_count": null,
   "id": "e4c06d69-cce2-4dc7-8a87-e736db095694",
   "metadata": {},
   "outputs": [],
   "source": [
    "# cari nilai z-score wasting\n",
    "# loop seluruh dataset\n",
    "for wasting_cursor in dataset.itertuples():\n",
    "    # loop untuk mencari data yang tepat di tabel haz\n",
    "    for who_cursor in  who_whz.itertuples():\n",
    "        # cek persamaan jenisKelamin\n",
    "        if who_cursor.Gender == wasting_cursor.jenisKelamin:\n",
    "            # cek persamaan tinggi\n",
    "            if who_cursor.Length == wasting_cursor.tinggiBadan:\n",
    "                l_score = who_cursor.L\n",
    "                m_score = who_cursor.M\n",
    "                s_score = who_cursor.S\n",
    "                # hitung nilai z-score\n",
    "                z_score = (((wasting_cursor.beratBadan / m_score)**l_score) - 1) / (l_score * s_score)\n",
    "                # masukkan nilai dalam kolom z_stunting\n",
    "                dataset.loc[dataset.index == wasting_cursor.Index, 'z_wasting'] = round(z_score, 3)\n",
    "                continue"
   ]
  },
  {
   "cell_type": "code",
   "execution_count": null,
   "id": "dfb878ea-beeb-4cab-8f6c-047528ba9cbf",
   "metadata": {},
   "outputs": [],
   "source": [
    "# membuat kolom baru label yang mengindikasi status data\n",
    "dataset['label'] = 0\n",
    "# tentukan nilai label\n",
    "# 0:sehat, 1:stunting, 2:wasting, 3:stunting&wasting\n",
    "for status in dataset.itertuples():\n",
    "    # cek sehat\n",
    "    if status.z_stunting > -2.0 and status.z_wasting > -2.0:\n",
    "        dataset.loc[dataset.index == status.Index, 'label'] = 0\n",
    "    # cek stunting\n",
    "    elif status.z_stunting <= -2.0:\n",
    "        # cek stunting & wasting\n",
    "        if status.z_wasting <= -2.0:\n",
    "            dataset.loc[dataset.index == status.Index, 'label'] = 3\n",
    "        # jika wasting gagal, otomatis stunting\n",
    "        else:\n",
    "            dataset.loc[dataset.index == status.Index, 'label'] = 1\n",
    "    # jika stunting gagal dan sehat gagal, otomatis wasting\n",
    "    else:\n",
    "        dataset.loc[dataset.index == status.Index, 'label'] = 2"
   ]
  },
  {
   "cell_type": "code",
   "execution_count": null,
   "id": "dd20e290-1ac3-4160-b085-5771a7cf8f84",
   "metadata": {},
   "outputs": [],
   "source": [
    "# hitung total persebaran\n",
    "totalSehat = dataset.loc[dataset.label == 0, 'label'].count()\n",
    "totalStunting = dataset.loc[dataset.label == 1, 'label'].count()\n",
    "totalWasting = dataset.loc[dataset.label == 2, 'label'].count()\n",
    "totalKeduanya = dataset.loc[dataset.label == 3, 'label'].count()\n",
    "\n",
    "# beri label tiap data\n",
    "labels = ['sehat', 'stunting', 'wasting', 'stunting & wasting']\n",
    "# beri spasi antar data\n",
    "explode = [0.05, 0.05, 0.05, 0.05]\n",
    "# beri warna setiap data\n",
    "colors = ['lightgray', 'lightgray', 'lightgray', 'lightgray']\n",
    "\n",
    "# visualisasikan ke matplot piechart\n",
    "fig, ax = plt.subplots()\n",
    "ax = plt.pie([totalSehat, totalStunting, totalWasting, totalKeduanya], explode=explode, labels=labels, colors=colors, autopct='%.2f%%')\n",
    "plt.show()"
   ]
  },
  {
   "cell_type": "code",
   "execution_count": null,
   "id": "de292a87-ab37-4948-b79c-a24d159e9793",
   "metadata": {},
   "outputs": [],
   "source": [
    "# impor library\n",
    "from sklearn.model_selection import train_test_split as sk_split\n",
    "# tetapkan fitur dan label\n",
    "fitur = dataset.loc[:, ['jenisKelamin', 'umur', 'beratBadan', 'tinggiBadan']]\n",
    "label = dataset.loc[:, ['label']]\n",
    "# bagi dataset menjadi 2 data, latih dan uji\n",
    "latih_fitur, uji_fitur, latih_target, uji_target = sk_split(fitur, label, test_size=0.20)"
   ]
  },
  {
   "cell_type": "code",
   "execution_count": null,
   "id": "373e993e-6094-487a-8e04-1ceb802cae53",
   "metadata": {},
   "outputs": [],
   "source": [
    "# hitung total persebaran\n",
    "totalSehat = latih_target.loc[latih_target.label == 0, 'label'].count()\n",
    "totalStunting = latih_target.loc[latih_target.label == 1, 'label'].count()\n",
    "totalWasting = latih_target.loc[latih_target.label == 2, 'label'].count()\n",
    "totalKeduanya = latih_target.loc[latih_target.label == 3, 'label'].count()\n",
    "\n",
    "# beri label tiap data\n",
    "labels = ['sehat', 'stunting', 'wasting', 'stunting & wasting']\n",
    "# beri spasi antar data\n",
    "explode = [0.05, 0.05, 0.05, 0.05]\n",
    "# beri warna setiap data\n",
    "colors = ['lightgray', 'lightgray', 'lightgray', 'lightgray']\n",
    "\n",
    "# visualisasikan ke matplot piechart\n",
    "fig, ax = plt.subplots()\n",
    "ax = plt.pie([totalSehat, totalStunting, totalWasting, totalKeduanya], explode=explode, labels=labels, colors=colors, autopct='%.2f%%')\n",
    "plt.show()"
   ]
  },
  {
   "cell_type": "code",
   "execution_count": null,
   "id": "b368d31c-6165-4e53-92c1-5360646c394a",
   "metadata": {},
   "outputs": [],
   "source": [
    "# menerapkan oversampling dengan SMOTE\n",
    "from imblearn.over_sampling import SMOTE\n",
    "sm = SMOTE(random_state=18062025)\n",
    "latih_fitur_resample, latih_target_resample = sm.fit_resample(latih_fitur, latih_target)"
   ]
  },
  {
   "cell_type": "code",
   "execution_count": null,
   "id": "cf657a34-c9d7-4e18-9b4d-8b9f6ab27064",
   "metadata": {},
   "outputs": [],
   "source": [
    "# hitung total persebaran\n",
    "totalSehat = latih_target_resample.loc[latih_target_resample.label == 0, 'label'].count()\n",
    "totalStunting = latih_target_resample.loc[latih_target_resample.label == 1, 'label'].count()\n",
    "totalWasting = latih_target_resample.loc[latih_target_resample.label == 2, 'label'].count()\n",
    "totalKeduanya = latih_target_resample.loc[latih_target_resample.label == 3, 'label'].count()\n",
    "\n",
    "# beri label tiap data\n",
    "labels = ['sehat', 'stunting', 'wasting', 'stunting & wasting']\n",
    "# beri spasi antar data\n",
    "explode = [0.05, 0.05, 0.05, 0.05]\n",
    "# beri warna setiap data\n",
    "colors = ['lightgray', 'lightgray', 'lightgray', 'lightgray']\n",
    "\n",
    "# visualisasikan ke matplot piechart\n",
    "fig, ax = plt.subplots()\n",
    "ax = plt.pie([totalSehat, totalStunting, totalWasting, totalKeduanya], explode=explode, labels=labels, colors=colors, autopct='%.2f%%')\n",
    "plt.show()"
   ]
  },
  {
   "cell_type": "code",
   "execution_count": null,
   "id": "04fd356e-d9e1-4e50-943c-988c584337fe",
   "metadata": {},
   "outputs": [],
   "source": [
    "# gabung data fitur dan label pada kedua dataset\n",
    "dataset_latih = pd.concat([latih_fitur_resample, latih_target_resample], axis=1)\n",
    "dataset_uji = pd.concat([uji_fitur, uji_target], axis=1)"
   ]
  },
  {
   "cell_type": "code",
   "execution_count": null,
   "id": "8ed082e2-e8d8-4a7c-9c8f-eedc483cd367",
   "metadata": {},
   "outputs": [],
   "source": [
    "# ganti format umur menjadi float\n",
    "dataset_latih.umur = dataset_latih.umur.astype('float64')\n",
    "dataset_uji.umur = dataset_uji.umur.astype('float64')"
   ]
  },
  {
   "cell_type": "code",
   "execution_count": null,
   "id": "fdc42b94-6c55-4569-a07e-f6eacb3e2fc6",
   "metadata": {},
   "outputs": [],
   "source": [
    "# normalisasi dataset latih\n",
    "umur_min = dataset_latih.umur.min()\n",
    "umur_max = dataset_latih.umur.max()\n",
    "tinggi_min = dataset_latih.tinggiBadan.min()\n",
    "tinggi_max = dataset_latih.tinggiBadan.max()\n",
    "berat_min = dataset_latih.beratBadan.min()\n",
    "berat_max = dataset_latih.beratBadan.max()\n",
    "for cursor_data in dataset_latih.itertuples():\n",
    "    current_umur = dataset_latih.loc[dataset_latih.index == cursor_data.Index, 'umur']\n",
    "    dataset_latih.loc[dataset_latih.index == cursor_data.Index, 'umur'] = (current_umur - umur_min) / (umur_max - umur_min)\n",
    "    current_tinggi = dataset_latih.loc[dataset_latih.index == cursor_data.Index, 'tinggiBadan']\n",
    "    dataset_latih.loc[dataset_latih.index == cursor_data.Index, 'tinggiBadan'] = (current_tinggi - tinggi_min) / (tinggi_max - tinggi_min)\n",
    "    current_berat = dataset_latih.loc[dataset_latih.index == cursor_data.Index, 'beratBadan']\n",
    "    dataset_latih.loc[dataset_latih.index == cursor_data.Index, 'beratBadan'] = (current_berat - berat_min) / (berat_max - berat_min)"
   ]
  },
  {
   "cell_type": "code",
   "execution_count": null,
   "id": "baa6b97c-cd32-4443-8a65-bf4a83a3a6b0",
   "metadata": {},
   "outputs": [],
   "source": [
    "# normalisasi dataset uji\n",
    "umur_min = dataset_uji.umur.min()\n",
    "umur_max = dataset_uji.umur.max()\n",
    "tinggi_min = dataset_uji.tinggiBadan.min()\n",
    "tinggi_max = dataset_uji.tinggiBadan.max()\n",
    "berat_min = dataset_uji.beratBadan.min()\n",
    "berat_max = dataset_uji.beratBadan.max()\n",
    "for cursor_data in dataset_uji.itertuples():\n",
    "    current_umur = dataset_uji.loc[dataset_uji.index == cursor_data.Index, 'umur']\n",
    "    dataset_uji.loc[dataset_uji.index == cursor_data.Index, 'umur'] = (current_umur - umur_min) / (umur_max - umur_min)\n",
    "    current_tinggi = dataset_uji.loc[dataset_uji.index == cursor_data.Index, 'tinggiBadan']\n",
    "    dataset_uji.loc[dataset_uji.index == cursor_data.Index, 'tinggiBadan'] = (current_tinggi - tinggi_min) / (tinggi_max - tinggi_min)\n",
    "    current_berat = dataset_uji.loc[dataset_uji.index == cursor_data.Index, 'beratBadan']\n",
    "    dataset_uji.loc[dataset_uji.index == cursor_data.Index, 'beratBadan'] = (current_berat - berat_min) / (berat_max - berat_min)"
   ]
  },
  {
   "cell_type": "code",
   "execution_count": null,
   "id": "bf7af487-af4a-4545-99aa-3819c15eb942",
   "metadata": {},
   "outputs": [],
   "source": [
    "# acak urutan dataset\n",
    "dataset_latih = dataset_latih.sample(frac=1, random_state=18062025, ignore_index=True)\n",
    "dataset_uji = dataset_uji.sample(frac=1, random_state=18062025, ignore_index=True)"
   ]
  },
  {
   "cell_type": "code",
   "execution_count": null,
   "id": "9293e167-92ba-4939-b81c-326d3ce88f05",
   "metadata": {},
   "outputs": [],
   "source": [
    "# ekspor dataset\n",
    "dataset_latih.to_csv('data_latih.csv', index=False)\n",
    "dataset_uji.to_csv('data_uji.csv', index=False)"
   ]
  }
 ],
 "metadata": {
  "kernelspec": {
   "display_name": "Python 3 (ipykernel)",
   "language": "python",
   "name": "python3"
  },
  "language_info": {
   "codemirror_mode": {
    "name": "ipython",
    "version": 3
   },
   "file_extension": ".py",
   "mimetype": "text/x-python",
   "name": "python",
   "nbconvert_exporter": "python",
   "pygments_lexer": "ipython3",
   "version": "3.13.5"
  }
 },
 "nbformat": 4,
 "nbformat_minor": 5
}
