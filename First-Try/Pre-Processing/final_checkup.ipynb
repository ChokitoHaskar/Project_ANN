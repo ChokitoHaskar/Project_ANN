{
 "cells": [
  {
   "cell_type": "code",
   "execution_count": 5,
   "id": "7b3ec5c2-0ce5-4df8-a945-06fbc3a03c6a",
   "metadata": {},
   "outputs": [],
   "source": [
    "# Impor library\n",
    "from matplotlib import pyplot as plt\n",
    "import pandas as pd"
   ]
  },
  {
   "cell_type": "code",
   "execution_count": 2,
   "id": "580a4f23-04f2-4780-a167-33bdcf4ab812",
   "metadata": {},
   "outputs": [],
   "source": [
    "# Impor seluruh dataset\n",
    "dataset_latih = pd.read_csv('./dataset_latih_final.csv')\n",
    "dataset_uji = pd.read_csv('./dataset_uji_final.csv')"
   ]
  },
  {
   "cell_type": "code",
   "execution_count": 6,
   "id": "5af2cf4a-9bca-46e2-928c-1aa04ee0724f",
   "metadata": {},
   "outputs": [
    {
     "data": {
      "text/html": [
       "<div>\n",
       "<style scoped>\n",
       "    .dataframe tbody tr th:only-of-type {\n",
       "        vertical-align: middle;\n",
       "    }\n",
       "\n",
       "    .dataframe tbody tr th {\n",
       "        vertical-align: top;\n",
       "    }\n",
       "\n",
       "    .dataframe thead th {\n",
       "        text-align: right;\n",
       "    }\n",
       "</style>\n",
       "<table border=\"1\" class=\"dataframe\">\n",
       "  <thead>\n",
       "    <tr style=\"text-align: right;\">\n",
       "      <th></th>\n",
       "      <th>jenisKelamin</th>\n",
       "      <th>umur</th>\n",
       "      <th>beratBadan</th>\n",
       "      <th>tinggiBadan</th>\n",
       "      <th>label</th>\n",
       "    </tr>\n",
       "  </thead>\n",
       "  <tbody>\n",
       "    <tr>\n",
       "      <th>0</th>\n",
       "      <td>0</td>\n",
       "      <td>0.261905</td>\n",
       "      <td>0.934211</td>\n",
       "      <td>0.530892</td>\n",
       "      <td>1</td>\n",
       "    </tr>\n",
       "    <tr>\n",
       "      <th>1</th>\n",
       "      <td>1</td>\n",
       "      <td>0.119048</td>\n",
       "      <td>0.000000</td>\n",
       "      <td>0.366133</td>\n",
       "      <td>3</td>\n",
       "    </tr>\n",
       "    <tr>\n",
       "      <th>2</th>\n",
       "      <td>0</td>\n",
       "      <td>0.238095</td>\n",
       "      <td>0.736842</td>\n",
       "      <td>0.530892</td>\n",
       "      <td>1</td>\n",
       "    </tr>\n",
       "    <tr>\n",
       "      <th>3</th>\n",
       "      <td>0</td>\n",
       "      <td>0.595238</td>\n",
       "      <td>0.460526</td>\n",
       "      <td>0.320366</td>\n",
       "      <td>1</td>\n",
       "    </tr>\n",
       "    <tr>\n",
       "      <th>4</th>\n",
       "      <td>0</td>\n",
       "      <td>0.214286</td>\n",
       "      <td>1.000000</td>\n",
       "      <td>0.000000</td>\n",
       "      <td>1</td>\n",
       "    </tr>\n",
       "  </tbody>\n",
       "</table>\n",
       "</div>"
      ],
      "text/plain": [
       "   jenisKelamin      umur  beratBadan  tinggiBadan  label\n",
       "0             0  0.261905    0.934211     0.530892      1\n",
       "1             1  0.119048    0.000000     0.366133      3\n",
       "2             0  0.238095    0.736842     0.530892      1\n",
       "3             0  0.595238    0.460526     0.320366      1\n",
       "4             0  0.214286    1.000000     0.000000      1"
      ]
     },
     "execution_count": 6,
     "metadata": {},
     "output_type": "execute_result"
    }
   ],
   "source": [
    "dataset_latih.head()"
   ]
  },
  {
   "cell_type": "code",
   "execution_count": 3,
   "id": "75c1832d-60c0-4c9f-9d0e-8bc0c635e85a",
   "metadata": {},
   "outputs": [
    {
     "name": "stdout",
     "output_type": "stream",
     "text": [
      "Dataset Latih memiliki total data : 3554 data\n",
      "Dataset Uji memiliki total data : 185 data\n"
     ]
    }
   ],
   "source": [
    "# cek total masing masing data\n",
    "print('Dataset Latih memiliki total data :', dataset_latih.jenisKelamin.count(), 'data')\n",
    "print('Dataset Uji memiliki total data :',dataset_uji.jenisKelamin.count(), 'data')"
   ]
  },
  {
   "cell_type": "code",
   "execution_count": 4,
   "id": "0989ef11-6ea5-4fe6-a4ff-271b6cf4ad78",
   "metadata": {},
   "outputs": [
    {
     "name": "stdout",
     "output_type": "stream",
     "text": [
      "jenisKelamin      int64\n",
      "umur            float64\n",
      "beratBadan      float64\n",
      "tinggiBadan     float64\n",
      "label             int64\n",
      "dtype: object\n",
      "jenisKelamin      int64\n",
      "umur            float64\n",
      "beratBadan      float64\n",
      "tinggiBadan     float64\n",
      "label             int64\n",
      "dtype: object\n"
     ]
    }
   ],
   "source": [
    "# cek format tipe data pada setiap kolum\n",
    "print(dataset_latih.dtypes)\n",
    "print(dataset_uji.dtypes)"
   ]
  },
  {
   "cell_type": "code",
   "execution_count": 18,
   "id": "7800dcb6-67ad-43bd-a2bc-354f37c69023",
   "metadata": {},
   "outputs": [],
   "source": [
    "total_sehat = dataset_latih.loc[dataset_latih.label == 0, 'label'].count()\n",
    "total_stunting = dataset_latih.loc[dataset_latih.label == 1, 'label'].count()\n",
    "total_wasting = dataset_latih.loc[dataset_latih.label == 2, 'label'].count()\n",
    "total_keduanya = dataset_latih.loc[dataset_latih.label == 3, 'label'].count()"
   ]
  },
  {
   "cell_type": "code",
   "execution_count": 20,
   "id": "4dda5b5b-e1d1-4415-a142-7fb9cdfc5edc",
   "metadata": {},
   "outputs": [
    {
     "name": "stdout",
     "output_type": "stream",
     "text": [
      "total stunting: 1684\n",
      "total wasting: 864\n",
      "total keduanya: 397\n",
      "total sehat: 609\n"
     ]
    }
   ],
   "source": [
    "print(f'total stunting: {total_stunting}')\n",
    "print(f'total wasting: {total_wasting}')\n",
    "print(f'total keduanya: {total_keduanya}')\n",
    "print(f'total sehat: {total_sehat}')"
   ]
  },
  {
   "cell_type": "code",
   "execution_count": 37,
   "id": "d4fc6fe0-562a-4142-9d71-7922f09b9f13",
   "metadata": {},
   "outputs": [
    {
     "data": {
      "image/png": "[encoded data removed]",
      "text/plain": [
       "<Figure size 640x480 with 1 Axes>"
      ]
     },
     "metadata": {},
     "output_type": "display_data"
    }
   ],
   "source": [
    "data = [total_sehat, total_stunting, total_wasting, total_keduanya]\n",
    "labels = ['Sehat', 'Hanya Stunting', 'Hanya Wasting', 'Keduanya']\n",
    "explode = [0.05, 0.0, 0.0, 0.05]\n",
    "\n",
    "fig, ax = plt.subplots()\n",
    "ax.pie(data, labels = labels, explode = explode, autopct = '%.1f%%')\n",
    "\n",
    "plt.show()"
   ]
  }
 ],
 "metadata": {
  "kernelspec": {
   "display_name": "Python 3 (ipykernel)",
   "language": "python",
   "name": "python3"
  },
  "language_info": {
   "codemirror_mode": {
    "name": "ipython",
    "version": 3
   },
   "file_extension": ".py",
   "mimetype": "text/x-python",
   "name": "python",
   "nbconvert_exporter": "python",
   "pygments_lexer": "ipython3",
   "version": "3.13.5"
  }
 },
 "nbformat": 4,
 "nbformat_minor": 5
}
