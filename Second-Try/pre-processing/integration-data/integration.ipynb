{
 "cells": [
  {
   "cell_type": "code",
   "execution_count": null,
   "id": "329d4628-dbc5-4556-abab-7cb098cf84f7",
   "metadata": {},
   "outputs": [],
   "source": [
    "# impor library yang dibutuhkan\n",
    "import pandas as pd"
   ]
  },
  {
   "cell_type": "code",
   "execution_count": null,
   "id": "b4d24758-e418-4d2d-8691-4cde6cc5bee0",
   "metadata": {},
   "outputs": [],
   "source": [
    "# impor dataset yang sudah digabung di ms excel\n",
    "dataset = pd.read_csv('../raw-datasets/Big-Data.csv', delimiter = ';')"
   ]
  },
  {
   "cell_type": "code",
   "execution_count": null,
   "id": "7ad8f17b-145f-4f3c-baa9-96720a9868e6",
   "metadata": {},
   "outputs": [],
   "source": [
    "# hitung total data\n",
    "dataset.count()"
   ]
  },
  {
   "cell_type": "code",
   "execution_count": null,
   "id": "80fa5377-2bc2-4a45-8065-59ca91b6a6af",
   "metadata": {},
   "outputs": [],
   "source": [
    "# periksa tipe data\n",
    "dataset.dtypes"
   ]
  },
  {
   "cell_type": "code",
   "execution_count": null,
   "id": "b3805c3e-475e-4ee7-8f1b-163c6e5d00bb",
   "metadata": {},
   "outputs": [],
   "source": [
    "# acak data\n",
    "dataset = dataset.sample(frac=1, ignore_index=True, random_state=18062025)"
   ]
  },
  {
   "cell_type": "code",
   "execution_count": null,
   "id": "8ee9c025-8aff-41e7-8ab7-a34b6e678c1e",
   "metadata": {},
   "outputs": [],
   "source": [
    "# ekspor dataset\n",
    "dataset.to_csv('big-data.csv', index=False)"
   ]
  }
 ],
 "metadata": {
  "kernelspec": {
   "display_name": "Python 3 (ipykernel)",
   "language": "python",
   "name": "python3"
  },
  "language_info": {
   "codemirror_mode": {
    "name": "ipython",
    "version": 3
   },
   "file_extension": ".py",
   "mimetype": "text/x-python",
   "name": "python",
   "nbconvert_exporter": "python",
   "pygments_lexer": "ipython3",
   "version": "3.13.5"
  }
 },
 "nbformat": 4,
 "nbformat_minor": 5
}
