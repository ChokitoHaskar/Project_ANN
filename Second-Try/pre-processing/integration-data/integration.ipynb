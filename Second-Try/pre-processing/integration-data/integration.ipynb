{
 "cells": [
  {
   "cell_type": "code",
   "execution_count": 2,
   "id": "329d4628-dbc5-4556-abab-7cb098cf84f7",
   "metadata": {},
   "outputs": [],
   "source": [
    "# impor library yang dibutuhkan\n",
    "import pandas as pd"
   ]
  },
  {
   "cell_type": "code",
   "execution_count": 6,
   "id": "b4d24758-e418-4d2d-8691-4cde6cc5bee0",
   "metadata": {},
   "outputs": [],
   "source": [
    "# impor dataset yang sudah digabung di ms excel\n",
    "dataset = pd.read_csv('../raw-datasets/Big-Data.csv', delimiter = ';')"
   ]
  },
  {
   "cell_type": "code",
   "execution_count": 29,
   "id": "7ad8f17b-145f-4f3c-baa9-96720a9868e6",
   "metadata": {},
   "outputs": [
    {
     "data": {
      "text/plain": [
       "jenisKelamin    8104\n",
       "umur            8104\n",
       "beratBadan      8104\n",
       "tinggiBadan     8104\n",
       "dtype: int64"
      ]
     },
     "execution_count": 29,
     "metadata": {},
     "output_type": "execute_result"
    }
   ],
   "source": [
    "# hitung total data\n",
    "dataset.count()"
   ]
  },
  {
   "cell_type": "code",
   "execution_count": 30,
   "id": "80fa5377-2bc2-4a45-8065-59ca91b6a6af",
   "metadata": {},
   "outputs": [
    {
     "data": {
      "text/plain": [
       "jenisKelamin     object\n",
       "umur              int64\n",
       "beratBadan      float64\n",
       "tinggiBadan     float64\n",
       "dtype: object"
      ]
     },
     "execution_count": 30,
     "metadata": {},
     "output_type": "execute_result"
    }
   ],
   "source": [
    "# periksa tipe data\n",
    "dataset.dtypes"
   ]
  },
  {
   "cell_type": "code",
   "execution_count": 36,
   "id": "b3805c3e-475e-4ee7-8f1b-163c6e5d00bb",
   "metadata": {},
   "outputs": [],
   "source": [
    "# acak data\n",
    "dataset = dataset.sample(frac=1, ignore_index=True, random_state=18062025)"
   ]
  },
  {
   "cell_type": "code",
   "execution_count": 37,
   "id": "8ee9c025-8aff-41e7-8ab7-a34b6e678c1e",
   "metadata": {},
   "outputs": [],
   "source": [
    "# ekspor dataset\n",
    "dataset.to_csv('big-data.csv', index=False)"
   ]
  }
 ],
 "metadata": {
  "kernelspec": {
   "display_name": "Python 3 (ipykernel)",
   "language": "python",
   "name": "python3"
  },
  "language_info": {
   "codemirror_mode": {
    "name": "ipython",
    "version": 3
   },
   "file_extension": ".py",
   "mimetype": "text/x-python",
   "name": "python",
   "nbconvert_exporter": "python",
   "pygments_lexer": "ipython3",
   "version": "3.13.5"
  }
 },
 "nbformat": 4,
 "nbformat_minor": 5
}
