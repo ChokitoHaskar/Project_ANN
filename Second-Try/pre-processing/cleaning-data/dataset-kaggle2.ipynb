{
 "cells": [
  {
   "cell_type": "code",
   "execution_count": null,
   "id": "dc82253d-2f5b-4f02-9350-1f6cc39ce53b",
   "metadata": {},
   "outputs": [],
   "source": [
    "# impor library yang diperlukan\n",
    "from matplotlib import pyplot as plt\n",
    "import pandas as pd"
   ]
  },
  {
   "cell_type": "code",
   "execution_count": null,
   "id": "007b565b-429b-43e2-92c4-df01fafb51b9",
   "metadata": {},
   "outputs": [],
   "source": [
    "# impor dataset Kaggle-2\n",
    "kaggle2 = pd.read_csv('../raw-datasets/Dataset-Kaggle2.csv', delimiter=';', decimal=',')"
   ]
  },
  {
   "cell_type": "code",
   "execution_count": null,
   "id": "38422193-2a58-40b4-b89e-dde7e77dac70",
   "metadata": {},
   "outputs": [],
   "source": [
    "# cek total data\n",
    "kaggle2.count()"
   ]
  },
  {
   "cell_type": "code",
   "execution_count": null,
   "id": "37876122-3d99-4881-aae1-a53cb1b02218",
   "metadata": {},
   "outputs": [],
   "source": [
    "# ubah nama fitur\n",
    "kaggle2.rename(columns={\"Jenis Kelamin\":\"jenisKelamin\", \"Umur (Bulan)\":\"umur\", \"Berat (KG)\":\"beratBadan\", \"Tinggi (CM)\":\"tinggiBadan\"}, inplace=True)"
   ]
  },
  {
   "cell_type": "code",
   "execution_count": null,
   "id": "5d8314a7-ddc9-4857-9a0a-1df648cf5bbd",
   "metadata": {},
   "outputs": [],
   "source": [
    "# cek kolom data bernilai kosong\n",
    "kaggle2.isna().sum()"
   ]
  },
  {
   "cell_type": "code",
   "execution_count": null,
   "id": "af28de9c-dd6a-45d3-b997-92bede45bf4d",
   "metadata": {},
   "outputs": [],
   "source": [
    "# cek tipe data\n",
    "kaggle2.dtypes"
   ]
  },
  {
   "cell_type": "code",
   "execution_count": null,
   "id": "ba0e44e1-aac6-4113-a1d7-7158c4ee5a00",
   "metadata": {},
   "outputs": [],
   "source": [
    "# convert tipe data\n",
    "kaggle2.beratBadan = kaggle2.beratBadan.astype('float64')\n",
    "kaggle2.tinggiBadan = kaggle2.tinggiBadan.astype('float64')\n",
    "kaggle2.dtypes"
   ]
  },
  {
   "cell_type": "code",
   "execution_count": null,
   "id": "279e6c41-9ed3-4455-a893-8b02e7b853c5",
   "metadata": {},
   "outputs": [],
   "source": [
    "# cek max values\n",
    "kaggle2.max()"
   ]
  },
  {
   "cell_type": "code",
   "execution_count": null,
   "id": "c6e3f6eb-e272-4b1f-a001-6fed6c1611e3",
   "metadata": {},
   "outputs": [],
   "source": [
    "# cek min values\n",
    "kaggle2.min()"
   ]
  },
  {
   "cell_type": "code",
   "execution_count": null,
   "id": "5b66107e-092b-4561-b2b2-d7582c92c3aa",
   "metadata": {},
   "outputs": [],
   "source": [
    "# cek unique values pada setiap kolom\n",
    "print(f'Jenis Kelamin: {kaggle2.jenisKelamin.unique()}')\n",
    "print(f'Umur: {kaggle2.umur.unique()}')\n",
    "print(f'Berat Badan: {kaggle2.beratBadan.unique()}')\n",
    "print(f'Tinggi Badan: {kaggle2.tinggiBadan.unique()}')"
   ]
  },
  {
   "cell_type": "code",
   "execution_count": null,
   "id": "901f1409-2b2e-4db4-bbfc-81a1dd34d95d",
   "metadata": {},
   "outputs": [],
   "source": [
    "# mengubah nilai jenis kelamin\n",
    "kaggle2.replace('p', 'P', inplace=True)"
   ]
  },
  {
   "cell_type": "code",
   "execution_count": null,
   "id": "e611e785-3d43-4914-9339-8f6fbe8a4f3e",
   "metadata": {},
   "outputs": [],
   "source": [
    "# menghapus noise pada setiap fitur\n",
    "noise_umur = kaggle2.loc[(kaggle2.umur < 0) | (kaggle2.umur > 60)]\n",
    "kaggle2.drop(index = noise_umur.index, inplace=True)\n",
    "noise_berat = kaggle2.loc[(kaggle2.beratBadan < 1.9) | (kaggle2.beratBadan > 31.2)]\n",
    "kaggle2.drop(index = noise_berat.index, inplace=True)\n",
    "noise_tinggi = kaggle2.loc[(kaggle2.tinggiBadan < 43.6 ) | (kaggle2.tinggiBadan > 123.9)]\n",
    "kaggle2.drop(index = noise_tinggi.index, inplace=True)"
   ]
  },
  {
   "cell_type": "code",
   "execution_count": null,
   "id": "fbae9854-8ed4-4d80-b6a5-fc39c0cab1f3",
   "metadata": {},
   "outputs": [],
   "source": [
    "# cari outlier umur dataset Kaggle-2\n",
    "# mencari nilai Q1 dan Q3\n",
    "Q1_umur = kaggle2.umur.quantile(0.25)\n",
    "Q3_umur = kaggle2.umur.quantile(0.75)\n",
    "# mencari IQR, batas bawah, dan batas atas\n",
    "IQR_umur = Q3_umur - Q1_umur\n",
    "umur_bawah = Q1_umur - 1.5 * IQR_umur\n",
    "umur_atas = Q3_umur + 1.5 * IQR_umur\n",
    "# mencari outlier data\n",
    "outlier_umur = kaggle2.loc[(kaggle2.umur < umur_bawah) | (kaggle2.umur > umur_atas)]"
   ]
  },
  {
   "cell_type": "code",
   "execution_count": null,
   "id": "0f8dde69-ad3f-4813-80cb-d9715b5eb6a0",
   "metadata": {},
   "outputs": [],
   "source": [
    "# visualisasi outlier age\n",
    "plt.boxplot(kaggle2.umur, tick_labels=[' '], sym='x')\n",
    "plt.ylabel('Umur (Bulan)')\n",
    "plt.title('Dataset Kaggle2 - Umur', loc='right')\n",
    "plt.show()"
   ]
  },
  {
   "cell_type": "code",
   "execution_count": null,
   "id": "96190051-c9aa-4482-a94a-9736a8990e06",
   "metadata": {},
   "outputs": [],
   "source": [
    "# cari outlier beratBadan dataset Kaggle-2\n",
    "# mencari nilai Q1 dan Q3\n",
    "Q1_berat = kaggle2.beratBadan.quantile(0.25)\n",
    "Q3_berat = kaggle2.beratBadan.quantile(0.75)\n",
    "# mencari IQR, batas bawah, dan batas atas\n",
    "IQR_berat = Q3_berat - Q1_berat\n",
    "berat_bawah = Q1_berat - 1.5 * IQR_berat\n",
    "berat_atas = Q3_berat + 1.5 * IQR_berat\n",
    "# mencari outlier data\n",
    "outlier_berat = kaggle2.loc[(kaggle2.beratBadan < berat_bawah) | (kaggle2.beratBadan > berat_atas)]"
   ]
  },
  {
   "cell_type": "code",
   "execution_count": null,
   "id": "44b2cf8a-0175-4bbe-b4e3-d5b6e77ef839",
   "metadata": {},
   "outputs": [],
   "source": [
    "# visualisasi outlier beratBadan\n",
    "plt.boxplot(kaggle2.beratBadan, tick_labels=[' '], sym='x')\n",
    "plt.ylabel('Berat Badan (Kg)')\n",
    "plt.title('Dataset Kaggle2 - Berat Badan', loc='right')\n",
    "plt.show()"
   ]
  },
  {
   "cell_type": "code",
   "execution_count": null,
   "id": "aaf50973-cc04-4873-a620-2e83efc6badd",
   "metadata": {},
   "outputs": [],
   "source": [
    "# cari outlier tinggiBadan dataset Kaggle-2\n",
    "# mencari nilai Q1 dan Q3\n",
    "Q1_tinggi = kaggle2.tinggiBadan.quantile(0.25)\n",
    "Q3_tinggi = kaggle2.tinggiBadan.quantile(0.75)\n",
    "# mencari IQR, batas bawah, dan batas atas\n",
    "IQR_tinggi = Q3_tinggi - Q1_tinggi\n",
    "tinggi_bawah = Q1_tinggi - 1.5 * IQR_tinggi\n",
    "tinggi_atas = Q3_tinggi + 1.5 * IQR_tinggi\n",
    "# mencari outlier data\n",
    "outlier_tinggi = kaggle2.loc[(kaggle2.tinggiBadan < tinggi_bawah) | (kaggle2.tinggiBadan > tinggi_atas)]"
   ]
  },
  {
   "cell_type": "code",
   "execution_count": null,
   "id": "316b0ada-7104-4765-b321-b78c37c704c8",
   "metadata": {},
   "outputs": [],
   "source": [
    "# visualisasi outlier beratBadan\n",
    "plt.boxplot(kaggle2.tinggiBadan, tick_labels=[' '], sym='x')\n",
    "plt.ylabel('Tinggi Badan (Cm)')\n",
    "plt.title('Dataset Kaggle2 - Tinggi Badan', loc='right')\n",
    "plt.show()"
   ]
  },
  {
   "cell_type": "code",
   "execution_count": null,
   "id": "dae2f84a-638e-49d3-bafd-6b2b9b17100d",
   "metadata": {},
   "outputs": [],
   "source": [
    "# hapus data duplikat\n",
    "kaggle2.drop_duplicates(inplace=True)"
   ]
  },
  {
   "cell_type": "code",
   "execution_count": null,
   "id": "683f6b40-ba56-4fcd-8588-daf9b89c956f",
   "metadata": {},
   "outputs": [],
   "source": [
    "# acak susunan dataset\n",
    "kaggle2 = kaggle2.sample(frac=1, ignore_index=True, random_state=18062025)"
   ]
  },
  {
   "cell_type": "code",
   "execution_count": null,
   "id": "9ed7504a-7910-4048-8d77-a1c97b122b9d",
   "metadata": {},
   "outputs": [],
   "source": [
    "# ekspor dataset\n",
    "kaggle2.to_csv('kaggle2-clean.csv', index=False)"
   ]
  }
 ],
 "metadata": {
  "kernelspec": {
   "display_name": "Python 3 (ipykernel)",
   "language": "python",
   "name": "python3"
  },
  "language_info": {
   "codemirror_mode": {
    "name": "ipython",
    "version": 3
   },
   "file_extension": ".py",
   "mimetype": "text/x-python",
   "name": "python",
   "nbconvert_exporter": "python",
   "pygments_lexer": "ipython3",
   "version": "3.13.5"
  }
 },
 "nbformat": 4,
 "nbformat_minor": 5
}
