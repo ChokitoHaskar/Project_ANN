{
 "cells": [
  {
   "cell_type": "code",
   "execution_count": 1,
   "id": "abf6f15d-0faf-446b-9707-d5dd91aec3a5",
   "metadata": {},
   "outputs": [],
   "source": [
    "# impor library yang diperlukan\n",
    "import pandas as pd"
   ]
  },
  {
   "cell_type": "code",
   "execution_count": 13,
   "id": "8e1c241b-3498-4f89-b336-0be4dc0534d2",
   "metadata": {},
   "outputs": [],
   "source": [
    "# impor dataset\n",
    "kaggle1 = pd.read_csv('../raw-datasets/Dataset_Kaggle1.csv', delimiter = ';')"
   ]
  },
  {
   "cell_type": "code",
   "execution_count": 17,
   "id": "4e77008f-6c8f-4022-82f6-6e0558b966e0",
   "metadata": {},
   "outputs": [
    {
     "data": {
      "text/plain": [
       "Gender           10000\n",
       "Age              10000\n",
       "Birth Weight     10000\n",
       "Birth Length     10000\n",
       "Body Weight      10000\n",
       "Body Length      10000\n",
       "Breastfeeding    10000\n",
       "Stunting         10000\n",
       "dtype: int64"
      ]
     },
     "execution_count": 17,
     "metadata": {},
     "output_type": "execute_result"
    }
   ],
   "source": [
    "# hitung total data\n",
    "kaggle1.count()"
   ]
  },
  {
   "cell_type": "code",
   "execution_count": 20,
   "id": "8721fd55-7a7d-4ded-9401-162708c871e8",
   "metadata": {},
   "outputs": [],
   "source": [
    "# hapus data bernilai kosong\n",
    "kaggle1.dropna(inplace=True)"
   ]
  },
  {
   "cell_type": "code",
   "execution_count": 22,
   "id": "475236e0-91d6-460b-85af-3989db22d252",
   "metadata": {},
   "outputs": [
    {
     "data": {
      "text/plain": [
       "Gender            object\n",
       "Age                int64\n",
       "Birth Weight     float64\n",
       "Birth Length       int64\n",
       "Body Weight      float64\n",
       "Body Length      float64\n",
       "Breastfeeding     object\n",
       "Stunting          object\n",
       "dtype: object"
      ]
     },
     "execution_count": 22,
     "metadata": {},
     "output_type": "execute_result"
    }
   ],
   "source": [
    "# cek tipe data\n",
    "kaggle1.dtypes"
   ]
  }
 ],
 "metadata": {
  "kernelspec": {
   "display_name": "Python 3 (ipykernel)",
   "language": "python",
   "name": "python3"
  },
  "language_info": {
   "codemirror_mode": {
    "name": "ipython",
    "version": 3
   },
   "file_extension": ".py",
   "mimetype": "text/x-python",
   "name": "python",
   "nbconvert_exporter": "python",
   "pygments_lexer": "ipython3",
   "version": "3.13.5"
  }
 },
 "nbformat": 4,
 "nbformat_minor": 5
}
