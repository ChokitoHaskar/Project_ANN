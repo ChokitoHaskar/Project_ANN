{
 "cells": [
  {
   "cell_type": "code",
   "execution_count": 284,
   "id": "3a51c6c3-8b9c-4ccb-a67b-28ec75cf9eb4",
   "metadata": {},
   "outputs": [],
   "source": [
    "# impor library yang dibutuhkan\n",
    "from matplotlib import pyplot as plt\n",
    "import pandas as pd\n",
    "import numpy as np"
   ]
  },
  {
   "cell_type": "code",
   "execution_count": 285,
   "id": "c4b2f4d6-413d-44af-8ead-569e85805ce4",
   "metadata": {},
   "outputs": [],
   "source": [
    "# impor dataset\n",
    "pemkomedan = pd.read_csv('../raw-datasets/Dataset-PemkoMedan.csv', delimiter=';', decimal=',')"
   ]
  },
  {
   "cell_type": "code",
   "execution_count": 286,
   "id": "96167635-3685-4c64-9fb5-40dc297a0b42",
   "metadata": {},
   "outputs": [
    {
     "data": {
      "text/plain": [
       "L/P           314\n",
       "Umur (bln)    314\n",
       "BB (Kg)       314\n",
       "Tb (Cm)       313\n",
       "dtype: int64"
      ]
     },
     "execution_count": 286,
     "metadata": {},
     "output_type": "execute_result"
    }
   ],
   "source": [
    "# cek total data\n",
    "pemkomedan.count()"
   ]
  },
  {
   "cell_type": "code",
   "execution_count": 287,
   "id": "0b2f6074-f5d5-465b-a25c-4b63d94e6ec7",
   "metadata": {},
   "outputs": [
    {
     "data": {
      "text/plain": [
       "L/P           object\n",
       "Umur (bln)    object\n",
       "BB (Kg)       object\n",
       "Tb (Cm)       object\n",
       "dtype: object"
      ]
     },
     "execution_count": 287,
     "metadata": {},
     "output_type": "execute_result"
    }
   ],
   "source": [
    "# cek tipe data\n",
    "pemkomedan.dtypes"
   ]
  },
  {
   "cell_type": "code",
   "execution_count": 288,
   "id": "e4fd7acb-e913-47f1-92a1-3ad6e0e30b4c",
   "metadata": {},
   "outputs": [],
   "source": [
    "# ubah nama fitur\n",
    "pemkomedan.rename(columns={\"L/P\":\"jenisKelamin\", \"Umur (bln)\":\"umur\", \"BB (Kg)\":\"beratBadan\", \"Tb (Cm)\":\"tinggiBadan\"}, inplace=True)"
   ]
  },
  {
   "cell_type": "code",
   "execution_count": 291,
   "id": "5e09d96d-e28d-4a5e-8569-832263508ce4",
   "metadata": {},
   "outputs": [
    {
     "data": {
      "text/plain": [
       "array(['P', 'L'], dtype=object)"
      ]
     },
     "execution_count": 291,
     "metadata": {},
     "output_type": "execute_result"
    }
   ],
   "source": [
    "# cek data label jenisKelamin\n",
    "pemkomedan.jenisKelamin.unique()"
   ]
  },
  {
   "cell_type": "code",
   "execution_count": 290,
   "id": "aef74fa7-3c85-4fd1-b307-7844407fd620",
   "metadata": {},
   "outputs": [],
   "source": [
    "# selaraskan label jenisKelamin\n",
    "pemkomedan.jenisKelamin = pemkomedan.jenisKelamin.replace(['pr', 'p'], 'P')\n",
    "pemkomedan.jenisKelamin = pemkomedan.jenisKelamin.replace(['lk', 'L '], 'L')"
   ]
  },
  {
   "cell_type": "code",
   "execution_count": 295,
   "id": "5bb7f366-64b4-4dbc-ab83-ef699c664c59",
   "metadata": {},
   "outputs": [
    {
     "data": {
      "text/plain": [
       "array([44, 42, 37, 36, 29, 23, 56, 35, 45, 18, 24, 43, 48, 52, 58, 51, 38,\n",
       "       49, 15, 22, 55, 16, 26, 32, 14, 41, 39, 33, 34, 40, 47, 50, 17, 28,\n",
       "       31, 19, 20, 46, 30,  6, 57, 21, 59, 60, 25, 13, 27, 53,  1,  7, 54])"
      ]
     },
     "execution_count": 295,
     "metadata": {},
     "output_type": "execute_result"
    }
   ],
   "source": [
    "# cek data label umur\n",
    "pemkomedan.umur.unique()"
   ]
  },
  {
   "cell_type": "code",
   "execution_count": 293,
   "id": "45ec857d-e102-4ebd-89b3-43ad6e69410b",
   "metadata": {},
   "outputs": [],
   "source": [
    "# memperbaiki label umur\n",
    "clean_umur_1 = pemkomedan.loc[pemkomedan.umur.str.contains('Bln|Bin|BLn'), 'umur'].str[0:-3].str.replace(' ', '')\n",
    "clean_umur_2 = pemkomedan.loc[pemkomedan.umur.str.contains('Bulan'), 'umur'].str[0:-5].str.replace(' ', '')\n",
    "# mengganti nilai umur\n",
    "pemkomedan.loc[pemkomedan.umur.str.contains('Bln|Bin|BLn'), 'umur'] = clean_umur_1\n",
    "pemkomedan.loc[pemkomedan.umur.str.contains('Bulan'), 'umur'] = clean_umur_2"
   ]
  },
  {
   "cell_type": "code",
   "execution_count": 294,
   "id": "4c52d564-e20f-454f-90b9-f4d49b9c1d6f",
   "metadata": {},
   "outputs": [],
   "source": [
    "# ubah LEWATUMUR menjadi nan\n",
    "pemkomedan.umur = pemkomedan.umur.replace('LEWATUMUR', np.nan)\n",
    "# cari nilai mean\n",
    "umur_notNa = pemkomedan.loc[pemkomedan.umur.notna(),'umur']\n",
    "mean_umur = umur_notNa.astype('int64').mean().round()\n",
    "# isi nilai nan menggunakan mean\n",
    "pemkomedan.umur = pemkomedan.umur.fillna(mean_umur)\n",
    "pemkomedan.umur = pemkomedan.umur.astype('int64')"
   ]
  },
  {
   "cell_type": "code",
   "execution_count": 300,
   "id": "6d540456-a208-473e-8b3c-e90186d3b16f",
   "metadata": {},
   "outputs": [
    {
     "data": {
      "text/plain": [
       "array([ 90.5,  94. ,  88. ,  84.5,  86. ,  81.5,  76.5,  85. ,  86.5,\n",
       "        84. ,  92.5,  74.5,  77.5,  88.5,  91.2,  91. ,  98. ,  90. ,\n",
       "        93. ,  68. ,  74. ,  93.5,  72. ,  69. ,  79. ,  89. ,  92. ,\n",
       "        78. ,  70. ,  64. ,  87. ,  91.5,  99. ,  96. ,  83. ,  81. ,\n",
       "        76. ,  73.4,  80.5,  87.1,  84.1,  85.7,  92.7,  83.5,  73. ,\n",
       "        72.5,  81.2,  60. ,  89.5,  95. ,  96.5, 100.2,  82. ,  89.2,\n",
       "        80. ,  75.5,  75. ,  77. , 867. ,  94.5, 884. ,  81.6,  94.6,\n",
       "        67. ,  87.5,  57. ,  93.3,  88.1,  78.2,  71. ])"
      ]
     },
     "execution_count": 300,
     "metadata": {},
     "output_type": "execute_result"
    }
   ],
   "source": [
    "# cek data label tinggiBadan\n",
    "pemkomedan.tinggiBadan.unique()"
   ]
  },
  {
   "cell_type": "code",
   "execution_count": 297,
   "id": "f3299456-4a0f-41b8-9533-8d7d103cb778",
   "metadata": {},
   "outputs": [],
   "source": [
    "# isi nilai nan untuk mencegah eror\n",
    "pemkomedan.tinggiBadan = pemkomedan.tinggiBadan.fillna('LEWATUMUR')"
   ]
  },
  {
   "cell_type": "code",
   "execution_count": 298,
   "id": "35741e29-eb17-4057-8003-f52afd5bda7d",
   "metadata": {},
   "outputs": [],
   "source": [
    "# memperbaiki label tinggiBadan\n",
    "clean_tinggiBadan = pemkomedan.loc[pemkomedan.tinggiBadan.str.contains('cm'),'tinggiBadan'].str[0:-2].str.replace(' ', '')\n",
    "# mengganti nilai tinggibadan \n",
    "pemkomedan.loc[pemkomedan.tinggiBadan.str.contains('cm'), 'tinggiBadan'] = clean_tinggiBadan\n",
    "# mengganti koma menjadi titik\n",
    "pemkomedan.tinggiBadan = pemkomedan.tinggiBadan.str.replace(',', '.')"
   ]
  },
  {
   "cell_type": "code",
   "execution_count": 299,
   "id": "4e911688-f53d-4958-b202-4e4cf854644f",
   "metadata": {},
   "outputs": [],
   "source": [
    "# mengubah LEWATUMUR dengan nan\n",
    "pemkomedan.tinggiBadan = pemkomedan.tinggiBadan.replace('LEWATUMUR', np.nan)\n",
    "# mencari nilai mean\n",
    "tinggi_notNa = pemkomedan.loc[pemkomedan.tinggiBadan.notna()]\n",
    "mean_tinggi = tinggi_notNa.tinggiBadan.astype('float64').mean().round(1)\n",
    "# mengisi nilai na dengan nilai mean\n",
    "pemkomedan.tinggiBadan = pemkomedan.tinggiBadan.fillna(mean_tinggi)\n",
    "pemkomedan.tinggiBadan = pemkomedan.tinggiBadan.astype('float64')"
   ]
  },
  {
   "cell_type": "code",
   "execution_count": 305,
   "id": "2cffe5db-0468-4031-a106-0ed50041ed37",
   "metadata": {},
   "outputs": [
    {
     "data": {
      "text/plain": [
       "array([13.  , 12.2 , 10.  ,  9.7 , 11.  ,  7.2 ,  9.4 , 13.2 , 11.5 ,\n",
       "        7.5 ,  9.  , 11.9 , 12.  , 11.4 , 10.2 ,  5.6 ,  7.3 ,  6.9 ,\n",
       "        6.5 ,  8.  ,  9.9 ,  7.  , 11.2 , 11.7 ,  9.3 ,  8.4 ,  5.7 ,\n",
       "        9.2 , 10.3 , 11.3 , 10.9 , 12.3 , 12.8 , 10.4 ,  8.8 , 11.8 ,\n",
       "        9.1 , 10.1 , 10.8 ,  7.8 ,  8.7 , 14.  , 10.5 , 12.5 , 13.5 ,\n",
       "        8.5 , 14.2 , 14.3 ,  5.4 , 10.7 , 12.1 , 14.4 , 10.6 , 12.9 ,\n",
       "        8.9 , 14.8 , 14.6 ,  9.8 , 11.6 ,  8.3 ,  8.6 ,  7.7 ,  6.6 ,\n",
       "        9.5 ,  9.6 ,  6.8 , 11.35,  9.45, 12.6 ,  8.2 ,  6.7 ,  5.  ,\n",
       "        7.1 , 13.7 , 13.6 , 13.3 , 14.7 ,  6.3 , 13.8 ,  7.9 ,  7.6 ])"
      ]
     },
     "execution_count": 305,
     "metadata": {},
     "output_type": "execute_result"
    }
   ],
   "source": [
    "# cek data label tinggiBadan\n",
    "pemkomedan.beratBadan.unique()"
   ]
  },
  {
   "cell_type": "code",
   "execution_count": 302,
   "id": "de71132b-2a8e-4e29-a171-c2f588b75e48",
   "metadata": {},
   "outputs": [],
   "source": [
    "# isi nilai nan untuk mencegah eror\n",
    "pemkomedan.beratBadan = pemkomedan.beratBadan.fillna('LEWATUMUR')"
   ]
  },
  {
   "cell_type": "code",
   "execution_count": 303,
   "id": "b746d05b-de45-46b9-a988-773acf4c0cc9",
   "metadata": {},
   "outputs": [],
   "source": [
    "# memperbaiki label beratBadan\n",
    "clean_beratBadan = pemkomedan.loc[pemkomedan.beratBadan.str.contains('kg|Kg|KG'),'beratBadan'].str[0:-2].str.replace(' ', '')\n",
    "# mengganti nilai beratBadan \n",
    "pemkomedan.loc[pemkomedan.beratBadan.str.contains('kg|Kg|KG'), 'beratBadan'] = clean_beratBadan\n",
    "# mengganti koma menjadi titik\n",
    "pemkomedan.beratBadan = pemkomedan.beratBadan.str.replace(',', '.')"
   ]
  },
  {
   "cell_type": "code",
   "execution_count": 304,
   "id": "965cec0b-bbcb-4e8a-b9c4-ad79bc1de587",
   "metadata": {},
   "outputs": [],
   "source": [
    "# mengubah LEWATUMUR dengan nan\n",
    "pemkomedan.beratBadan = pemkomedan.beratBadan.replace('LEWATUMUR', np.nan)\n",
    "# mencari nilai mean\n",
    "berat_notNa = pemkomedan.loc[pemkomedan.beratBadan.notna()]\n",
    "mean_berat = berat_notNa.beratBadan.astype('float64').mean().round(1)\n",
    "# mengisi nilai na dengan nilai mean\n",
    "pemkomedan.beratBadan = pemkomedan.beratBadan.fillna(mean_berat)\n",
    "pemkomedan.beratBadan = pemkomedan.beratBadan.astype('float64')"
   ]
  },
  {
   "cell_type": "code",
   "execution_count": 306,
   "id": "fef2fbb0-765c-441a-8620-1d841bf45b15",
   "metadata": {},
   "outputs": [
    {
     "data": {
      "text/plain": [
       "jenisKelamin     object\n",
       "umur              int64\n",
       "beratBadan      float64\n",
       "tinggiBadan     float64\n",
       "dtype: object"
      ]
     },
     "execution_count": 306,
     "metadata": {},
     "output_type": "execute_result"
    }
   ],
   "source": [
    "# cek tipe data\n",
    "pemkomedan.dtypes"
   ]
  },
  {
   "cell_type": "code",
   "execution_count": 307,
   "id": "8327677a-963e-43c2-8d50-f6c1a7067f5d",
   "metadata": {},
   "outputs": [],
   "source": [
    "# hapus noise pada seluruh fitur\n",
    "noise_umur = pemkomedan.loc[(pemkomedan.umur < 0) | (pemkomedan.umur > 60)]\n",
    "pemkomedan.drop(index = noise_umur.index, inplace=True)\n",
    "noise_berat = pemkomedan.loc[(pemkomedan.beratBadan < 1.9) | (pemkomedan.beratBadan > 31.2)]\n",
    "pemkomedan.drop(index = noise_berat.index, inplace=True)\n",
    "noise_tinggi = pemkomedan.loc[(pemkomedan.tinggiBadan < 43.6 ) | (pemkomedan.tinggiBadan > 123.9)]\n",
    "pemkomedan.drop(index = noise_tinggi.index, inplace=True)"
   ]
  },
  {
   "cell_type": "code",
   "execution_count": 312,
   "id": "05c02051-a266-46ef-a32f-8cc5d58a3c1a",
   "metadata": {},
   "outputs": [],
   "source": [
    "# hapus data duplikat\n",
    "pemkomedan.drop_duplicates(inplace=True)"
   ]
  },
  {
   "cell_type": "code",
   "execution_count": 313,
   "id": "9c72ccc0-a16d-4183-b0d7-2e568b3b8e06",
   "metadata": {},
   "outputs": [],
   "source": [
    "# acak susunan dataset\n",
    "pemkomedan = pemkomedan.sample(frac=1, ignore_index=True, random_state=18062025)"
   ]
  },
  {
   "cell_type": "code",
   "execution_count": 314,
   "id": "6c5a1134-0f28-4581-8e0f-b091ada9dbc9",
   "metadata": {},
   "outputs": [],
   "source": [
    "# ekspor dataset\n",
    "pemkomedan.to_csv('pemkomedan-clean.csv', index=False)"
   ]
  }
 ],
 "metadata": {
  "kernelspec": {
   "display_name": "Python 3 (ipykernel)",
   "language": "python",
   "name": "python3"
  },
  "language_info": {
   "codemirror_mode": {
    "name": "ipython",
    "version": 3
   },
   "file_extension": ".py",
   "mimetype": "text/x-python",
   "name": "python",
   "nbconvert_exporter": "python",
   "pygments_lexer": "ipython3",
   "version": "3.13.5"
  }
 },
 "nbformat": 4,
 "nbformat_minor": 5
}
