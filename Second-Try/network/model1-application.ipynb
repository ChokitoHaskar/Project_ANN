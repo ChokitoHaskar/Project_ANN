{
 "cells": [
  {
   "cell_type": "code",
   "execution_count": null,
   "id": "4e4e7c36-e55c-4cb0-995b-1f9913704d82",
   "metadata": {},
   "outputs": [],
   "source": [
    "# impor library\n",
    "from sklearn.neural_network import MLPClassifier as ann\n",
    "from sklearn.metrics import classification_report, confusion_matrix\n",
    "import joblib as jbl\n",
    "import pandas as pd"
   ]
  },
  {
   "cell_type": "code",
   "execution_count": null,
   "id": "fb40143b-cf34-46ea-9a66-396b0dc40ad5",
   "metadata": {},
   "outputs": [],
   "source": [
    "# impor dataset\n",
    "dataset_latih = pd.read_csv('../pre-processing/dataset_latih.csv')\n",
    "dataset_uji = pd.read_csv('../pre-processing/dataset_uji.csv')"
   ]
  },
  {
   "cell_type": "code",
   "execution_count": null,
   "id": "2231e23f-b4ac-4550-b393-c1242f4d6cf9",
   "metadata": {},
   "outputs": [],
   "source": [
    "# tetapkan fitur dan target latih\n",
    "fitur_latih = dataset_latih.loc[:, ['umur', 'jenisKelamin', 'tinggiBadan', 'beratBadan']]\n",
    "target_latih = dataset_latih.label\n",
    "# tetapkan fitur dan target uji\n",
    "fitur_uji = dataset_uji.loc[:, ['umur', 'jenisKelamin', 'tinggiBadan', 'beratBadan']]\n",
    "target_uji = dataset_uji.label"
   ]
  },
  {
   "cell_type": "code",
   "execution_count": null,
   "id": "6fe116bf-300d-475a-a163-7a339778b149",
   "metadata": {},
   "outputs": [],
   "source": [
    "# rancang jaringan model 1 - tipe 1\n",
    "model1_tipe1 = ann(hidden_layer_sizes=(9,), batch_size=2, max_iter=1400, learning_rate_init=0.001, random_state=18062025)\n",
    "# latih model\n",
    "model1_tipe1.fit(fitur_latih, target_latih)\n",
    "# uji model\n",
    "hasil_model1_tipe1 = model1_tipe1.predict(fitur_uji)\n",
    "# cetak hasil performa model\n",
    "print(classification_report(target_uji, hasil_model1_tipe1, target_names=['Sehat', 'Stunting', 'Wasting', 'Stunting & Wasting']))\n",
    "print(confusion_matrix(target_uji, hasil_model1_tipe1))"
   ]
  },
  {
   "cell_type": "code",
   "execution_count": null,
   "id": "569896d6-ea27-49ce-8f04-f4c668cf9c45",
   "metadata": {},
   "outputs": [],
   "source": [
    "# rancang jaringan model 1 - tipe 2\n",
    "model1_tipe2 = ann(hidden_layer_sizes=(9,), batch_size=2, max_iter=1400, learning_rate_init=0.01, random_state=18062025)\n",
    "# latih model\n",
    "model1_tipe2.fit(fitur_latih, target_latih)\n",
    "# uji model\n",
    "hasil_model1_tipe2 = model1_tipe2.predict(fitur_uji)\n",
    "# cetak hasil performa model\n",
    "print(classification_report(target_uji, hasil_model1_tipe2, target_names=['Sehat', 'Stunting', 'Wasting', 'Stunting & Wasting']))\n",
    "print(confusion_matrix(target_uji, hasil_model1_tipe2))"
   ]
  },
  {
   "cell_type": "code",
   "execution_count": null,
   "id": "c76703c4-0f69-4456-846c-448818d37cc4",
   "metadata": {},
   "outputs": [],
   "source": [
    "# rancang jaringan model 1 - tipe 3\n",
    "model1_tipe3 = ann(hidden_layer_sizes=(9,), batch_size=16, max_iter=1400, learning_rate_init=0.001, random_state=18062025)\n",
    "# latih model\n",
    "model1_tipe3.fit(fitur_latih, target_latih)\n",
    "# uji model\n",
    "hasil_model1_tipe3 = model1_tipe3.predict(fitur_uji)\n",
    "# cetak hasil performa model\n",
    "print(classification_report(target_uji, hasil_model1_tipe3, target_names=['Sehat', 'Stunting', 'Wasting', 'Stunting & Wasting']))\n",
    "print(confusion_matrix(target_uji, hasil_model1_tipe3))"
   ]
  },
  {
   "cell_type": "code",
   "execution_count": null,
   "id": "12e060c2-3402-46f3-bc62-e7710718af8f",
   "metadata": {},
   "outputs": [],
   "source": [
    "# rancang jaringan model 1 - tipe 4\n",
    "model1_tipe4 = ann(hidden_layer_sizes=(9,), batch_size=16, max_iter=1400, learning_rate_init=0.01, random_state=18062025)\n",
    "# latih model\n",
    "model1_tipe4.fit(fitur_latih, target_latih)\n",
    "# uji model\n",
    "hasil_model1_tipe4 = model1_tipe4.predict(fitur_uji)\n",
    "# cetak hasil performa model\n",
    "print(classification_report(target_uji, hasil_model1_tipe4, target_names=['Sehat', 'Stunting', 'Wasting', 'Stunting & Wasting']))\n",
    "print(confusion_matrix(target_uji, hasil_model1_tipe4))"
   ]
  },
  {
   "cell_type": "code",
   "execution_count": null,
   "id": "e74b948b-7733-41b0-baff-6184c7444dc8",
   "metadata": {},
   "outputs": [],
   "source": [
    "# simpan seluruh model jaringan pertama\n",
    "jbl.dump(model1_tipe1, 'models/model1-tipe1.pkl')\n",
    "jbl.dump(model1_tipe2, 'models/model1-tipe2.pkl')\n",
    "jbl.dump(model1_tipe3, 'models/model1-tipe3.pkl')\n",
    "jbl.dump(model1_tipe4, 'models/model1-tipe4.pkl')"
   ]
  }
 ],
 "metadata": {
  "kernelspec": {
   "display_name": "Python 3 (ipykernel)",
   "language": "python",
   "name": "python3"
  },
  "language_info": {
   "codemirror_mode": {
    "name": "ipython",
    "version": 3
   },
   "file_extension": ".py",
   "mimetype": "text/x-python",
   "name": "python",
   "nbconvert_exporter": "python",
   "pygments_lexer": "ipython3",
   "version": "3.13.5"
  }
 },
 "nbformat": 4,
 "nbformat_minor": 5
}
